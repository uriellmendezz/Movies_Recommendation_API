{
 "cells": [
  {
   "attachments": {},
   "cell_type": "markdown",
   "metadata": {},
   "source": [
    "## ETL"
   ]
  },
  {
   "cell_type": "code",
   "execution_count": 1,
   "metadata": {},
   "outputs": [],
   "source": [
    "import pandas as pd\n",
    "import json\n",
    "import ast"
   ]
  },
  {
   "attachments": {},
   "cell_type": "markdown",
   "metadata": {},
   "source": [
    "#### Cleaning 'cast' column"
   ]
  },
  {
   "cell_type": "code",
   "execution_count": 2,
   "metadata": {},
   "outputs": [
    {
     "data": {
      "text/html": [
       "<div>\n",
       "<style scoped>\n",
       "    .dataframe tbody tr th:only-of-type {\n",
       "        vertical-align: middle;\n",
       "    }\n",
       "\n",
       "    .dataframe tbody tr th {\n",
       "        vertical-align: top;\n",
       "    }\n",
       "\n",
       "    .dataframe thead th {\n",
       "        text-align: right;\n",
       "    }\n",
       "</style>\n",
       "<table border=\"1\" class=\"dataframe\">\n",
       "  <thead>\n",
       "    <tr style=\"text-align: right;\">\n",
       "      <th></th>\n",
       "      <th>cast</th>\n",
       "      <th>crew</th>\n",
       "      <th>id</th>\n",
       "    </tr>\n",
       "  </thead>\n",
       "  <tbody>\n",
       "    <tr>\n",
       "      <th>4342</th>\n",
       "      <td>[{'cast_id': 3, 'character': 'Taisto Olavi Kas...</td>\n",
       "      <td>[{'credit_id': '52fe420dc3a36847f800001f', 'de...</td>\n",
       "      <td>2</td>\n",
       "    </tr>\n",
       "    <tr>\n",
       "      <th>12947</th>\n",
       "      <td>[{'cast_id': 5, 'character': 'Nikander', 'cred...</td>\n",
       "      <td>[{'credit_id': '52fe420dc3a36847f8000077', 'de...</td>\n",
       "      <td>3</td>\n",
       "    </tr>\n",
       "    <tr>\n",
       "      <th>17</th>\n",
       "      <td>[{'cast_id': 42, 'character': 'Ted the Bellhop...</td>\n",
       "      <td>[{'credit_id': '52fe420dc3a36847f800011b', 'de...</td>\n",
       "      <td>5</td>\n",
       "    </tr>\n",
       "    <tr>\n",
       "      <th>474</th>\n",
       "      <td>[{'cast_id': 7, 'character': 'Frank Wyatt', 'c...</td>\n",
       "      <td>[{'credit_id': '52fe420dc3a36847f800023d', 'de...</td>\n",
       "      <td>6</td>\n",
       "    </tr>\n",
       "    <tr>\n",
       "      <th>256</th>\n",
       "      <td>[{'cast_id': 3, 'character': 'Luke Skywalker',...</td>\n",
       "      <td>[{'credit_id': '52fe420dc3a36847f8000437', 'de...</td>\n",
       "      <td>11</td>\n",
       "    </tr>\n",
       "  </tbody>\n",
       "</table>\n",
       "</div>"
      ],
      "text/plain": [
       "                                                    cast  \\\n",
       "4342   [{'cast_id': 3, 'character': 'Taisto Olavi Kas...   \n",
       "12947  [{'cast_id': 5, 'character': 'Nikander', 'cred...   \n",
       "17     [{'cast_id': 42, 'character': 'Ted the Bellhop...   \n",
       "474    [{'cast_id': 7, 'character': 'Frank Wyatt', 'c...   \n",
       "256    [{'cast_id': 3, 'character': 'Luke Skywalker',...   \n",
       "\n",
       "                                                    crew  id  \n",
       "4342   [{'credit_id': '52fe420dc3a36847f800001f', 'de...   2  \n",
       "12947  [{'credit_id': '52fe420dc3a36847f8000077', 'de...   3  \n",
       "17     [{'credit_id': '52fe420dc3a36847f800011b', 'de...   5  \n",
       "474    [{'credit_id': '52fe420dc3a36847f800023d', 'de...   6  \n",
       "256    [{'credit_id': '52fe420dc3a36847f8000437', 'de...  11  "
      ]
     },
     "execution_count": 2,
     "metadata": {},
     "output_type": "execute_result"
    }
   ],
   "source": [
    "df_credits = pd.read_csv('../datasets/credits.csv', delimiter = ',', encoding = 'utf-8')\n",
    "df_credits.sort_values(by = 'id').head()"
   ]
  },
  {
   "attachments": {},
   "cell_type": "markdown",
   "metadata": {},
   "source": [
    "Veo que claves tienen los diccionarios que estan anidades en la columna 'cast'"
   ]
  },
  {
   "cell_type": "code",
   "execution_count": 7,
   "metadata": {},
   "outputs": [
    {
     "data": {
      "text/plain": [
       "\"[{'cast_id': 14, 'character': 'Woody (voice)', 'credit_id': '52fe4284c3a36847f8024f95', 'gender': 2, 'id': 31, 'name': 'Tom Hanks', 'order': 0, 'profile_path': '/pQFoyx7rp09CJTAb932F2g8Nlho.jpg'}, {'cast_id': 15, 'character': 'Buzz Lightyear (voice)', 'credit_id': '52fe4284c3a36847f8024f99', 'gender': 2, 'id': 12898, 'name': 'Tim Allen', 'order': 1, 'profile_path': '/uX2xVf6pMmPepxnvFWyBtjexzgY.jpg'}, {'cast_id': 16, 'character': 'Mr. Potato Head (voice)', 'credit_id': '52fe4284c3a36847f8024f9d', 'gender': 2, 'id': 7167, 'name': 'Don Rickles', 'order': 2, 'profile_path': '/h5BcaDMPRVLHLDzbQavec4xfSdt.jpg'}, {'cast_id': 17, 'character': 'Slinky Dog (voice)', 'credit_id': '52fe4284c3a36847f8024fa1', 'gender': 2, 'id': 12899, 'name': 'Jim Varney', 'order': 3, 'profile_path': '/eIo2jVVXYgjDtaHoF19Ll9vtW7h.jpg'}, {'cast_id': 18, 'character': 'Rex (voice)', 'credit_id': '52fe4284c3a36847f8024fa5', 'gender': 2, 'id': 12900, 'name': 'Wallace Shawn', 'order': 4, 'profile_path': '/oGE6JqPP2xH4tNORKNqxbNPYi7u.jpg'}, {'cast_id': 19, 'character': 'Hamm (voice)', 'credit_id': '52fe4284c3a36847f8024fa9', 'gender': 2, 'id': 7907, 'name': 'John Ratzenberger', 'order': 5, 'profile_path': '/yGechiKWL6TJDfVE2KPSJYqdMsY.jpg'}, {'cast_id': 20, 'character': 'Bo Peep (voice)', 'credit_id': '52fe4284c3a36847f8024fad', 'gender': 1, 'id': 8873, 'name': 'Annie Potts', 'order': 6, 'profile_path': '/eryXT84RL41jHSJcMy4kS3u9y6w.jpg'}, {'cast_id': 26, 'character': 'Andy (voice)', 'credit_id': '52fe4284c3a36847f8024fc1', 'gender': 0, 'id': 1116442, 'name': 'John Morris', 'order': 7, 'profile_path': '/vYGyvK4LzeaUCoNSHtsuqJUY15M.jpg'}, {'cast_id': 22, 'character': 'Sid (voice)', 'credit_id': '52fe4284c3a36847f8024fb1', 'gender': 2, 'id': 12901, 'name': 'Erik von Detten', 'order': 8, 'profile_path': '/twnF1ZaJ1FUNUuo6xLXwcxjayBE.jpg'}, {'cast_id': 23, 'character': 'Mrs. Davis (voice)', 'credit_id': '52fe4284c3a36847f8024fb5', 'gender': 1, 'id': 12133, 'name': 'Laurie Metcalf', 'order': 9, 'profile_path': '/unMMIT60eoBM2sN2nyR7EZ2BvvD.jpg'}, {'cast_id': 24, 'character': 'Sergeant (voice)', 'credit_id': '52fe4284c3a36847f8024fb9', 'gender': 2, 'id': 8655, 'name': 'R. Lee Ermey', 'order': 10, 'profile_path': '/r8GBqFBjypLUP9VVqDqfZ7wYbSs.jpg'}, {'cast_id': 25, 'character': 'Hannah (voice)', 'credit_id': '52fe4284c3a36847f8024fbd', 'gender': 1, 'id': 12903, 'name': 'Sarah Freeman', 'order': 11, 'profile_path': None}, {'cast_id': 27, 'character': 'TV Announcer (voice)', 'credit_id': '52fe4284c3a36847f8024fc5', 'gender': 2, 'id': 37221, 'name': 'Penn Jillette', 'order': 12, 'profile_path': '/zmAaXUdx12NRsssgHbk1T31j2x9.jpg'}]\""
      ]
     },
     "execution_count": 7,
     "metadata": {},
     "output_type": "execute_result"
    }
   ],
   "source": [
    "df_credits.cast[0]"
   ]
  },
  {
   "cell_type": "code",
   "execution_count": 12,
   "metadata": {},
   "outputs": [],
   "source": [
    "columns = ['cast_id', 'character', 'credit_id', 'gender', 'id', 'name', 'order', 'profile_path','movie_id']"
   ]
  },
  {
   "cell_type": "code",
   "execution_count": 13,
   "metadata": {},
   "outputs": [],
   "source": [
    "cast_dataframe = pd.DataFrame(columns=columns)"
   ]
  },
  {
   "cell_type": "code",
   "execution_count": 14,
   "metadata": {},
   "outputs": [
    {
     "data": {
      "text/html": [
       "<div>\n",
       "<style scoped>\n",
       "    .dataframe tbody tr th:only-of-type {\n",
       "        vertical-align: middle;\n",
       "    }\n",
       "\n",
       "    .dataframe tbody tr th {\n",
       "        vertical-align: top;\n",
       "    }\n",
       "\n",
       "    .dataframe thead th {\n",
       "        text-align: right;\n",
       "    }\n",
       "</style>\n",
       "<table border=\"1\" class=\"dataframe\">\n",
       "  <thead>\n",
       "    <tr style=\"text-align: right;\">\n",
       "      <th></th>\n",
       "      <th>cast_id</th>\n",
       "      <th>character</th>\n",
       "      <th>credit_id</th>\n",
       "      <th>gender</th>\n",
       "      <th>id</th>\n",
       "      <th>name</th>\n",
       "      <th>order</th>\n",
       "      <th>profile_path</th>\n",
       "      <th>movie_id</th>\n",
       "    </tr>\n",
       "  </thead>\n",
       "  <tbody>\n",
       "  </tbody>\n",
       "</table>\n",
       "</div>"
      ],
      "text/plain": [
       "Empty DataFrame\n",
       "Columns: [cast_id, character, credit_id, gender, id, name, order, profile_path, movie_id]\n",
       "Index: []"
      ]
     },
     "execution_count": 14,
     "metadata": {},
     "output_type": "execute_result"
    }
   ],
   "source": [
    "cast_dataframe"
   ]
  },
  {
   "attachments": {},
   "cell_type": "markdown",
   "metadata": {},
   "source": [
    "Para el proceso de extraccion de datos dentro de los diccionarios que contienen las columnas 'cast' y 'crew', creo una funcion que automatice el proceso."
   ]
  },
  {
   "cell_type": "code",
   "execution_count": 65,
   "metadata": {},
   "outputs": [],
   "source": [
    "def desanidar_datos(column_df, column_id):\n",
    "    \"\"\" Recibe una columna de un dataframe que tenga diccionarios anidados como valores en formato string y devuelve un datafame nuevo con toda la información extraida \"\"\"\n",
    "    # Diccionario donde se van a alojar todos los datos comprimidos que contiene la columna\n",
    "    main_dictionary = {'movie_id':[]}\n",
    "\n",
    "    # Creo un ciclo para cada valor de la columna, es decir cada campo (field)\n",
    "    for index, value in enumerate(column_df):\n",
    "        if value in ('NaN','nan','none','None','NAN') or type(value) != str:\n",
    "            continue\n",
    "        else:\n",
    "            # Elimino algunos caracteres de cada valor para poder hacer una mejor limpieza\n",
    "            value = value.replace('[','').replace(']','').replace(\"\\\\\",\"\").replace('{','').replace(\"'\",\"\").replace('\"','')\n",
    "            # Como cada valor tiene varios diccionarios anidados, con split() divido los diccionarios en una lista\n",
    "            # para asi poder tenerlos por separados\n",
    "            listas_texto = value.split('}')\n",
    "\n",
    "            clean_rows = [] # Lista para almacenar lso diccionarios 'limpios'\n",
    "\n",
    "            # Al hacer la division de los diccionarios con el metodo split(), nos devuelve que cada diccionario a parti del segundo elemento de la lista\n",
    "            # contiene ', ' al principio de la cadena. Entonces quito eos caracteres para poder limpiar la cadena y asi obtener un formato de diccionario\n",
    "            for diccionario in listas_texto:\n",
    "                # Hay algunos diccionario vienen vacios, por lo tantos los salteo y continuo con el loop\n",
    "                if len(diccionario) < 10:\n",
    "                    continue\n",
    "                else:\n",
    "                    if diccionario[0] == ',':\n",
    "                        diccionario = diccionario[2:]\n",
    "                        clean_rows.append(diccionario)\n",
    "                    else:\n",
    "                        clean_rows.append(diccionario)\n",
    "\n",
    "            blocks = []\n",
    "\n",
    "            # Una vez que tengo los diccionarios con un mejor formato para su tratamiento, procedo a realizar otra division\n",
    "            # a partir de las comas (','). Con esta division obtengo en una lista varios 'bloques' que se asemejan\n",
    "            # mejor a la estructura de un diccionario.\n",
    "            \n",
    "            for line in clean_rows:\n",
    "                line = line.split(',')\n",
    "                blocks.append(line) # Agrego estos 'bloques' a una lista general llamada \"blocks\" para que las conserve\n",
    "\n",
    "            all_info = [] # Creo una nueva lista para guardar toda la información extraida de los bloque\n",
    "\n",
    "            # Entonces, una vez generado estos bloques, que podrian ser como diccionarios, hago de nuevo otro split() a partir\n",
    "            # de los dos puntos (':'). Con esto obtengo una lista con varios elementos, en la cual, en cada elemento\n",
    "            # tendre en la posicion [0] las claves y en la posición [1] los valores\n",
    "            for block in blocks:\n",
    "                for feature in block:\n",
    "                    feature = feature.lstrip().split(':')\n",
    "                    all_info.append(feature)\n",
    "\n",
    "            # Ahora que ya tengo toda a info bien extraida de los diccionarios, empiezo con la ingesta de los datos\n",
    "            # al diccionario prinicipal en el cual se va a alojar toda la información de la columna, o mejor dicho, \n",
    "            # la información comprimida que estaba en cada uno de los diccionarios anidados en formato de string.\n",
    "            \n",
    "            for data in all_info:\n",
    "                # data[0] --> claves\n",
    "                # data[1] --> valores\n",
    "                if len(data) == 2:\n",
    "                    if data[0] in main_dictionary:\n",
    "                        main_dictionary[data[0]].append(data[1])\n",
    "                        try:\n",
    "                            movie_id = column_id[index]\n",
    "                            main_dictionary['movie_id'].append(movie_id)\n",
    "                        except KeyError:\n",
    "                            movie_id = column_id[index - 1]\n",
    "                            movie_id = f'{movie_id} + 1'\n",
    "                            main_dictionary['movie_id'].append(movie_id)\n",
    "                    else: # Si no existe la clave en el main_dictonary, que la cree y que luego inserte le valor en la clave\n",
    "                        main_dictionary[data[0]] = []\n",
    "                        main_dictionary[data[0]].append(data[1])\n",
    "                        try:\n",
    "                            movie_id = column_id[index]\n",
    "                            main_dictionary['movie_id'].append(movie_id)\n",
    "                        except KeyError:\n",
    "                            movie_id = column_id[index - 1]\n",
    "                            movie_id = f'{movie_id} + 1'\n",
    "                            main_dictionary['movie_id'].append(movie_id)\n",
    "                else:\n",
    "                    continue\n",
    "\n",
    "            # Como para la creación de un dataframe, todas las claves del diccionario deben tener la misma longitud de valores entre si\n",
    "            # Por lo tanto, para prevenir un error y que se me caiga todo el proceso anterior:\n",
    "            # Obtengo el numero maximo de valores que tiene una clave\n",
    "        if main_dictionary:\n",
    "            longitud_maxima = max(len(valores) for valores in main_dictionary.values())\n",
    "\n",
    "            # En esta linea me aseguro que todos los valores tengan la misma longitud que el valor de la longitud_maxima de arriba\n",
    "            \n",
    "            # Acá se actualiza el main_dictionary, asegurándose de que todos los valores tengan la misma longitud \n",
    "            # mediante el relleno de valores 'None' para aquellos que son mas cortos.\n",
    "            main_dictionary = {clave: valores + [None] * (longitud_maxima - len(valores)) for clave, valores in main_dictionary.items()}\n",
    "        \n",
    "        df = pd.DataFrame(main_dictionary)\n",
    "        columns_to_delete= df.columns[df.columns != 'movie_id']\n",
    "        df.dropna(subset=columns_to_delete, how='all', inplace=True)\n",
    "  \n",
    "        # Finalmente una vez que ya tenga el main_dictonary con la misma longitud en todas las claves,\n",
    "        # creo un dataframe para alojar todos los datos y luego hago que la función retorne el df\n",
    "    return df"
   ]
  },
  {
   "cell_type": "code",
   "execution_count": 4,
   "metadata": {},
   "outputs": [],
   "source": [
    "df_credits = df_credits.drop_duplicates(subset='id')"
   ]
  },
  {
   "cell_type": "code",
   "execution_count": 66,
   "metadata": {},
   "outputs": [],
   "source": [
    "cast_data = desanidar_datos(df_credits.cast[:200],df_credits.id[:200])"
   ]
  },
  {
   "cell_type": "code",
   "execution_count": 67,
   "metadata": {},
   "outputs": [
    {
     "data": {
      "text/html": [
       "<div>\n",
       "<style scoped>\n",
       "    .dataframe tbody tr th:only-of-type {\n",
       "        vertical-align: middle;\n",
       "    }\n",
       "\n",
       "    .dataframe tbody tr th {\n",
       "        vertical-align: top;\n",
       "    }\n",
       "\n",
       "    .dataframe thead th {\n",
       "        text-align: right;\n",
       "    }\n",
       "</style>\n",
       "<table border=\"1\" class=\"dataframe\">\n",
       "  <thead>\n",
       "    <tr style=\"text-align: right;\">\n",
       "      <th></th>\n",
       "      <th>movie_id</th>\n",
       "      <th>cast_id</th>\n",
       "      <th>character</th>\n",
       "      <th>credit_id</th>\n",
       "      <th>gender</th>\n",
       "      <th>id</th>\n",
       "      <th>name</th>\n",
       "      <th>order</th>\n",
       "      <th>profile_path</th>\n",
       "    </tr>\n",
       "  </thead>\n",
       "  <tbody>\n",
       "  </tbody>\n",
       "</table>\n",
       "</div>"
      ],
      "text/plain": [
       "Empty DataFrame\n",
       "Columns: [movie_id, cast_id, character, credit_id, gender, id, name, order, profile_path]\n",
       "Index: []"
      ]
     },
     "execution_count": 67,
     "metadata": {},
     "output_type": "execute_result"
    }
   ],
   "source": [
    "cast_data.loc[(cast_data.credit_id.isnull()) & (cast_data.cast_id.isnull())]"
   ]
  },
  {
   "cell_type": "code",
   "execution_count": null,
   "metadata": {},
   "outputs": [],
   "source": [
    "cast_data.to_csv('../clean_data/cast_dataset_clean.csv',sep=',',index=False)"
   ]
  },
  {
   "cell_type": "code",
   "execution_count": 7,
   "metadata": {},
   "outputs": [
    {
     "data": {
      "text/plain": [
       "Index(['cast_id', 'character', 'credit_id', 'gender', 'id', 'name', 'order',\n",
       "       'profile_path'],\n",
       "      dtype='object')"
      ]
     },
     "execution_count": 7,
     "metadata": {},
     "output_type": "execute_result"
    }
   ],
   "source": [
    "cast_data.columns"
   ]
  },
  {
   "cell_type": "code",
   "execution_count": 198,
   "metadata": {},
   "outputs": [],
   "source": [
    "cast = cast_data.copy()\n",
    "cast.drop(columns={'from Notater om kærligheden 1989 featured in segment Obstruction #4 - The Perfect Human',\n",
    "                   'Lewis Carroll'}, inplace=True)"
   ]
  },
  {
   "cell_type": "code",
   "execution_count": 267,
   "metadata": {},
   "outputs": [],
   "source": [
    "for column in cast:\n",
    "    cast[column] = cast[column].str.lstrip()\n",
    "cast.to_csv('../clean_data/cast_data.csv', index=False, lineterminator='\\n')"
   ]
  },
  {
   "cell_type": "code",
   "execution_count": 24,
   "metadata": {},
   "outputs": [],
   "source": [
    "crew_data = desanidar_datos(df_credits.crew,df_credits.id)"
   ]
  },
  {
   "cell_type": "code",
   "execution_count": 262,
   "metadata": {},
   "outputs": [
    {
     "data": {
      "text/html": [
       "<div>\n",
       "<style scoped>\n",
       "    .dataframe tbody tr th:only-of-type {\n",
       "        vertical-align: middle;\n",
       "    }\n",
       "\n",
       "    .dataframe tbody tr th {\n",
       "        vertical-align: top;\n",
       "    }\n",
       "\n",
       "    .dataframe thead th {\n",
       "        text-align: right;\n",
       "    }\n",
       "</style>\n",
       "<table border=\"1\" class=\"dataframe\">\n",
       "  <thead>\n",
       "    <tr style=\"text-align: right;\">\n",
       "      <th></th>\n",
       "      <th>credit_id</th>\n",
       "      <th>department</th>\n",
       "      <th>gender</th>\n",
       "      <th>id</th>\n",
       "      <th>job</th>\n",
       "      <th>name</th>\n",
       "      <th>profile_path</th>\n",
       "    </tr>\n",
       "  </thead>\n",
       "  <tbody>\n",
       "    <tr>\n",
       "      <th>0</th>\n",
       "      <td>52fe4284c3a36847f8024f49</td>\n",
       "      <td>Directing</td>\n",
       "      <td>2</td>\n",
       "      <td>7879</td>\n",
       "      <td>Director</td>\n",
       "      <td>John Lasseter</td>\n",
       "      <td>/7EdqiNbr4FRjIhKHyPPdFfEEEFG.jpg</td>\n",
       "    </tr>\n",
       "    <tr>\n",
       "      <th>1</th>\n",
       "      <td>52fe4284c3a36847f8024f4f</td>\n",
       "      <td>Writing</td>\n",
       "      <td>2</td>\n",
       "      <td>12891</td>\n",
       "      <td>Screenplay</td>\n",
       "      <td>Joss Whedon</td>\n",
       "      <td>/dTiVsuaTVTeGmvkhcyJvKp2A5kr.jpg</td>\n",
       "    </tr>\n",
       "    <tr>\n",
       "      <th>2</th>\n",
       "      <td>52fe4284c3a36847f8024f55</td>\n",
       "      <td>Writing</td>\n",
       "      <td>2</td>\n",
       "      <td>7</td>\n",
       "      <td>Screenplay</td>\n",
       "      <td>Andrew Stanton</td>\n",
       "      <td>/pvQWsu0qc8JFQhMVJkTHuexUAa1.jpg</td>\n",
       "    </tr>\n",
       "    <tr>\n",
       "      <th>3</th>\n",
       "      <td>52fe4284c3a36847f8024f5b</td>\n",
       "      <td>Writing</td>\n",
       "      <td>2</td>\n",
       "      <td>12892</td>\n",
       "      <td>Screenplay</td>\n",
       "      <td>Joel Cohen</td>\n",
       "      <td>/dAubAiZcvKFbboWlj7oXOkZnTSu.jpg</td>\n",
       "    </tr>\n",
       "    <tr>\n",
       "      <th>4</th>\n",
       "      <td>52fe4284c3a36847f8024f61</td>\n",
       "      <td>Writing</td>\n",
       "      <td>0</td>\n",
       "      <td>12893</td>\n",
       "      <td>Screenplay</td>\n",
       "      <td>Alec Sokolow</td>\n",
       "      <td>/v79vlRYi94BZUQnkkyznbGUZLjT.jpg</td>\n",
       "    </tr>\n",
       "  </tbody>\n",
       "</table>\n",
       "</div>"
      ],
      "text/plain": [
       "                   credit_id  department gender      id          job  \\\n",
       "0   52fe4284c3a36847f8024f49   Directing      2    7879     Director   \n",
       "1   52fe4284c3a36847f8024f4f     Writing      2   12891   Screenplay   \n",
       "2   52fe4284c3a36847f8024f55     Writing      2       7   Screenplay   \n",
       "3   52fe4284c3a36847f8024f5b     Writing      2   12892   Screenplay   \n",
       "4   52fe4284c3a36847f8024f61     Writing      0   12893   Screenplay   \n",
       "\n",
       "              name                       profile_path  \n",
       "0    John Lasseter   /7EdqiNbr4FRjIhKHyPPdFfEEEFG.jpg  \n",
       "1      Joss Whedon   /dTiVsuaTVTeGmvkhcyJvKp2A5kr.jpg  \n",
       "2   Andrew Stanton   /pvQWsu0qc8JFQhMVJkTHuexUAa1.jpg  \n",
       "3       Joel Cohen   /dAubAiZcvKFbboWlj7oXOkZnTSu.jpg  \n",
       "4     Alec Sokolow   /v79vlRYi94BZUQnkkyznbGUZLjT.jpg  "
      ]
     },
     "execution_count": 262,
     "metadata": {},
     "output_type": "execute_result"
    }
   ],
   "source": [
    "crew_data.head()"
   ]
  },
  {
   "cell_type": "code",
   "execution_count": 266,
   "metadata": {},
   "outputs": [],
   "source": [
    "for column in crew_data:\n",
    "    crew_data[column] = crew_data[column].str.lstrip()\n",
    "crew_data.to_csv('../clean_data/crew_data.csv', index=False, lineterminator='\\n')"
   ]
  },
  {
   "cell_type": "code",
   "execution_count": 26,
   "metadata": {},
   "outputs": [],
   "source": [
    "columns_to_clean = df_movies[['belongs_to_collection','genres','spoken_languages','production_companies','production_countries']]"
   ]
  },
  {
   "cell_type": "code",
   "execution_count": 233,
   "metadata": {},
   "outputs": [],
   "source": [
    "genres_data = desanidar_datos(columns_to_clean.genres)"
   ]
  },
  {
   "cell_type": "code",
   "execution_count": 234,
   "metadata": {},
   "outputs": [],
   "source": [
    "genres_data.id = genres_data.id.str.lstrip()\n",
    "genres_data.name = genres_data.name.str.lstrip()"
   ]
  },
  {
   "cell_type": "code",
   "execution_count": 235,
   "metadata": {},
   "outputs": [
    {
     "data": {
      "text/html": [
       "<div>\n",
       "<style scoped>\n",
       "    .dataframe tbody tr th:only-of-type {\n",
       "        vertical-align: middle;\n",
       "    }\n",
       "\n",
       "    .dataframe tbody tr th {\n",
       "        vertical-align: top;\n",
       "    }\n",
       "\n",
       "    .dataframe thead th {\n",
       "        text-align: right;\n",
       "    }\n",
       "</style>\n",
       "<table border=\"1\" class=\"dataframe\">\n",
       "  <thead>\n",
       "    <tr style=\"text-align: right;\">\n",
       "      <th></th>\n",
       "      <th>id</th>\n",
       "      <th>name</th>\n",
       "    </tr>\n",
       "  </thead>\n",
       "  <tbody>\n",
       "    <tr>\n",
       "      <th>0</th>\n",
       "      <td>16</td>\n",
       "      <td>Animation</td>\n",
       "    </tr>\n",
       "    <tr>\n",
       "      <th>1</th>\n",
       "      <td>35</td>\n",
       "      <td>Comedy</td>\n",
       "    </tr>\n",
       "    <tr>\n",
       "      <th>2</th>\n",
       "      <td>10751</td>\n",
       "      <td>Family</td>\n",
       "    </tr>\n",
       "    <tr>\n",
       "      <th>3</th>\n",
       "      <td>12</td>\n",
       "      <td>Adventure</td>\n",
       "    </tr>\n",
       "    <tr>\n",
       "      <th>4</th>\n",
       "      <td>14</td>\n",
       "      <td>Fantasy</td>\n",
       "    </tr>\n",
       "    <tr>\n",
       "      <th>...</th>\n",
       "      <td>...</td>\n",
       "      <td>...</td>\n",
       "    </tr>\n",
       "    <tr>\n",
       "      <th>91101</th>\n",
       "      <td>10751</td>\n",
       "      <td>Family</td>\n",
       "    </tr>\n",
       "    <tr>\n",
       "      <th>91102</th>\n",
       "      <td>18</td>\n",
       "      <td>Drama</td>\n",
       "    </tr>\n",
       "    <tr>\n",
       "      <th>91103</th>\n",
       "      <td>28</td>\n",
       "      <td>Action</td>\n",
       "    </tr>\n",
       "    <tr>\n",
       "      <th>91104</th>\n",
       "      <td>18</td>\n",
       "      <td>Drama</td>\n",
       "    </tr>\n",
       "    <tr>\n",
       "      <th>91105</th>\n",
       "      <td>53</td>\n",
       "      <td>Thriller</td>\n",
       "    </tr>\n",
       "  </tbody>\n",
       "</table>\n",
       "<p>91106 rows × 2 columns</p>\n",
       "</div>"
      ],
      "text/plain": [
       "          id       name\n",
       "0         16  Animation\n",
       "1         35     Comedy\n",
       "2      10751     Family\n",
       "3         12  Adventure\n",
       "4         14    Fantasy\n",
       "...      ...        ...\n",
       "91101  10751     Family\n",
       "91102     18      Drama\n",
       "91103     28     Action\n",
       "91104     18      Drama\n",
       "91105     53   Thriller\n",
       "\n",
       "[91106 rows x 2 columns]"
      ]
     },
     "execution_count": 235,
     "metadata": {},
     "output_type": "execute_result"
    }
   ],
   "source": [
    "genres_data"
   ]
  },
  {
   "cell_type": "code",
   "execution_count": 21,
   "metadata": {},
   "outputs": [],
   "source": [
    "def export_to_csv(dataframe, path):\n",
    "    dataframe.to_csv(path, sep=',',index=False,lineterminator='\\n')\n",
    "    print('CSV Downloaded')"
   ]
  },
  {
   "cell_type": "code",
   "execution_count": 236,
   "metadata": {},
   "outputs": [
    {
     "name": "stdout",
     "output_type": "stream",
     "text": [
      "CSV Downloaded\n"
     ]
    }
   ],
   "source": [
    "export_to_csv(genres_data,'../clean_data/genres_data.csv')"
   ]
  },
  {
   "cell_type": "code",
   "execution_count": 258,
   "metadata": {},
   "outputs": [
    {
     "data": {
      "text/html": [
       "<div>\n",
       "<style scoped>\n",
       "    .dataframe tbody tr th:only-of-type {\n",
       "        vertical-align: middle;\n",
       "    }\n",
       "\n",
       "    .dataframe tbody tr th {\n",
       "        vertical-align: top;\n",
       "    }\n",
       "\n",
       "    .dataframe thead th {\n",
       "        text-align: right;\n",
       "    }\n",
       "</style>\n",
       "<table border=\"1\" class=\"dataframe\">\n",
       "  <thead>\n",
       "    <tr style=\"text-align: right;\">\n",
       "      <th></th>\n",
       "      <th>id</th>\n",
       "      <th>name</th>\n",
       "      <th>poster_path</th>\n",
       "      <th>backdrop_path</th>\n",
       "    </tr>\n",
       "  </thead>\n",
       "  <tbody>\n",
       "    <tr>\n",
       "      <th>0</th>\n",
       "      <td>10194</td>\n",
       "      <td>Toy Story Collection</td>\n",
       "      <td>/7G9915LfUQ2lVfwMEEhDsn3kT4B.jpg</td>\n",
       "      <td>/9FBwqcd9IRruEDUrTdcaafOMKUq.jpg</td>\n",
       "    </tr>\n",
       "    <tr>\n",
       "      <th>1</th>\n",
       "      <td>119050</td>\n",
       "      <td>Grumpy Old Men Collection</td>\n",
       "      <td>/nLvUdqgPgm3F85NMCii9gVFUcet.jpg</td>\n",
       "      <td>/hypTnLot2z8wpFS7qwsQHW1uV8u.jpg</td>\n",
       "    </tr>\n",
       "    <tr>\n",
       "      <th>2</th>\n",
       "      <td>96871</td>\n",
       "      <td>Father of the Bride Collection</td>\n",
       "      <td>/nts4iOmNnq7GNicycMJ9pSAn204.jpg</td>\n",
       "      <td>/7qwE57OVZmMJChBpLEbJEmzUydk.jpg</td>\n",
       "    </tr>\n",
       "    <tr>\n",
       "      <th>3</th>\n",
       "      <td>645</td>\n",
       "      <td>James Bond Collection</td>\n",
       "      <td>/HORpg5CSkmeQlAolx3bKMrKgfi.jpg</td>\n",
       "      <td>/6VcVl48kNKvdXOZfJPdarlUGOsk.jpg</td>\n",
       "    </tr>\n",
       "    <tr>\n",
       "      <th>4</th>\n",
       "      <td>117693</td>\n",
       "      <td>Balto Collection</td>\n",
       "      <td>/w0ZgH6Lgxt2bQYnf1ss74UvYftm.jpg</td>\n",
       "      <td>/9VM5LiJV0bGb1st1KyHA3cVnO2G.jpg</td>\n",
       "    </tr>\n",
       "    <tr>\n",
       "      <th>...</th>\n",
       "      <td>...</td>\n",
       "      <td>...</td>\n",
       "      <td>...</td>\n",
       "      <td>...</td>\n",
       "    </tr>\n",
       "    <tr>\n",
       "      <th>4486</th>\n",
       "      <td>37261</td>\n",
       "      <td>The Carry On Collection</td>\n",
       "      <td>/2P0HNrYgKDvirV8RCdT1rBSJdbJ.jpg</td>\n",
       "      <td>/38tF1LJN7ULeZAuAfP7beaPMfcl.jpg</td>\n",
       "    </tr>\n",
       "    <tr>\n",
       "      <th>4487</th>\n",
       "      <td>37261</td>\n",
       "      <td>The Carry On Collection</td>\n",
       "      <td>/2P0HNrYgKDvirV8RCdT1rBSJdbJ.jpg</td>\n",
       "      <td>/38tF1LJN7ULeZAuAfP7beaPMfcl.jpg</td>\n",
       "    </tr>\n",
       "    <tr>\n",
       "      <th>4488</th>\n",
       "      <td>37261</td>\n",
       "      <td>The Carry On Collection</td>\n",
       "      <td>/2P0HNrYgKDvirV8RCdT1rBSJdbJ.jpg</td>\n",
       "      <td>/38tF1LJN7ULeZAuAfP7beaPMfcl.jpg</td>\n",
       "    </tr>\n",
       "    <tr>\n",
       "      <th>4489</th>\n",
       "      <td>477208</td>\n",
       "      <td>DC Super Hero Girls Collection</td>\n",
       "      <td>None</td>\n",
       "      <td>None</td>\n",
       "    </tr>\n",
       "    <tr>\n",
       "      <th>4490</th>\n",
       "      <td>200641</td>\n",
       "      <td>Red Lotus Collection</td>\n",
       "      <td>/yf9Eod9ANXyHTzDpAxz9ezgvlL4.jpg</td>\n",
       "      <td>/3fhHbLeO3DqdHvgHg5szs399eBb.jpg</td>\n",
       "    </tr>\n",
       "  </tbody>\n",
       "</table>\n",
       "<p>4491 rows × 4 columns</p>\n",
       "</div>"
      ],
      "text/plain": [
       "           id                             name  \\\n",
       "0       10194             Toy Story Collection   \n",
       "1      119050        Grumpy Old Men Collection   \n",
       "2       96871   Father of the Bride Collection   \n",
       "3         645            James Bond Collection   \n",
       "4      117693                 Balto Collection   \n",
       "...       ...                              ...   \n",
       "4486    37261          The Carry On Collection   \n",
       "4487    37261          The Carry On Collection   \n",
       "4488    37261          The Carry On Collection   \n",
       "4489   477208   DC Super Hero Girls Collection   \n",
       "4490   200641             Red Lotus Collection   \n",
       "\n",
       "                            poster_path                      backdrop_path  \n",
       "0      /7G9915LfUQ2lVfwMEEhDsn3kT4B.jpg   /9FBwqcd9IRruEDUrTdcaafOMKUq.jpg  \n",
       "1      /nLvUdqgPgm3F85NMCii9gVFUcet.jpg   /hypTnLot2z8wpFS7qwsQHW1uV8u.jpg  \n",
       "2      /nts4iOmNnq7GNicycMJ9pSAn204.jpg   /7qwE57OVZmMJChBpLEbJEmzUydk.jpg  \n",
       "3       /HORpg5CSkmeQlAolx3bKMrKgfi.jpg   /6VcVl48kNKvdXOZfJPdarlUGOsk.jpg  \n",
       "4      /w0ZgH6Lgxt2bQYnf1ss74UvYftm.jpg   /9VM5LiJV0bGb1st1KyHA3cVnO2G.jpg  \n",
       "...                                 ...                                ...  \n",
       "4486   /2P0HNrYgKDvirV8RCdT1rBSJdbJ.jpg   /38tF1LJN7ULeZAuAfP7beaPMfcl.jpg  \n",
       "4487   /2P0HNrYgKDvirV8RCdT1rBSJdbJ.jpg   /38tF1LJN7ULeZAuAfP7beaPMfcl.jpg  \n",
       "4488   /2P0HNrYgKDvirV8RCdT1rBSJdbJ.jpg   /38tF1LJN7ULeZAuAfP7beaPMfcl.jpg  \n",
       "4489                               None                               None  \n",
       "4490   /yf9Eod9ANXyHTzDpAxz9ezgvlL4.jpg   /3fhHbLeO3DqdHvgHg5szs399eBb.jpg  \n",
       "\n",
       "[4491 rows x 4 columns]"
      ]
     },
     "execution_count": 258,
     "metadata": {},
     "output_type": "execute_result"
    }
   ],
   "source": [
    "belongs_to_collection_column = columns_to_clean.belongs_to_collection\n",
    "belongs_to_collection_data = desanidar_datos(belongs_to_collection_column)\n",
    "belongs_to_collection_data"
   ]
  },
  {
   "cell_type": "code",
   "execution_count": 259,
   "metadata": {},
   "outputs": [
    {
     "name": "stdout",
     "output_type": "stream",
     "text": [
      "CSV Downloaded\n"
     ]
    }
   ],
   "source": [
    "belongs_to_collection_data.id = belongs_to_collection_data.id.str.lstrip()\n",
    "belongs_to_collection_data.name = belongs_to_collection_data.name.str.lstrip()\n",
    "belongs_to_collection_data.poster_path = belongs_to_collection_data.poster_path.str.lstrip()\n",
    "belongs_to_collection_data.backdrop_path = belongs_to_collection_data.backdrop_path.str.lstrip()\n",
    "export_to_csv(belongs_to_collection_data,'../clean_data/belogns_to_collection_data.csv')"
   ]
  },
  {
   "cell_type": "code",
   "execution_count": 254,
   "metadata": {},
   "outputs": [],
   "source": [
    "spoken_languages_column = columns_to_clean.spoken_languages\n",
    "spoken_languages_data = desanidar_datos(spoken_languages_column)"
   ]
  },
  {
   "cell_type": "code",
   "execution_count": 255,
   "metadata": {},
   "outputs": [
    {
     "data": {
      "text/html": [
       "<div>\n",
       "<style scoped>\n",
       "    .dataframe tbody tr th:only-of-type {\n",
       "        vertical-align: middle;\n",
       "    }\n",
       "\n",
       "    .dataframe tbody tr th {\n",
       "        vertical-align: top;\n",
       "    }\n",
       "\n",
       "    .dataframe thead th {\n",
       "        text-align: right;\n",
       "    }\n",
       "</style>\n",
       "<table border=\"1\" class=\"dataframe\">\n",
       "  <thead>\n",
       "    <tr style=\"text-align: right;\">\n",
       "      <th></th>\n",
       "      <th>iso_639_1</th>\n",
       "      <th>name</th>\n",
       "    </tr>\n",
       "  </thead>\n",
       "  <tbody>\n",
       "    <tr>\n",
       "      <th>0</th>\n",
       "      <td>en</td>\n",
       "      <td>English</td>\n",
       "    </tr>\n",
       "    <tr>\n",
       "      <th>1</th>\n",
       "      <td>en</td>\n",
       "      <td>English</td>\n",
       "    </tr>\n",
       "    <tr>\n",
       "      <th>2</th>\n",
       "      <td>fr</td>\n",
       "      <td>Français</td>\n",
       "    </tr>\n",
       "    <tr>\n",
       "      <th>3</th>\n",
       "      <td>en</td>\n",
       "      <td>English</td>\n",
       "    </tr>\n",
       "    <tr>\n",
       "      <th>4</th>\n",
       "      <td>en</td>\n",
       "      <td>English</td>\n",
       "    </tr>\n",
       "    <tr>\n",
       "      <th>...</th>\n",
       "      <td>...</td>\n",
       "      <td>...</td>\n",
       "    </tr>\n",
       "    <tr>\n",
       "      <th>53295</th>\n",
       "      <td>en</td>\n",
       "      <td>English</td>\n",
       "    </tr>\n",
       "    <tr>\n",
       "      <th>53296</th>\n",
       "      <td>fa</td>\n",
       "      <td>فارسی</td>\n",
       "    </tr>\n",
       "    <tr>\n",
       "      <th>53297</th>\n",
       "      <td>tl</td>\n",
       "      <td></td>\n",
       "    </tr>\n",
       "    <tr>\n",
       "      <th>53298</th>\n",
       "      <td>en</td>\n",
       "      <td>English</td>\n",
       "    </tr>\n",
       "    <tr>\n",
       "      <th>53299</th>\n",
       "      <td>en</td>\n",
       "      <td>English</td>\n",
       "    </tr>\n",
       "  </tbody>\n",
       "</table>\n",
       "<p>53300 rows × 2 columns</p>\n",
       "</div>"
      ],
      "text/plain": [
       "      iso_639_1       name\n",
       "0            en    English\n",
       "1            en    English\n",
       "2            fr   Français\n",
       "3            en    English\n",
       "4            en    English\n",
       "...         ...        ...\n",
       "53295        en    English\n",
       "53296        fa      فارسی\n",
       "53297        tl           \n",
       "53298        en    English\n",
       "53299        en    English\n",
       "\n",
       "[53300 rows x 2 columns]"
      ]
     },
     "execution_count": 255,
     "metadata": {},
     "output_type": "execute_result"
    }
   ],
   "source": [
    "spoken_languages_data"
   ]
  },
  {
   "cell_type": "code",
   "execution_count": 257,
   "metadata": {},
   "outputs": [
    {
     "name": "stdout",
     "output_type": "stream",
     "text": [
      "CSV Downloaded\n"
     ]
    }
   ],
   "source": [
    "spoken_languages_data.iso_639_1 = spoken_languages_data.iso_639_1.str.lstrip()\n",
    "spoken_languages_data.name = spoken_languages_data.name.str.lstrip()\n",
    "\n",
    "export_to_csv(spoken_languages_data,'../clean_data/spoken_languages_data.csv')"
   ]
  },
  {
   "cell_type": "code",
   "execution_count": 16,
   "metadata": {},
   "outputs": [],
   "source": [
    "production_companies_column = columns_to_clean.production_companies\n",
    "production_companies_data = desanidar_datos(production_companies_column)\n",
    "production_companies_data.id = production_companies_data.id.str.lstrip()\n",
    "production_companies_data.name = production_companies_data.name.str.lstrip()"
   ]
  },
  {
   "cell_type": "code",
   "execution_count": 17,
   "metadata": {},
   "outputs": [],
   "source": [
    "production_countries_column = columns_to_clean.production_countries\n",
    "production_countries_data = desanidar_datos(production_countries_column)\n",
    "production_countries_data.iso_3166_1 = production_countries_data.iso_3166_1.str.lstrip()\n",
    "production_countries_data.name = production_countries_data.name.str.lstrip()"
   ]
  },
  {
   "cell_type": "code",
   "execution_count": 19,
   "metadata": {},
   "outputs": [
    {
     "data": {
      "text/html": [
       "<div>\n",
       "<style scoped>\n",
       "    .dataframe tbody tr th:only-of-type {\n",
       "        vertical-align: middle;\n",
       "    }\n",
       "\n",
       "    .dataframe tbody tr th {\n",
       "        vertical-align: top;\n",
       "    }\n",
       "\n",
       "    .dataframe thead th {\n",
       "        text-align: right;\n",
       "    }\n",
       "</style>\n",
       "<table border=\"1\" class=\"dataframe\">\n",
       "  <thead>\n",
       "    <tr style=\"text-align: right;\">\n",
       "      <th></th>\n",
       "      <th>name</th>\n",
       "      <th>id</th>\n",
       "    </tr>\n",
       "  </thead>\n",
       "  <tbody>\n",
       "    <tr>\n",
       "      <th>0</th>\n",
       "      <td>Pixar Animation Studios</td>\n",
       "      <td>3</td>\n",
       "    </tr>\n",
       "    <tr>\n",
       "      <th>1</th>\n",
       "      <td>TriStar Pictures</td>\n",
       "      <td>559</td>\n",
       "    </tr>\n",
       "    <tr>\n",
       "      <th>2</th>\n",
       "      <td>Teitler Film</td>\n",
       "      <td>2550</td>\n",
       "    </tr>\n",
       "    <tr>\n",
       "      <th>3</th>\n",
       "      <td>Interscope Communications</td>\n",
       "      <td>10201</td>\n",
       "    </tr>\n",
       "    <tr>\n",
       "      <th>4</th>\n",
       "      <td>Warner Bros.</td>\n",
       "      <td>6194</td>\n",
       "    </tr>\n",
       "  </tbody>\n",
       "</table>\n",
       "</div>"
      ],
      "text/plain": [
       "                         name      id\n",
       "0     Pixar Animation Studios       3\n",
       "1            TriStar Pictures     559\n",
       "2                Teitler Film    2550\n",
       "3   Interscope Communications   10201\n",
       "4                Warner Bros.    6194"
      ]
     },
     "execution_count": 19,
     "metadata": {},
     "output_type": "execute_result"
    }
   ],
   "source": [
    "production_companies_data.head()"
   ]
  },
  {
   "cell_type": "code",
   "execution_count": 34,
   "metadata": {},
   "outputs": [
    {
     "name": "stdout",
     "output_type": "stream",
     "text": [
      "CSV Downloaded\n"
     ]
    }
   ],
   "source": [
    "export_to_csv(production_companies_data,'../clean_data/production_companies_data.csv')"
   ]
  },
  {
   "cell_type": "code",
   "execution_count": 35,
   "metadata": {},
   "outputs": [
    {
     "name": "stdout",
     "output_type": "stream",
     "text": [
      "CSV Downloaded\n"
     ]
    }
   ],
   "source": [
    "export_to_csv(production_countries_data,'../clean_data/production_countries_data.csv')"
   ]
  }
 ],
 "metadata": {
  "kernelspec": {
   "display_name": "Python 3",
   "language": "python",
   "name": "python3"
  },
  "language_info": {
   "codemirror_mode": {
    "name": "ipython",
    "version": 3
   },
   "file_extension": ".py",
   "mimetype": "text/x-python",
   "name": "python",
   "nbconvert_exporter": "python",
   "pygments_lexer": "ipython3",
   "version": "3.10.11"
  },
  "orig_nbformat": 4
 },
 "nbformat": 4,
 "nbformat_minor": 2
}
