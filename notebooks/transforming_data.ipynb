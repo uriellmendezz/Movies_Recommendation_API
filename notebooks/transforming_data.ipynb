{
 "cells": [
  {
   "attachments": {},
   "cell_type": "markdown",
   "metadata": {},
   "source": [
    "Ahora con la data limpia, extraida correctamente y cargada en archivos 'csv', procedo a cargar dichos archivos para su limpieza y normalización de columnas"
   ]
  },
  {
   "attachments": {},
   "cell_type": "markdown",
   "metadata": {},
   "source": [
    "# EDA"
   ]
  },
  {
   "cell_type": "code",
   "execution_count": 37,
   "metadata": {},
   "outputs": [],
   "source": [
    "# Librerias a utilizar\n",
    "import pandas as pd\n",
    "import warnings\n",
    "import numpy as np\n",
    "warnings.filterwarnings('ignore')\n",
    "import ast"
   ]
  },
  {
   "cell_type": "code",
   "execution_count": 38,
   "metadata": {},
   "outputs": [],
   "source": [
    "movies_csv = pd.read_csv('../clean_data/clean_movies_dataset.csv')"
   ]
  },
  {
   "cell_type": "code",
   "execution_count": 39,
   "metadata": {},
   "outputs": [
    {
     "data": {
      "text/html": [
       "<div>\n",
       "<style scoped>\n",
       "    .dataframe tbody tr th:only-of-type {\n",
       "        vertical-align: middle;\n",
       "    }\n",
       "\n",
       "    .dataframe tbody tr th {\n",
       "        vertical-align: top;\n",
       "    }\n",
       "\n",
       "    .dataframe thead th {\n",
       "        text-align: right;\n",
       "    }\n",
       "</style>\n",
       "<table border=\"1\" class=\"dataframe\">\n",
       "  <thead>\n",
       "    <tr style=\"text-align: right;\">\n",
       "      <th></th>\n",
       "      <th>adult</th>\n",
       "      <th>belongs_to_collection</th>\n",
       "      <th>budget</th>\n",
       "      <th>genres</th>\n",
       "      <th>homepage</th>\n",
       "      <th>id</th>\n",
       "      <th>imdb_id</th>\n",
       "      <th>original_language</th>\n",
       "      <th>original_title</th>\n",
       "      <th>overview</th>\n",
       "      <th>...</th>\n",
       "      <th>revenue</th>\n",
       "      <th>runtime</th>\n",
       "      <th>spoken_languages</th>\n",
       "      <th>status</th>\n",
       "      <th>tagline</th>\n",
       "      <th>title</th>\n",
       "      <th>video</th>\n",
       "      <th>vote_average</th>\n",
       "      <th>vote_count</th>\n",
       "      <th>production_countries_code</th>\n",
       "    </tr>\n",
       "  </thead>\n",
       "  <tbody>\n",
       "    <tr>\n",
       "      <th>0</th>\n",
       "      <td>False</td>\n",
       "      <td>Toy Story Collection</td>\n",
       "      <td>30000000</td>\n",
       "      <td>[Animation, Comedy, Family]</td>\n",
       "      <td>http://toystory.disney.com/toy-story</td>\n",
       "      <td>862</td>\n",
       "      <td>tt0114709</td>\n",
       "      <td>en</td>\n",
       "      <td>Toy Story</td>\n",
       "      <td>Led by Woody, Andy's toys live happily in his ...</td>\n",
       "      <td>...</td>\n",
       "      <td>373554033.0</td>\n",
       "      <td>81.0</td>\n",
       "      <td>[English]</td>\n",
       "      <td>Released</td>\n",
       "      <td>NaN</td>\n",
       "      <td>Toy Story</td>\n",
       "      <td>False</td>\n",
       "      <td>7.7</td>\n",
       "      <td>5415.0</td>\n",
       "      <td>[US]</td>\n",
       "    </tr>\n",
       "    <tr>\n",
       "      <th>1</th>\n",
       "      <td>False</td>\n",
       "      <td>NaN</td>\n",
       "      <td>65000000</td>\n",
       "      <td>[Adventure, Family, Fantasy]</td>\n",
       "      <td>NaN</td>\n",
       "      <td>8844</td>\n",
       "      <td>tt0113497</td>\n",
       "      <td>en</td>\n",
       "      <td>Jumanji</td>\n",
       "      <td>When siblings Judy and Peter discover an encha...</td>\n",
       "      <td>...</td>\n",
       "      <td>262797249.0</td>\n",
       "      <td>104.0</td>\n",
       "      <td>[English, Français]</td>\n",
       "      <td>Released</td>\n",
       "      <td>Roll the dice and unleash the excitement!</td>\n",
       "      <td>Jumanji</td>\n",
       "      <td>False</td>\n",
       "      <td>6.9</td>\n",
       "      <td>2413.0</td>\n",
       "      <td>[US]</td>\n",
       "    </tr>\n",
       "  </tbody>\n",
       "</table>\n",
       "<p>2 rows × 25 columns</p>\n",
       "</div>"
      ],
      "text/plain": [
       "   adult  belongs_to_collection    budget                        genres  \\\n",
       "0  False   Toy Story Collection  30000000   [Animation, Comedy, Family]   \n",
       "1  False                    NaN  65000000  [Adventure, Family, Fantasy]   \n",
       "\n",
       "                               homepage    id    imdb_id original_language  \\\n",
       "0  http://toystory.disney.com/toy-story   862  tt0114709                en   \n",
       "1                                   NaN  8844  tt0113497                en   \n",
       "\n",
       "  original_title                                           overview  ...  \\\n",
       "0      Toy Story  Led by Woody, Andy's toys live happily in his ...  ...   \n",
       "1        Jumanji  When siblings Judy and Peter discover an encha...  ...   \n",
       "\n",
       "       revenue runtime     spoken_languages    status  \\\n",
       "0  373554033.0    81.0            [English]  Released   \n",
       "1  262797249.0   104.0  [English, Français]  Released   \n",
       "\n",
       "                                     tagline      title  video vote_average  \\\n",
       "0                                        NaN  Toy Story  False          7.7   \n",
       "1  Roll the dice and unleash the excitement!    Jumanji  False          6.9   \n",
       "\n",
       "  vote_count production_countries_code  \n",
       "0     5415.0                      [US]  \n",
       "1     2413.0                      [US]  \n",
       "\n",
       "[2 rows x 25 columns]"
      ]
     },
     "execution_count": 39,
     "metadata": {},
     "output_type": "execute_result"
    }
   ],
   "source": [
    "movies_csv.head(2)"
   ]
  },
  {
   "cell_type": "code",
   "execution_count": 40,
   "metadata": {},
   "outputs": [
    {
     "data": {
      "text/plain": [
       "(45466, 25)"
      ]
     },
     "execution_count": 40,
     "metadata": {},
     "output_type": "execute_result"
    }
   ],
   "source": [
    "df_movies = movies_csv.copy()\n",
    "df_movies.shape"
   ]
  },
  {
   "cell_type": "code",
   "execution_count": 41,
   "metadata": {},
   "outputs": [
    {
     "data": {
      "text/html": [
       "<div>\n",
       "<style scoped>\n",
       "    .dataframe tbody tr th:only-of-type {\n",
       "        vertical-align: middle;\n",
       "    }\n",
       "\n",
       "    .dataframe tbody tr th {\n",
       "        vertical-align: top;\n",
       "    }\n",
       "\n",
       "    .dataframe thead th {\n",
       "        text-align: right;\n",
       "    }\n",
       "</style>\n",
       "<table border=\"1\" class=\"dataframe\">\n",
       "  <thead>\n",
       "    <tr style=\"text-align: right;\">\n",
       "      <th></th>\n",
       "      <th>adult</th>\n",
       "      <th>belongs_to_collection</th>\n",
       "      <th>budget</th>\n",
       "      <th>genres</th>\n",
       "      <th>homepage</th>\n",
       "      <th>id</th>\n",
       "      <th>imdb_id</th>\n",
       "      <th>original_language</th>\n",
       "      <th>original_title</th>\n",
       "      <th>overview</th>\n",
       "      <th>...</th>\n",
       "      <th>revenue</th>\n",
       "      <th>runtime</th>\n",
       "      <th>spoken_languages</th>\n",
       "      <th>status</th>\n",
       "      <th>tagline</th>\n",
       "      <th>title</th>\n",
       "      <th>video</th>\n",
       "      <th>vote_average</th>\n",
       "      <th>vote_count</th>\n",
       "      <th>production_countries_code</th>\n",
       "    </tr>\n",
       "  </thead>\n",
       "  <tbody>\n",
       "    <tr>\n",
       "      <th>0</th>\n",
       "      <td>False</td>\n",
       "      <td>Toy Story Collection</td>\n",
       "      <td>30000000</td>\n",
       "      <td>[Animation, Comedy, Family]</td>\n",
       "      <td>http://toystory.disney.com/toy-story</td>\n",
       "      <td>862</td>\n",
       "      <td>tt0114709</td>\n",
       "      <td>en</td>\n",
       "      <td>Toy Story</td>\n",
       "      <td>Led by Woody, Andy's toys live happily in his ...</td>\n",
       "      <td>...</td>\n",
       "      <td>373554033.0</td>\n",
       "      <td>81.0</td>\n",
       "      <td>[English]</td>\n",
       "      <td>Released</td>\n",
       "      <td>NaN</td>\n",
       "      <td>Toy Story</td>\n",
       "      <td>False</td>\n",
       "      <td>7.7</td>\n",
       "      <td>5415.0</td>\n",
       "      <td>[US]</td>\n",
       "    </tr>\n",
       "    <tr>\n",
       "      <th>1</th>\n",
       "      <td>False</td>\n",
       "      <td>NaN</td>\n",
       "      <td>65000000</td>\n",
       "      <td>[Adventure, Family, Fantasy]</td>\n",
       "      <td>NaN</td>\n",
       "      <td>8844</td>\n",
       "      <td>tt0113497</td>\n",
       "      <td>en</td>\n",
       "      <td>Jumanji</td>\n",
       "      <td>When siblings Judy and Peter discover an encha...</td>\n",
       "      <td>...</td>\n",
       "      <td>262797249.0</td>\n",
       "      <td>104.0</td>\n",
       "      <td>[English, Français]</td>\n",
       "      <td>Released</td>\n",
       "      <td>Roll the dice and unleash the excitement!</td>\n",
       "      <td>Jumanji</td>\n",
       "      <td>False</td>\n",
       "      <td>6.9</td>\n",
       "      <td>2413.0</td>\n",
       "      <td>[US]</td>\n",
       "    </tr>\n",
       "    <tr>\n",
       "      <th>2</th>\n",
       "      <td>False</td>\n",
       "      <td>Grumpy Old Men Collection</td>\n",
       "      <td>0</td>\n",
       "      <td>[Comedy, Romance]</td>\n",
       "      <td>NaN</td>\n",
       "      <td>15602</td>\n",
       "      <td>tt0113228</td>\n",
       "      <td>en</td>\n",
       "      <td>Grumpier Old Men</td>\n",
       "      <td>A family wedding reignites the ancient feud be...</td>\n",
       "      <td>...</td>\n",
       "      <td>0.0</td>\n",
       "      <td>101.0</td>\n",
       "      <td>[English]</td>\n",
       "      <td>Released</td>\n",
       "      <td>Still Yelling. Still Fighting. Still Ready for...</td>\n",
       "      <td>Grumpier Old Men</td>\n",
       "      <td>False</td>\n",
       "      <td>6.5</td>\n",
       "      <td>92.0</td>\n",
       "      <td>[US]</td>\n",
       "    </tr>\n",
       "    <tr>\n",
       "      <th>3</th>\n",
       "      <td>False</td>\n",
       "      <td>NaN</td>\n",
       "      <td>16000000</td>\n",
       "      <td>[Comedy, Drama, Romance]</td>\n",
       "      <td>NaN</td>\n",
       "      <td>31357</td>\n",
       "      <td>tt0114885</td>\n",
       "      <td>en</td>\n",
       "      <td>Waiting to Exhale</td>\n",
       "      <td>Cheated on, mistreated and stepped on, the wom...</td>\n",
       "      <td>...</td>\n",
       "      <td>81452156.0</td>\n",
       "      <td>127.0</td>\n",
       "      <td>[English]</td>\n",
       "      <td>Released</td>\n",
       "      <td>Friends are the people who let you be yourself...</td>\n",
       "      <td>Waiting to Exhale</td>\n",
       "      <td>False</td>\n",
       "      <td>6.1</td>\n",
       "      <td>34.0</td>\n",
       "      <td>[US]</td>\n",
       "    </tr>\n",
       "    <tr>\n",
       "      <th>4</th>\n",
       "      <td>False</td>\n",
       "      <td>Father of the Bride Collection</td>\n",
       "      <td>0</td>\n",
       "      <td>[Comedy]</td>\n",
       "      <td>NaN</td>\n",
       "      <td>11862</td>\n",
       "      <td>tt0113041</td>\n",
       "      <td>en</td>\n",
       "      <td>Father of the Bride Part II</td>\n",
       "      <td>Just when George Banks has recovered from his ...</td>\n",
       "      <td>...</td>\n",
       "      <td>76578911.0</td>\n",
       "      <td>106.0</td>\n",
       "      <td>[English]</td>\n",
       "      <td>Released</td>\n",
       "      <td>Just When His World Is Back To Normal... He's ...</td>\n",
       "      <td>Father of the Bride Part II</td>\n",
       "      <td>False</td>\n",
       "      <td>5.7</td>\n",
       "      <td>173.0</td>\n",
       "      <td>[US]</td>\n",
       "    </tr>\n",
       "  </tbody>\n",
       "</table>\n",
       "<p>5 rows × 25 columns</p>\n",
       "</div>"
      ],
      "text/plain": [
       "   adult            belongs_to_collection    budget  \\\n",
       "0  False             Toy Story Collection  30000000   \n",
       "1  False                              NaN  65000000   \n",
       "2  False        Grumpy Old Men Collection         0   \n",
       "3  False                              NaN  16000000   \n",
       "4  False   Father of the Bride Collection         0   \n",
       "\n",
       "                         genres                              homepage     id  \\\n",
       "0   [Animation, Comedy, Family]  http://toystory.disney.com/toy-story    862   \n",
       "1  [Adventure, Family, Fantasy]                                   NaN   8844   \n",
       "2             [Comedy, Romance]                                   NaN  15602   \n",
       "3      [Comedy, Drama, Romance]                                   NaN  31357   \n",
       "4                      [Comedy]                                   NaN  11862   \n",
       "\n",
       "     imdb_id original_language               original_title  \\\n",
       "0  tt0114709                en                    Toy Story   \n",
       "1  tt0113497                en                      Jumanji   \n",
       "2  tt0113228                en             Grumpier Old Men   \n",
       "3  tt0114885                en            Waiting to Exhale   \n",
       "4  tt0113041                en  Father of the Bride Part II   \n",
       "\n",
       "                                            overview  ...      revenue  \\\n",
       "0  Led by Woody, Andy's toys live happily in his ...  ...  373554033.0   \n",
       "1  When siblings Judy and Peter discover an encha...  ...  262797249.0   \n",
       "2  A family wedding reignites the ancient feud be...  ...          0.0   \n",
       "3  Cheated on, mistreated and stepped on, the wom...  ...   81452156.0   \n",
       "4  Just when George Banks has recovered from his ...  ...   76578911.0   \n",
       "\n",
       "  runtime     spoken_languages    status  \\\n",
       "0    81.0            [English]  Released   \n",
       "1   104.0  [English, Français]  Released   \n",
       "2   101.0            [English]  Released   \n",
       "3   127.0            [English]  Released   \n",
       "4   106.0            [English]  Released   \n",
       "\n",
       "                                             tagline  \\\n",
       "0                                                NaN   \n",
       "1          Roll the dice and unleash the excitement!   \n",
       "2  Still Yelling. Still Fighting. Still Ready for...   \n",
       "3  Friends are the people who let you be yourself...   \n",
       "4  Just When His World Is Back To Normal... He's ...   \n",
       "\n",
       "                         title  video vote_average vote_count  \\\n",
       "0                    Toy Story  False          7.7     5415.0   \n",
       "1                      Jumanji  False          6.9     2413.0   \n",
       "2             Grumpier Old Men  False          6.5       92.0   \n",
       "3            Waiting to Exhale  False          6.1       34.0   \n",
       "4  Father of the Bride Part II  False          5.7      173.0   \n",
       "\n",
       "  production_countries_code  \n",
       "0                      [US]  \n",
       "1                      [US]  \n",
       "2                      [US]  \n",
       "3                      [US]  \n",
       "4                      [US]  \n",
       "\n",
       "[5 rows x 25 columns]"
      ]
     },
     "execution_count": 41,
     "metadata": {},
     "output_type": "execute_result"
    }
   ],
   "source": [
    "df_movies.head()"
   ]
  },
  {
   "attachments": {},
   "cell_type": "markdown",
   "metadata": {},
   "source": [
    "Actualizo los valores nuelos de las columnas 'revenue' y 'budget' y les aplico 0"
   ]
  },
  {
   "cell_type": "code",
   "execution_count": 42,
   "metadata": {},
   "outputs": [
    {
     "name": "stdout",
     "output_type": "stream",
     "text": [
      "Cantidad de nulos en la columna revenue:  6\n",
      "Cantidad de nulos en la columna budget:  0\n"
     ]
    }
   ],
   "source": [
    "print('Cantidad de nulos en la columna revenue: ',df_movies.revenue.isna().sum())\n",
    "print('Cantidad de nulos en la columna budget: ',df_movies.budget.isna().sum())"
   ]
  },
  {
   "cell_type": "code",
   "execution_count": 43,
   "metadata": {},
   "outputs": [],
   "source": [
    "df_movies.revenue.fillna(0,inplace=True)\n",
    "# df_movies.revenue.loc[df_movies.revenue.isna()] = 0"
   ]
  },
  {
   "cell_type": "code",
   "execution_count": 44,
   "metadata": {},
   "outputs": [
    {
     "data": {
      "text/plain": [
       "0"
      ]
     },
     "execution_count": 44,
     "metadata": {},
     "output_type": "execute_result"
    }
   ],
   "source": [
    "df_movies.revenue.isna().sum()"
   ]
  },
  {
   "cell_type": "code",
   "execution_count": 45,
   "metadata": {},
   "outputs": [
    {
     "data": {
      "text/plain": [
       "0           36573\n",
       "5000000       286\n",
       "10000000      259\n",
       "20000000      243\n",
       "2000000       242\n",
       "            ...  \n",
       "923             1\n",
       "72500000        1\n",
       "2160000         1\n",
       "4439832         1\n",
       "1254040         1\n",
       "Name: budget, Length: 1226, dtype: int64"
      ]
     },
     "execution_count": 45,
     "metadata": {},
     "output_type": "execute_result"
    }
   ],
   "source": [
    "df_movies.budget.value_counts()"
   ]
  },
  {
   "attachments": {},
   "cell_type": "markdown",
   "metadata": {},
   "source": [
    "Elimino los valores nulos de la columna 'release_date'"
   ]
  },
  {
   "cell_type": "code",
   "execution_count": 46,
   "metadata": {},
   "outputs": [
    {
     "name": "stdout",
     "output_type": "stream",
     "text": [
      "Antes: (45466, 25)\n",
      "Despues: (45379, 25)\n"
     ]
    }
   ],
   "source": [
    "print('Antes:',df_movies.shape)\n",
    "df_movies.dropna(subset=['release_date'],inplace=True)\n",
    "print('Despues:',df_movies.shape)\n"
   ]
  },
  {
   "attachments": {},
   "cell_type": "markdown",
   "metadata": {},
   "source": [
    "Transformo los campos de fecha a formato 'AAAA-mm-dd'"
   ]
  },
  {
   "cell_type": "code",
   "execution_count": 47,
   "metadata": {},
   "outputs": [],
   "source": [
    "#df_movies.release_date = pd.to_datetime(arg=df_movies.release_date, format='%Y-%m-%d')"
   ]
  },
  {
   "attachments": {},
   "cell_type": "markdown",
   "metadata": {},
   "source": [
    "Al intentar trasnformar la columna 'release_date' a un formato de fecha,  recibo un error que ya hay valores que no tienen el formato correcto. Ahora los voy a buscar"
   ]
  },
  {
   "cell_type": "code",
   "execution_count": 48,
   "metadata": {},
   "outputs": [],
   "source": [
    "incorrectos = df_movies.release_date.loc[df_movies.release_date.str.contains('-') == False].index"
   ]
  },
  {
   "cell_type": "code",
   "execution_count": 49,
   "metadata": {},
   "outputs": [
    {
     "data": {
      "text/html": [
       "<div>\n",
       "<style scoped>\n",
       "    .dataframe tbody tr th:only-of-type {\n",
       "        vertical-align: middle;\n",
       "    }\n",
       "\n",
       "    .dataframe tbody tr th {\n",
       "        vertical-align: top;\n",
       "    }\n",
       "\n",
       "    .dataframe thead th {\n",
       "        text-align: right;\n",
       "    }\n",
       "</style>\n",
       "<table border=\"1\" class=\"dataframe\">\n",
       "  <thead>\n",
       "    <tr style=\"text-align: right;\">\n",
       "      <th></th>\n",
       "      <th>adult</th>\n",
       "      <th>belongs_to_collection</th>\n",
       "      <th>budget</th>\n",
       "      <th>genres</th>\n",
       "      <th>homepage</th>\n",
       "      <th>id</th>\n",
       "      <th>imdb_id</th>\n",
       "      <th>original_language</th>\n",
       "      <th>original_title</th>\n",
       "      <th>overview</th>\n",
       "      <th>...</th>\n",
       "      <th>revenue</th>\n",
       "      <th>runtime</th>\n",
       "      <th>spoken_languages</th>\n",
       "      <th>status</th>\n",
       "      <th>tagline</th>\n",
       "      <th>title</th>\n",
       "      <th>video</th>\n",
       "      <th>vote_average</th>\n",
       "      <th>vote_count</th>\n",
       "      <th>production_countries_code</th>\n",
       "    </tr>\n",
       "  </thead>\n",
       "  <tbody>\n",
       "    <tr>\n",
       "      <th>19730</th>\n",
       "      <td>- Written by Ørnås</td>\n",
       "      <td>0.065736</td>\n",
       "      <td>/ff9qCepilowshEtG2GYWwzt2bs4.jpg</td>\n",
       "      <td>[Carousel Productions, Telescene Film Group Pr...</td>\n",
       "      <td>[{'iso_3166_1': 'CA', 'name': 'Canada'}, {'iso...</td>\n",
       "      <td>1997-08-20</td>\n",
       "      <td>0</td>\n",
       "      <td>104.0</td>\n",
       "      <td>[{'iso_639_1': 'en', 'name': 'English'}]</td>\n",
       "      <td>Released</td>\n",
       "      <td>...</td>\n",
       "      <td>0.0</td>\n",
       "      <td>NaN</td>\n",
       "      <td>NaN</td>\n",
       "      <td>NaN</td>\n",
       "      <td>NaN</td>\n",
       "      <td>NaN</td>\n",
       "      <td>NaN</td>\n",
       "      <td>NaN</td>\n",
       "      <td>NaN</td>\n",
       "      <td>[]</td>\n",
       "    </tr>\n",
       "    <tr>\n",
       "      <th>29503</th>\n",
       "      <td>Rune Balot goes to a casino connected to the ...</td>\n",
       "      <td>1.931659</td>\n",
       "      <td>/zV8bHuSL6WXoD6FWogP9j4x80bL.jpg</td>\n",
       "      <td>[Aniplex, BROSTA TV, GoHands, Mardock Scramble...</td>\n",
       "      <td>[{'iso_3166_1': 'US', 'name': 'United States o...</td>\n",
       "      <td>2012-09-29</td>\n",
       "      <td>0</td>\n",
       "      <td>68.0</td>\n",
       "      <td>[{'iso_639_1': 'ja', 'name': '日本語'}]</td>\n",
       "      <td>Released</td>\n",
       "      <td>...</td>\n",
       "      <td>0.0</td>\n",
       "      <td>NaN</td>\n",
       "      <td>NaN</td>\n",
       "      <td>NaN</td>\n",
       "      <td>NaN</td>\n",
       "      <td>NaN</td>\n",
       "      <td>NaN</td>\n",
       "      <td>NaN</td>\n",
       "      <td>NaN</td>\n",
       "      <td>[]</td>\n",
       "    </tr>\n",
       "    <tr>\n",
       "      <th>35587</th>\n",
       "      <td>Avalanche Sharks tells the story of a bikini ...</td>\n",
       "      <td>2.185485</td>\n",
       "      <td>/zaSf5OG7V8X8gqFvly88zDdRm46.jpg</td>\n",
       "      <td>[Odyssey Media, Pulser Productions, Rogue Stat...</td>\n",
       "      <td>[{'iso_3166_1': 'CA', 'name': 'Canada'}]</td>\n",
       "      <td>2014-01-01</td>\n",
       "      <td>0</td>\n",
       "      <td>82.0</td>\n",
       "      <td>[{'iso_639_1': 'en', 'name': 'English'}]</td>\n",
       "      <td>Released</td>\n",
       "      <td>...</td>\n",
       "      <td>0.0</td>\n",
       "      <td>NaN</td>\n",
       "      <td>NaN</td>\n",
       "      <td>NaN</td>\n",
       "      <td>NaN</td>\n",
       "      <td>NaN</td>\n",
       "      <td>NaN</td>\n",
       "      <td>NaN</td>\n",
       "      <td>NaN</td>\n",
       "      <td>[]</td>\n",
       "    </tr>\n",
       "  </tbody>\n",
       "</table>\n",
       "<p>3 rows × 25 columns</p>\n",
       "</div>"
      ],
      "text/plain": [
       "                                                   adult  \\\n",
       "19730                                 - Written by Ørnås   \n",
       "29503   Rune Balot goes to a casino connected to the ...   \n",
       "35587   Avalanche Sharks tells the story of a bikini ...   \n",
       "\n",
       "      belongs_to_collection                            budget  \\\n",
       "19730              0.065736  /ff9qCepilowshEtG2GYWwzt2bs4.jpg   \n",
       "29503              1.931659  /zV8bHuSL6WXoD6FWogP9j4x80bL.jpg   \n",
       "35587              2.185485  /zaSf5OG7V8X8gqFvly88zDdRm46.jpg   \n",
       "\n",
       "                                                  genres  \\\n",
       "19730  [Carousel Productions, Telescene Film Group Pr...   \n",
       "29503  [Aniplex, BROSTA TV, GoHands, Mardock Scramble...   \n",
       "35587  [Odyssey Media, Pulser Productions, Rogue Stat...   \n",
       "\n",
       "                                                homepage          id imdb_id  \\\n",
       "19730  [{'iso_3166_1': 'CA', 'name': 'Canada'}, {'iso...  1997-08-20       0   \n",
       "29503  [{'iso_3166_1': 'US', 'name': 'United States o...  2012-09-29       0   \n",
       "35587           [{'iso_3166_1': 'CA', 'name': 'Canada'}]  2014-01-01       0   \n",
       "\n",
       "      original_language                            original_title  overview  \\\n",
       "19730             104.0  [{'iso_639_1': 'en', 'name': 'English'}]  Released   \n",
       "29503              68.0      [{'iso_639_1': 'ja', 'name': '日本語'}]  Released   \n",
       "35587              82.0  [{'iso_639_1': 'en', 'name': 'English'}]  Released   \n",
       "\n",
       "       ... revenue runtime spoken_languages status tagline  title  video  \\\n",
       "19730  ...     0.0     NaN              NaN    NaN     NaN    NaN    NaN   \n",
       "29503  ...     0.0     NaN              NaN    NaN     NaN    NaN    NaN   \n",
       "35587  ...     0.0     NaN              NaN    NaN     NaN    NaN    NaN   \n",
       "\n",
       "      vote_average vote_count production_countries_code  \n",
       "19730          NaN        NaN                        []  \n",
       "29503          NaN        NaN                        []  \n",
       "35587          NaN        NaN                        []  \n",
       "\n",
       "[3 rows x 25 columns]"
      ]
     },
     "execution_count": 49,
     "metadata": {},
     "output_type": "execute_result"
    }
   ],
   "source": [
    "df_movies.loc[incorrectos]"
   ]
  },
  {
   "attachments": {},
   "cell_type": "markdown",
   "metadata": {},
   "source": [
    "Viendo las filas completos de los valores que estan incorrectos en la columna 'release_date' me puedo dar cuenta que las fechas correspondientes estan en la columna incorrecta, en 'id'. Esto pudo haber sido por un error en ingesta de los datos por parte de algun personal de trabajo o simplemente por una incorrecta descarga de los datos al momento de una exportación de la data.<br><br>\n",
    "Ademas, podria considerar que estos valores incorrectos en la columna 'release_date' podrian corresponder al 'id' (*pero por las dudas, mejor no hago esa modificación para prevenir futuros errores*)"
   ]
  },
  {
   "cell_type": "code",
   "execution_count": 50,
   "metadata": {},
   "outputs": [
    {
     "data": {
      "text/html": [
       "<div>\n",
       "<style scoped>\n",
       "    .dataframe tbody tr th:only-of-type {\n",
       "        vertical-align: middle;\n",
       "    }\n",
       "\n",
       "    .dataframe tbody tr th {\n",
       "        vertical-align: top;\n",
       "    }\n",
       "\n",
       "    .dataframe thead th {\n",
       "        text-align: right;\n",
       "    }\n",
       "</style>\n",
       "<table border=\"1\" class=\"dataframe\">\n",
       "  <thead>\n",
       "    <tr style=\"text-align: right;\">\n",
       "      <th></th>\n",
       "      <th>id</th>\n",
       "      <th>release_date</th>\n",
       "    </tr>\n",
       "  </thead>\n",
       "  <tbody>\n",
       "    <tr>\n",
       "      <th>19730</th>\n",
       "      <td>1997-08-20</td>\n",
       "      <td>1</td>\n",
       "    </tr>\n",
       "    <tr>\n",
       "      <th>29503</th>\n",
       "      <td>2012-09-29</td>\n",
       "      <td>12</td>\n",
       "    </tr>\n",
       "    <tr>\n",
       "      <th>35587</th>\n",
       "      <td>2014-01-01</td>\n",
       "      <td>22</td>\n",
       "    </tr>\n",
       "  </tbody>\n",
       "</table>\n",
       "</div>"
      ],
      "text/plain": [
       "               id release_date\n",
       "19730  1997-08-20            1\n",
       "29503  2012-09-29           12\n",
       "35587  2014-01-01           22"
      ]
     },
     "execution_count": 50,
     "metadata": {},
     "output_type": "execute_result"
    }
   ],
   "source": [
    "df_movies[['id','release_date']].loc[incorrectos]"
   ]
  },
  {
   "cell_type": "code",
   "execution_count": 51,
   "metadata": {},
   "outputs": [],
   "source": [
    "df_movies.release_date.loc[incorrectos] = df_movies.id.loc[incorrectos]"
   ]
  },
  {
   "cell_type": "code",
   "execution_count": 52,
   "metadata": {},
   "outputs": [
    {
     "data": {
      "text/html": [
       "<div>\n",
       "<style scoped>\n",
       "    .dataframe tbody tr th:only-of-type {\n",
       "        vertical-align: middle;\n",
       "    }\n",
       "\n",
       "    .dataframe tbody tr th {\n",
       "        vertical-align: top;\n",
       "    }\n",
       "\n",
       "    .dataframe thead th {\n",
       "        text-align: right;\n",
       "    }\n",
       "</style>\n",
       "<table border=\"1\" class=\"dataframe\">\n",
       "  <thead>\n",
       "    <tr style=\"text-align: right;\">\n",
       "      <th></th>\n",
       "      <th>id</th>\n",
       "      <th>release_date</th>\n",
       "    </tr>\n",
       "  </thead>\n",
       "  <tbody>\n",
       "    <tr>\n",
       "      <th>19730</th>\n",
       "      <td>1997-08-20</td>\n",
       "      <td>1997-08-20</td>\n",
       "    </tr>\n",
       "    <tr>\n",
       "      <th>29503</th>\n",
       "      <td>2012-09-29</td>\n",
       "      <td>2012-09-29</td>\n",
       "    </tr>\n",
       "    <tr>\n",
       "      <th>35587</th>\n",
       "      <td>2014-01-01</td>\n",
       "      <td>2014-01-01</td>\n",
       "    </tr>\n",
       "  </tbody>\n",
       "</table>\n",
       "</div>"
      ],
      "text/plain": [
       "               id release_date\n",
       "19730  1997-08-20   1997-08-20\n",
       "29503  2012-09-29   2012-09-29\n",
       "35587  2014-01-01   2014-01-01"
      ]
     },
     "execution_count": 52,
     "metadata": {},
     "output_type": "execute_result"
    }
   ],
   "source": [
    "df_movies[['id','release_date']].loc[incorrectos]"
   ]
  },
  {
   "attachments": {},
   "cell_type": "markdown",
   "metadata": {},
   "source": [
    "Y ahora modifico la columna 'id' y actualizo esos valores a nulos "
   ]
  },
  {
   "cell_type": "code",
   "execution_count": 53,
   "metadata": {},
   "outputs": [],
   "source": [
    "df_movies.id.loc[incorrectos] = np.nan"
   ]
  },
  {
   "attachments": {},
   "cell_type": "markdown",
   "metadata": {},
   "source": [
    "Vuelvo a consultar por lo valores de la columna 'release_date' que no tengan un guion (-), es decir, los que no cumplirian con el formato de fecha"
   ]
  },
  {
   "cell_type": "code",
   "execution_count": 54,
   "metadata": {},
   "outputs": [
    {
     "data": {
      "text/plain": [
       "Series([], Name: release_date, dtype: object)"
      ]
     },
     "execution_count": 54,
     "metadata": {},
     "output_type": "execute_result"
    }
   ],
   "source": [
    "df_movies.release_date.loc[df_movies.release_date.str.contains('-') == False]"
   ]
  },
  {
   "attachments": {},
   "cell_type": "markdown",
   "metadata": {},
   "source": [
    "Ahora que me aseguro que todos los datos van a poder ser transformados a formato de fecha sin problema, aplico la siguiente transformación"
   ]
  },
  {
   "cell_type": "code",
   "execution_count": 55,
   "metadata": {},
   "outputs": [
    {
     "data": {
      "text/plain": [
       "<bound method NDFrame.describe of 0       1995-10-30\n",
       "1       1995-12-15\n",
       "2       1995-12-22\n",
       "3       1995-12-22\n",
       "4       1995-02-10\n",
       "           ...    \n",
       "45460   1991-05-13\n",
       "45462   2011-11-17\n",
       "45463   2003-08-01\n",
       "45464   1917-10-21\n",
       "45465   2017-06-09\n",
       "Name: release_date, Length: 45379, dtype: datetime64[ns]>"
      ]
     },
     "execution_count": 55,
     "metadata": {},
     "output_type": "execute_result"
    }
   ],
   "source": [
    "df_movies.release_date = pd.to_datetime(arg= df_movies.release_date, format='%Y-%m-%d')\n",
    "df_movies.release_date.describe\n",
    "#Name: release_date, Length: 45379, dtype: datetime64[ns]>"
   ]
  },
  {
   "attachments": {},
   "cell_type": "markdown",
   "metadata": {},
   "source": [
    "---"
   ]
  },
  {
   "attachments": {},
   "cell_type": "markdown",
   "metadata": {},
   "source": [
    "Creo una columna llamada 'release_year' que represente el año de lanzamiento de la pelicula"
   ]
  },
  {
   "cell_type": "code",
   "execution_count": 56,
   "metadata": {},
   "outputs": [],
   "source": [
    "df_movies['release_year'] = df_movies.release_date.dt.year\n",
    "df_movies['release_month'] = df_movies.release_date.dt.month"
   ]
  },
  {
   "attachments": {},
   "cell_type": "markdown",
   "metadata": {},
   "source": [
    "Creo la columna 'retorn' que representa el retorno de la inversion que tuvo la pelicula"
   ]
  },
  {
   "cell_type": "code",
   "execution_count": 57,
   "metadata": {},
   "outputs": [],
   "source": [
    "#df_movies['return'] = df_movies.revenue / df_movies.budget"
   ]
  },
  {
   "cell_type": "code",
   "execution_count": 58,
   "metadata": {},
   "outputs": [],
   "source": [
    "excepciones = df_movies.budget.loc[df_movies.budget.str.isnumeric() == False].index"
   ]
  },
  {
   "attachments": {},
   "cell_type": "markdown",
   "metadata": {},
   "source": [
    "Acá tome la decision de eliminar estas filas que estan mal cargadas. Son las mismas que tenian mal cargado la columna 'release_date' anteriormente. Aparentemente los datos de estas filas estan cargados incorrectamente por lo que contienen varias columnas con valores nulos, por lo que para que no sigan interfiriendo en el dataset sin aportar valor, las elimino y listo"
   ]
  },
  {
   "cell_type": "code",
   "execution_count": 59,
   "metadata": {},
   "outputs": [],
   "source": [
    "df_movies.drop(excepciones, inplace=True)"
   ]
  },
  {
   "attachments": {},
   "cell_type": "markdown",
   "metadata": {},
   "source": [
    "Ahora si ya puedo hacer la operacion entre 'revenue' y 'budget' para la creación de la columna 'return'"
   ]
  },
  {
   "cell_type": "code",
   "execution_count": 60,
   "metadata": {},
   "outputs": [],
   "source": [
    "df_movies.budget = df_movies.budget.astype(float)"
   ]
  },
  {
   "cell_type": "code",
   "execution_count": 61,
   "metadata": {},
   "outputs": [],
   "source": [
    "df_movies['return'] = df_movies.revenue / df_movies.budget"
   ]
  },
  {
   "attachments": {},
   "cell_type": "markdown",
   "metadata": {},
   "source": [
    "Elimino las columnas que no tienen gran importancia"
   ]
  },
  {
   "cell_type": "code",
   "execution_count": 62,
   "metadata": {},
   "outputs": [],
   "source": [
    "df_movies.drop(columns={\"video\",\"imdb_id\",\"adult\",\"original_title\",\"poster_path\",\"homepage\"}, inplace=True)"
   ]
  },
  {
   "attachments": {},
   "cell_type": "markdown",
   "metadata": {},
   "source": [
    "Por ultimo, quiero crear un la columna que represente el codigo de los idiomas en los que esta la pelicula"
   ]
  },
  {
   "cell_type": "code",
   "execution_count": 63,
   "metadata": {},
   "outputs": [],
   "source": [
    "unique_languages = []\n",
    "for array in df_movies.spoken_languages.unique():\n",
    "    array = array.strip('[]')\n",
    "    languages = array.split(',')\n",
    "    for l in languages:\n",
    "        l = l.lstrip().rstrip()\n",
    "        if l in unique_languages:\n",
    "            continue\n",
    "        else:\n",
    "            unique_languages.append(l)"
   ]
  },
  {
   "cell_type": "code",
   "execution_count": 64,
   "metadata": {},
   "outputs": [
    {
     "data": {
      "text/plain": [
       "['English',\n",
       " 'Français',\n",
       " 'Español',\n",
       " 'Deutsch',\n",
       " 'Pусский',\n",
       " 'Latin',\n",
       " 'Nederlands',\n",
       " '广州话 / 廣州話',\n",
       " '普通话',\n",
       " 'Magyar',\n",
       " '',\n",
       " 'Italiano',\n",
       " 'shqip',\n",
       " '한국어/조선말',\n",
       " 'فارسی',\n",
       " 'Dansk',\n",
       " '日本語',\n",
       " 'العربية',\n",
       " 'Bosanski',\n",
       " 'Hrvatski',\n",
       " 'Română',\n",
       " 'Bahasa indonesia',\n",
       " 'Bahasa melayu',\n",
       " 'svenska',\n",
       " 'עִבְרִית',\n",
       " 'Český',\n",
       " 'Polski',\n",
       " 'Gaeilge',\n",
       " 'Norsk',\n",
       " 'Slovenčina',\n",
       " 'Tiếng Việt',\n",
       " 'Português',\n",
       " 'हिन्दी',\n",
       " 'Català',\n",
       " 'Íslenska',\n",
       " 'Afrikaans',\n",
       " 'Srpski',\n",
       " 'বাংলা',\n",
       " 'Wolof',\n",
       " 'Cymraeg',\n",
       " 'ภาษาไทย',\n",
       " 'Latviešu',\n",
       " 'Kiswahili',\n",
       " 'български език',\n",
       " 'ελληνικά',\n",
       " 'Türkçe',\n",
       " 'suomi',\n",
       " 'Esperanto',\n",
       " 'Український',\n",
       " 'ქართული',\n",
       " 'Bokmål',\n",
       " 'No Language',\n",
       " 'euskera',\n",
       " 'Azərbaycan',\n",
       " 'Malti',\n",
       " 'اردو',\n",
       " 'isiZulu',\n",
       " 'Bamanankan',\n",
       " 'پښتو',\n",
       " 'Somali',\n",
       " 'ਪੰਜਾਬੀ',\n",
       " 'беларуская мова',\n",
       " 'தமிழ்',\n",
       " 'Galego',\n",
       " 'Kinyarwanda',\n",
       " 'қазақ',\n",
       " 'Eesti',\n",
       " 'Lietuvi\\\\\\\\x9akai',\n",
       " 'Slovenščina',\n",
       " 'తెలుగు',\n",
       " 'Fulfulde',\n",
       " '??????',\n",
       " '?????',\n",
       " 'ozbek',\n",
       " 'Hausa']"
      ]
     },
     "execution_count": 64,
     "metadata": {},
     "output_type": "execute_result"
    }
   ],
   "source": [
    "unique_languages"
   ]
  },
  {
   "attachments": {},
   "cell_type": "markdown",
   "metadata": {},
   "source": [
    "Obtuve gracias a ChatGPT el codigo correspondiente a cada pais"
   ]
  },
  {
   "cell_type": "code",
   "execution_count": 65,
   "metadata": {},
   "outputs": [],
   "source": [
    "languages_names = ['English', 'Français', 'Español', 'Deutsch', 'Pусский', 'Latin', 'Nederlands', '广州话 / 廣州話', '普通话', 'Magyar', 'Italiano', 'shqip', '한국어/조선말', 'فارسی', 'Dansk', '日本語', 'العربية', 'Bosanski', 'Hrvatski', 'Română', 'Bahasa indonesia', 'Bahasa melayu', 'svenska', 'עִבְרִית', 'Český', 'Polski', 'Gaeilge', 'Norsk', 'Slovenčina', 'Tiếng Việt', 'Português', 'हिन्दी', 'Català', 'Íslenska', 'Afrikaans', 'Srpski', 'বাংলা', 'Wolof', 'Cymraeg', 'ภาษาไทย', 'Latviešu', 'Kiswahili', 'български език', 'ελληνικά', 'Türkçe', 'suomi', 'Esperanto', 'Український', 'ქართული', 'Bokmål', 'No Language', 'euskera', 'Azərbaycan', 'Malti', 'اردو', 'isiZulu', 'Bamanankan', 'پښتو', 'Somali', 'ਪੰਜਾਬੀ', 'беларуская мова', 'தமிழ்', 'Galego', 'Kinyarwanda', 'қазақ', 'Eesti', 'Lietuvi\\\\x9akai', 'Slovenščina', 'తెలుగు', 'Fulfulde', '??????', '?????', 'ozbek', 'Hausa']\n",
    "languages_codes = ['en', 'fr', 'es', 'de', 'ru', 'la', 'nl', 'zh', 'zh', 'hu', 'it', 'sq', 'ko', 'fa', 'da', 'ja', 'ar', 'bs', 'hr', 'ro', 'id', 'ms', 'sv', 'he', 'cs', 'pl', 'ga', 'no', 'sk', 'vi', 'pt', 'hi', 'ca', 'is', 'af', 'sr', 'bn', 'wo', 'cy', 'th', 'lv', 'sw', 'bg', 'el', 'tr', 'fi', 'eo', 'uk', 'ka', 'nb', 'xx', 'eu', 'az', 'mt', 'ur', 'zu', 'bm', 'ps', 'so', 'pa', 'be', 'ta', 'gl', 'rw', 'kk', 'et', 'lt', 'sl', 'te', 'ff', 'uz', 'ha']\n",
    "# Elimino de la lista de lenguages_name los valores '??????' y '?????'\n",
    "del languages_names[-4]\n",
    "del languages_names[-3]"
   ]
  },
  {
   "cell_type": "code",
   "execution_count": 66,
   "metadata": {},
   "outputs": [],
   "source": [
    "# Transformación a mayusculas\n",
    "for index in range(len(languages_codes)):\n",
    "    languages_codes[index] = languages_codes[index].upper()"
   ]
  },
  {
   "cell_type": "code",
   "execution_count": 67,
   "metadata": {},
   "outputs": [],
   "source": [
    "df_movies['spoken_languages_code'] = np.nan"
   ]
  },
  {
   "cell_type": "code",
   "execution_count": 68,
   "metadata": {},
   "outputs": [],
   "source": [
    "for index, value in enumerate(df_movies.spoken_languages):\n",
    "    codes_list = []\n",
    "    value = str(value)\n",
    "    value = value.strip('[]')\n",
    "    list_values = value.split(',')\n",
    "    for language in list_values:\n",
    "        language = language.lstrip().rstrip()\n",
    "        if language not in languages_names:\n",
    "            continue\n",
    "        else:\n",
    "            i = languages_names.index(language)\n",
    "            code = languages_codes[i]\n",
    "            codes_list.append(code)\n",
    "        \n",
    "    codes_list.sort()\n",
    "    df_movies.at[index, 'spoken_languages_code'] = str(codes_list).replace(\"'\",'')"
   ]
  },
  {
   "cell_type": "code",
   "execution_count": 69,
   "metadata": {},
   "outputs": [
    {
     "data": {
      "text/plain": [
       "0            [EN]\n",
       "1        [EN, FR]\n",
       "2            [EN]\n",
       "3            [EN]\n",
       "4            [EN]\n",
       "           ...   \n",
       "44978        [EN]\n",
       "45070        [EN]\n",
       "45148        [EN]\n",
       "45203        [SV]\n",
       "45338    [EN, FR]\n",
       "Name: spoken_languages_code, Length: 45464, dtype: object"
      ]
     },
     "execution_count": 69,
     "metadata": {},
     "output_type": "execute_result"
    }
   ],
   "source": [
    "df_movies.spoken_languages_code"
   ]
  },
  {
   "attachments": {},
   "cell_type": "markdown",
   "metadata": {},
   "source": [
    "Por ejemplo, filtro las peliculas que estan disponible en el idioma Ruso por el codigo del lenguage"
   ]
  },
  {
   "cell_type": "code",
   "execution_count": 70,
   "metadata": {},
   "outputs": [
    {
     "data": {
      "text/plain": [
       "9                     GoldenEye\n",
       "36       Across the Sea of Time\n",
       "64                     Bio-Dome\n",
       "86            Dunston Checks In\n",
       "167                     Hackers\n",
       "                  ...          \n",
       "45346      High Plains Invaders\n",
       "3628                        NaN\n",
       "18362                       NaN\n",
       "32738                       NaN\n",
       "44065                       NaN\n",
       "Name: title, Length: 1562, dtype: object"
      ]
     },
     "execution_count": 70,
     "metadata": {},
     "output_type": "execute_result"
    }
   ],
   "source": [
    "df_movies.loc[df_movies['spoken_languages_code'].str.contains('RU', na=False), 'title']"
   ]
  },
  {
   "attachments": {},
   "cell_type": "markdown",
   "metadata": {},
   "source": [
    "Finalmente, asi queda el dataframe con todos los cambios de transformaciónes aplicados"
   ]
  },
  {
   "cell_type": "code",
   "execution_count": 71,
   "metadata": {},
   "outputs": [
    {
     "data": {
      "text/html": [
       "<div>\n",
       "<style scoped>\n",
       "    .dataframe tbody tr th:only-of-type {\n",
       "        vertical-align: middle;\n",
       "    }\n",
       "\n",
       "    .dataframe tbody tr th {\n",
       "        vertical-align: top;\n",
       "    }\n",
       "\n",
       "    .dataframe thead th {\n",
       "        text-align: right;\n",
       "    }\n",
       "</style>\n",
       "<table border=\"1\" class=\"dataframe\">\n",
       "  <thead>\n",
       "    <tr style=\"text-align: right;\">\n",
       "      <th></th>\n",
       "      <th>belongs_to_collection</th>\n",
       "      <th>budget</th>\n",
       "      <th>genres</th>\n",
       "      <th>id</th>\n",
       "      <th>original_language</th>\n",
       "      <th>overview</th>\n",
       "      <th>popularity</th>\n",
       "      <th>production_companies</th>\n",
       "      <th>production_countries</th>\n",
       "      <th>release_date</th>\n",
       "      <th>...</th>\n",
       "      <th>spoken_languages</th>\n",
       "      <th>status</th>\n",
       "      <th>tagline</th>\n",
       "      <th>title</th>\n",
       "      <th>vote_average</th>\n",
       "      <th>vote_count</th>\n",
       "      <th>production_countries_code</th>\n",
       "      <th>release_year</th>\n",
       "      <th>return</th>\n",
       "      <th>spoken_languages_code</th>\n",
       "    </tr>\n",
       "  </thead>\n",
       "  <tbody>\n",
       "    <tr>\n",
       "      <th>2429</th>\n",
       "      <td>NaN</td>\n",
       "      <td>1350000.0</td>\n",
       "      <td>[Comedy, Crime]</td>\n",
       "      <td>100</td>\n",
       "      <td>en</td>\n",
       "      <td>A card sharp and his unwillingly-enlisted frie...</td>\n",
       "      <td>4.60786</td>\n",
       "      <td>[Handmade Films Ltd., PolyGram Filmed Entertai...</td>\n",
       "      <td>[United Kingdom]</td>\n",
       "      <td>1998-03-05</td>\n",
       "      <td>...</td>\n",
       "      <td>[English]</td>\n",
       "      <td>Released</td>\n",
       "      <td>A Disgrace to Criminals Everywhere.</td>\n",
       "      <td>Lock, Stock and Two Smoking Barrels</td>\n",
       "      <td>7.5</td>\n",
       "      <td>1671.0</td>\n",
       "      <td>[GB]</td>\n",
       "      <td>1998.0</td>\n",
       "      <td>2.887088</td>\n",
       "      <td>[FR]</td>\n",
       "    </tr>\n",
       "    <tr>\n",
       "      <th>13609</th>\n",
       "      <td>NaN</td>\n",
       "      <td>0.0</td>\n",
       "      <td>[Comedy, Drama]</td>\n",
       "      <td>10000</td>\n",
       "      <td>es</td>\n",
       "      <td>A group of tenants living in an old house are ...</td>\n",
       "      <td>0.281609</td>\n",
       "      <td>[Ministère de la Culture et de la Francophonie...</td>\n",
       "      <td>[Colombia, France, Italy]</td>\n",
       "      <td>1993-12-25</td>\n",
       "      <td>...</td>\n",
       "      <td>[Español]</td>\n",
       "      <td>Released</td>\n",
       "      <td>NaN</td>\n",
       "      <td>La estrategia del caracol</td>\n",
       "      <td>7.2</td>\n",
       "      <td>9.0</td>\n",
       "      <td>[CO, FR, IT]</td>\n",
       "      <td>1993.0</td>\n",
       "      <td>NaN</td>\n",
       "      <td>[EN]</td>\n",
       "    </tr>\n",
       "    <tr>\n",
       "      <th>4435</th>\n",
       "      <td>NaN</td>\n",
       "      <td>0.0</td>\n",
       "      <td>[Comedy, Science Fiction]</td>\n",
       "      <td>10001</td>\n",
       "      <td>en</td>\n",
       "      <td>Albert Einstein is the son of a Tasmanian appl...</td>\n",
       "      <td>2.562888</td>\n",
       "      <td>[Warner Bros.]</td>\n",
       "      <td>[Australia]</td>\n",
       "      <td>1988-12-15</td>\n",
       "      <td>...</td>\n",
       "      <td>[English]</td>\n",
       "      <td>Released</td>\n",
       "      <td>E=mc²</td>\n",
       "      <td>Young Einstein</td>\n",
       "      <td>4.5</td>\n",
       "      <td>46.0</td>\n",
       "      <td>[AU]</td>\n",
       "      <td>1988.0</td>\n",
       "      <td>NaN</td>\n",
       "      <td>[EN]</td>\n",
       "    </tr>\n",
       "    <tr>\n",
       "      <th>17451</th>\n",
       "      <td>NaN</td>\n",
       "      <td>0.0</td>\n",
       "      <td>[Drama, War]</td>\n",
       "      <td>100010</td>\n",
       "      <td>en</td>\n",
       "      <td>A rookie flyer, Ens. Alan Drake, joins the fam...</td>\n",
       "      <td>0.769266</td>\n",
       "      <td>[Metro-Goldwyn-Mayer (MGM)]</td>\n",
       "      <td>[United States of America]</td>\n",
       "      <td>1940-12-27</td>\n",
       "      <td>...</td>\n",
       "      <td>[English]</td>\n",
       "      <td>Released</td>\n",
       "      <td>T-H-R-I-L-L AMERICA! Here come The Flying \"HEL...</td>\n",
       "      <td>Flight Command</td>\n",
       "      <td>6.0</td>\n",
       "      <td>1.0</td>\n",
       "      <td>[US]</td>\n",
       "      <td>1940.0</td>\n",
       "      <td>NaN</td>\n",
       "      <td>[]</td>\n",
       "    </tr>\n",
       "    <tr>\n",
       "      <th>36946</th>\n",
       "      <td>NaN</td>\n",
       "      <td>0.0</td>\n",
       "      <td>[Drama]</td>\n",
       "      <td>100017</td>\n",
       "      <td>de</td>\n",
       "      <td>Deals with the obsessive relationship between ...</td>\n",
       "      <td>2.964103</td>\n",
       "      <td>[MMM Film Zimmermann &amp; Co]</td>\n",
       "      <td>[Germany]</td>\n",
       "      <td>2006-08-06</td>\n",
       "      <td>...</td>\n",
       "      <td>[Deutsch]</td>\n",
       "      <td>Released</td>\n",
       "      <td>NaN</td>\n",
       "      <td>Hounded</td>\n",
       "      <td>4.8</td>\n",
       "      <td>7.0</td>\n",
       "      <td>[DE]</td>\n",
       "      <td>2006.0</td>\n",
       "      <td>NaN</td>\n",
       "      <td>[HI]</td>\n",
       "    </tr>\n",
       "    <tr>\n",
       "      <th>...</th>\n",
       "      <td>...</td>\n",
       "      <td>...</td>\n",
       "      <td>...</td>\n",
       "      <td>...</td>\n",
       "      <td>...</td>\n",
       "      <td>...</td>\n",
       "      <td>...</td>\n",
       "      <td>...</td>\n",
       "      <td>...</td>\n",
       "      <td>...</td>\n",
       "      <td>...</td>\n",
       "      <td>...</td>\n",
       "      <td>...</td>\n",
       "      <td>...</td>\n",
       "      <td>...</td>\n",
       "      <td>...</td>\n",
       "      <td>...</td>\n",
       "      <td>...</td>\n",
       "      <td>...</td>\n",
       "      <td>...</td>\n",
       "      <td>...</td>\n",
       "    </tr>\n",
       "    <tr>\n",
       "      <th>44978</th>\n",
       "      <td>NaN</td>\n",
       "      <td>NaN</td>\n",
       "      <td>NaN</td>\n",
       "      <td>NaN</td>\n",
       "      <td>NaN</td>\n",
       "      <td>NaN</td>\n",
       "      <td>NaN</td>\n",
       "      <td>NaN</td>\n",
       "      <td>NaN</td>\n",
       "      <td>NaT</td>\n",
       "      <td>...</td>\n",
       "      <td>NaN</td>\n",
       "      <td>NaN</td>\n",
       "      <td>NaN</td>\n",
       "      <td>NaN</td>\n",
       "      <td>NaN</td>\n",
       "      <td>NaN</td>\n",
       "      <td>NaN</td>\n",
       "      <td>NaN</td>\n",
       "      <td>NaN</td>\n",
       "      <td>[EN]</td>\n",
       "    </tr>\n",
       "    <tr>\n",
       "      <th>45070</th>\n",
       "      <td>NaN</td>\n",
       "      <td>NaN</td>\n",
       "      <td>NaN</td>\n",
       "      <td>NaN</td>\n",
       "      <td>NaN</td>\n",
       "      <td>NaN</td>\n",
       "      <td>NaN</td>\n",
       "      <td>NaN</td>\n",
       "      <td>NaN</td>\n",
       "      <td>NaT</td>\n",
       "      <td>...</td>\n",
       "      <td>NaN</td>\n",
       "      <td>NaN</td>\n",
       "      <td>NaN</td>\n",
       "      <td>NaN</td>\n",
       "      <td>NaN</td>\n",
       "      <td>NaN</td>\n",
       "      <td>NaN</td>\n",
       "      <td>NaN</td>\n",
       "      <td>NaN</td>\n",
       "      <td>[EN]</td>\n",
       "    </tr>\n",
       "    <tr>\n",
       "      <th>45148</th>\n",
       "      <td>NaN</td>\n",
       "      <td>NaN</td>\n",
       "      <td>NaN</td>\n",
       "      <td>NaN</td>\n",
       "      <td>NaN</td>\n",
       "      <td>NaN</td>\n",
       "      <td>NaN</td>\n",
       "      <td>NaN</td>\n",
       "      <td>NaN</td>\n",
       "      <td>NaT</td>\n",
       "      <td>...</td>\n",
       "      <td>NaN</td>\n",
       "      <td>NaN</td>\n",
       "      <td>NaN</td>\n",
       "      <td>NaN</td>\n",
       "      <td>NaN</td>\n",
       "      <td>NaN</td>\n",
       "      <td>NaN</td>\n",
       "      <td>NaN</td>\n",
       "      <td>NaN</td>\n",
       "      <td>[EN]</td>\n",
       "    </tr>\n",
       "    <tr>\n",
       "      <th>45203</th>\n",
       "      <td>NaN</td>\n",
       "      <td>NaN</td>\n",
       "      <td>NaN</td>\n",
       "      <td>NaN</td>\n",
       "      <td>NaN</td>\n",
       "      <td>NaN</td>\n",
       "      <td>NaN</td>\n",
       "      <td>NaN</td>\n",
       "      <td>NaN</td>\n",
       "      <td>NaT</td>\n",
       "      <td>...</td>\n",
       "      <td>NaN</td>\n",
       "      <td>NaN</td>\n",
       "      <td>NaN</td>\n",
       "      <td>NaN</td>\n",
       "      <td>NaN</td>\n",
       "      <td>NaN</td>\n",
       "      <td>NaN</td>\n",
       "      <td>NaN</td>\n",
       "      <td>NaN</td>\n",
       "      <td>[SV]</td>\n",
       "    </tr>\n",
       "    <tr>\n",
       "      <th>45338</th>\n",
       "      <td>NaN</td>\n",
       "      <td>NaN</td>\n",
       "      <td>NaN</td>\n",
       "      <td>NaN</td>\n",
       "      <td>NaN</td>\n",
       "      <td>NaN</td>\n",
       "      <td>NaN</td>\n",
       "      <td>NaN</td>\n",
       "      <td>NaN</td>\n",
       "      <td>NaT</td>\n",
       "      <td>...</td>\n",
       "      <td>NaN</td>\n",
       "      <td>NaN</td>\n",
       "      <td>NaN</td>\n",
       "      <td>NaN</td>\n",
       "      <td>NaN</td>\n",
       "      <td>NaN</td>\n",
       "      <td>NaN</td>\n",
       "      <td>NaN</td>\n",
       "      <td>NaN</td>\n",
       "      <td>[EN, FR]</td>\n",
       "    </tr>\n",
       "  </tbody>\n",
       "</table>\n",
       "<p>45464 rows × 22 columns</p>\n",
       "</div>"
      ],
      "text/plain": [
       "      belongs_to_collection     budget                     genres      id  \\\n",
       "2429                    NaN  1350000.0            [Comedy, Crime]     100   \n",
       "13609                   NaN        0.0            [Comedy, Drama]   10000   \n",
       "4435                    NaN        0.0  [Comedy, Science Fiction]   10001   \n",
       "17451                   NaN        0.0               [Drama, War]  100010   \n",
       "36946                   NaN        0.0                    [Drama]  100017   \n",
       "...                     ...        ...                        ...     ...   \n",
       "44978                   NaN        NaN                        NaN     NaN   \n",
       "45070                   NaN        NaN                        NaN     NaN   \n",
       "45148                   NaN        NaN                        NaN     NaN   \n",
       "45203                   NaN        NaN                        NaN     NaN   \n",
       "45338                   NaN        NaN                        NaN     NaN   \n",
       "\n",
       "      original_language                                           overview  \\\n",
       "2429                 en  A card sharp and his unwillingly-enlisted frie...   \n",
       "13609                es  A group of tenants living in an old house are ...   \n",
       "4435                 en  Albert Einstein is the son of a Tasmanian appl...   \n",
       "17451                en  A rookie flyer, Ens. Alan Drake, joins the fam...   \n",
       "36946                de  Deals with the obsessive relationship between ...   \n",
       "...                 ...                                                ...   \n",
       "44978               NaN                                                NaN   \n",
       "45070               NaN                                                NaN   \n",
       "45148               NaN                                                NaN   \n",
       "45203               NaN                                                NaN   \n",
       "45338               NaN                                                NaN   \n",
       "\n",
       "      popularity                               production_companies  \\\n",
       "2429     4.60786  [Handmade Films Ltd., PolyGram Filmed Entertai...   \n",
       "13609   0.281609  [Ministère de la Culture et de la Francophonie...   \n",
       "4435    2.562888                                     [Warner Bros.]   \n",
       "17451   0.769266                        [Metro-Goldwyn-Mayer (MGM)]   \n",
       "36946   2.964103                         [MMM Film Zimmermann & Co]   \n",
       "...          ...                                                ...   \n",
       "44978        NaN                                                NaN   \n",
       "45070        NaN                                                NaN   \n",
       "45148        NaN                                                NaN   \n",
       "45203        NaN                                                NaN   \n",
       "45338        NaN                                                NaN   \n",
       "\n",
       "             production_countries release_date  ...  spoken_languages  \\\n",
       "2429             [United Kingdom]   1998-03-05  ...         [English]   \n",
       "13609   [Colombia, France, Italy]   1993-12-25  ...         [Español]   \n",
       "4435                  [Australia]   1988-12-15  ...         [English]   \n",
       "17451  [United States of America]   1940-12-27  ...         [English]   \n",
       "36946                   [Germany]   2006-08-06  ...         [Deutsch]   \n",
       "...                           ...          ...  ...               ...   \n",
       "44978                         NaN          NaT  ...               NaN   \n",
       "45070                         NaN          NaT  ...               NaN   \n",
       "45148                         NaN          NaT  ...               NaN   \n",
       "45203                         NaN          NaT  ...               NaN   \n",
       "45338                         NaN          NaT  ...               NaN   \n",
       "\n",
       "         status                                            tagline  \\\n",
       "2429   Released                A Disgrace to Criminals Everywhere.   \n",
       "13609  Released                                                NaN   \n",
       "4435   Released                                              E=mc²   \n",
       "17451  Released  T-H-R-I-L-L AMERICA! Here come The Flying \"HEL...   \n",
       "36946  Released                                                NaN   \n",
       "...         ...                                                ...   \n",
       "44978       NaN                                                NaN   \n",
       "45070       NaN                                                NaN   \n",
       "45148       NaN                                                NaN   \n",
       "45203       NaN                                                NaN   \n",
       "45338       NaN                                                NaN   \n",
       "\n",
       "                                     title vote_average vote_count  \\\n",
       "2429   Lock, Stock and Two Smoking Barrels          7.5     1671.0   \n",
       "13609            La estrategia del caracol          7.2        9.0   \n",
       "4435                        Young Einstein          4.5       46.0   \n",
       "17451                       Flight Command          6.0        1.0   \n",
       "36946                              Hounded          4.8        7.0   \n",
       "...                                    ...          ...        ...   \n",
       "44978                                  NaN          NaN        NaN   \n",
       "45070                                  NaN          NaN        NaN   \n",
       "45148                                  NaN          NaN        NaN   \n",
       "45203                                  NaN          NaN        NaN   \n",
       "45338                                  NaN          NaN        NaN   \n",
       "\n",
       "       production_countries_code  release_year    return  \\\n",
       "2429                        [GB]        1998.0  2.887088   \n",
       "13609               [CO, FR, IT]        1993.0       NaN   \n",
       "4435                        [AU]        1988.0       NaN   \n",
       "17451                       [US]        1940.0       NaN   \n",
       "36946                       [DE]        2006.0       NaN   \n",
       "...                          ...           ...       ...   \n",
       "44978                        NaN           NaN       NaN   \n",
       "45070                        NaN           NaN       NaN   \n",
       "45148                        NaN           NaN       NaN   \n",
       "45203                        NaN           NaN       NaN   \n",
       "45338                        NaN           NaN       NaN   \n",
       "\n",
       "       spoken_languages_code  \n",
       "2429                    [FR]  \n",
       "13609                   [EN]  \n",
       "4435                    [EN]  \n",
       "17451                     []  \n",
       "36946                   [HI]  \n",
       "...                      ...  \n",
       "44978                   [EN]  \n",
       "45070                   [EN]  \n",
       "45148                   [EN]  \n",
       "45203                   [SV]  \n",
       "45338               [EN, FR]  \n",
       "\n",
       "[45464 rows x 22 columns]"
      ]
     },
     "execution_count": 71,
     "metadata": {},
     "output_type": "execute_result"
    }
   ],
   "source": [
    "df_movies.sort_values(by='id')"
   ]
  },
  {
   "cell_type": "code",
   "execution_count": 72,
   "metadata": {},
   "outputs": [],
   "source": [
    "#df_movies.to_csv('../clean_data/transformed_movies_dataset.csv',sep=',',index=False)"
   ]
  }
 ],
 "metadata": {
  "kernelspec": {
   "display_name": "Python 3",
   "language": "python",
   "name": "python3"
  },
  "language_info": {
   "codemirror_mode": {
    "name": "ipython",
    "version": 3
   },
   "file_extension": ".py",
   "mimetype": "text/x-python",
   "name": "python",
   "nbconvert_exporter": "python",
   "pygments_lexer": "ipython3",
   "version": "3.10.11"
  },
  "orig_nbformat": 4
 },
 "nbformat": 4,
 "nbformat_minor": 2
}
