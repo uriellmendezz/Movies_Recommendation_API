{
 "cells": [
  {
   "cell_type": "code",
   "execution_count": 332,
   "metadata": {},
   "outputs": [],
   "source": [
    "from fastapi import FastAPI\n",
    "from pydantic import BaseModel"
   ]
  },
  {
   "cell_type": "code",
   "execution_count": 237,
   "metadata": {},
   "outputs": [],
   "source": [
    "app = FastAPI()"
   ]
  },
  {
   "cell_type": "code",
   "execution_count": 250,
   "metadata": {},
   "outputs": [],
   "source": [
    "@app.get('/cantidad_filmaciones_mes/{mes}')\n",
    "def cantidad_filmaciones_mes(mes:str):\n",
    "    '''Se ingresa el mes y la funcion retorna la cantidad de peliculas que se estrenaron ese mes historicamente'''\n",
    "    return {'mes':mes, 'cantidad':respuesta}\n",
    "\n",
    "@app.get('/cantidad_filmaciones_dia{dia}')\n",
    "def cantidad_filmaciones_dia(dia:str):\n",
    "    '''Se ingresa el dia y la funcion retorna la cantidad de peliculas que se estrebaron ese dia historicamente'''\n",
    "    return {'dia':dia, 'cantidad':respuesta}\n",
    "\n",
    "@app.get('/score_titulo/{titulo}')\n",
    "def score_titulo(titulo:str):\n",
    "    '''Se ingresa el título de una filmación esperando como respuesta el título, el año de estreno y el score'''\n",
    "    return {'titulo':titulo, 'anio':respuesta, 'popularidad':respuesta}\n",
    "\n",
    "@app.get('/votos_titulo/{titulo}')\n",
    "def votos_titulo(titulo:str):\n",
    "    '''Se ingresa el título de una filmación esperando como respuesta el título, la cantidad de votos y el valor promedio de las votaciones. \n",
    "    La misma variable deberá de contar con al menos 2000 valoraciones, \n",
    "    caso contrario, debemos contar con un mensaje avisando que no cumple esta condición y que por ende, no se devuelve ningun valor.'''\n",
    "    return {'titulo':titulo, 'anio':respuesta, 'voto_total':respuesta, 'voto_promedio':respuesta}\n",
    "\n",
    "@app.get('/get_actor/{nombre_actor}')\n",
    "def get_actor(nombre_actor:str):\n",
    "    '''Se ingresa el nombre de un actor que se encuentre dentro de un dataset debiendo devolver el éxito del mismo medido a través del retorno. \n",
    "    Además, la cantidad de películas que en las que ha participado y el promedio de retorno'''\n",
    "    return {'actor':nombre_actor, 'cantidad_filmaciones':respuesta, 'retorno_total':respuesta, 'retorno_promedio':respuesta}\n",
    "\n",
    "@app.get('/get_director/{nombre_director}')\n",
    "def get_director(nombre_director:str):\n",
    "    ''' Se ingresa el nombre de un director que se encuentre dentro de un dataset debiendo devolver el éxito del mismo medido a través del retorno. \n",
    "    Además, deberá devolver el nombre de cada película con la fecha de lanzamiento, retorno individual, costo y ganancia de la misma.'''\n",
    "    return {'director':nombre_director, 'retorno_total_director':respuesta, \n",
    "    'peliculas':respuesta, 'anio':respuesta,'retorno_pelicula':respuesta, \n",
    "    'budget_pelicula':respuesta, 'revenue_pelicula':respuesta}\n",
    "\n",
    "# ML\n",
    "@app.get('/recomendacion/{titulo}')\n",
    "def recomendacion(titulo:str):\n",
    "    '''Ingresas un nombre de pelicula y te recomienda las similares en una lista'''\n",
    "    return {'lista recomendada': respuesta}"
   ]
  },
  {
   "attachments": {},
   "cell_type": "markdown",
   "metadata": {},
   "source": [
    "# Funciones para la API"
   ]
  },
  {
   "attachments": {},
   "cell_type": "markdown",
   "metadata": {},
   "source": [
    "def cantidad_filmaciones_mes( Mes ): Se ingresa un mes en idioma Español. Debe devolver la cantidad de películas que fueron estrenadas en el mes consultado en la totalidad del dataset.\n",
    "                    Ejemplo de retorno: X cantidad de películas fueron estrenadas en el mes de X"
   ]
  },
  {
   "cell_type": "code",
   "execution_count": 251,
   "metadata": {},
   "outputs": [],
   "source": [
    "import pandas as pd\n",
    "import numpy as np\n",
    "import json\n",
    "import warnings\n",
    "warnings.filterwarnings('ignore')\n",
    "import datetime"
   ]
  },
  {
   "cell_type": "code",
   "execution_count": 252,
   "metadata": {},
   "outputs": [],
   "source": [
    "meses_1 = ['enero', 'febrero', 'marzo', 'abril', 'mayo', 'junio', 'julio', 'agosto', 'septiembre', 'octubre', 'noviembre', 'diciembre']\n",
    "meses_2 = [mes.upper() for mes in meses_1]\n",
    "meses_3 = [mes.capitalize() for mes in meses_1]\n",
    "meses = meses_1 + meses_2 + meses_3\n",
    "\n",
    "meses_numeros = [numero for numero in range(1,13)]\n",
    "meses_numeros = meses_numeros * 3"
   ]
  },
  {
   "attachments": {},
   "cell_type": "markdown",
   "metadata": {},
   "source": [
    "#### Datasets"
   ]
  },
  {
   "cell_type": "code",
   "execution_count": 313,
   "metadata": {},
   "outputs": [],
   "source": [
    "data = pd.read_csv('../final_data/combined_data.csv',sep=',')\n",
    "cast = pd.read_csv('../final_data/final_cast.csv')"
   ]
  },
  {
   "cell_type": "code",
   "execution_count": 254,
   "metadata": {},
   "outputs": [],
   "source": [
    "def filamaciones_xmes(mes:str):\n",
    "    meses = ['enero', 'febrero', 'marzo', 'abril', 'mayo', 'junio', 'julio', 'agosto', 'septiembre', 'octubre', 'noviembre', 'diciembre', 'ENERO', 'FEBRERO', 'MARZO', 'ABRIL', 'MAYO', 'JUNIO', 'JULIO', 'AGOSTO', 'SEPTIEMBRE', 'OCTUBRE', 'NOVIEMBRE', 'DICIEMBRE', 'Enero', 'Febrero', 'Marzo', 'Abril', 'Mayo', 'Junio', 'Julio', 'Agosto', 'Septiembre', 'Octubre', 'Noviembre', 'Diciembre']\n",
    "    meses_numeros = [1,2,3,4,5,6,7,8,9,10,11,12,1,2,3,4,5,6,7,8,9,10,11,12,1,2,3,4,5,6,7,8,9,10,11,12]\n",
    "\n",
    "    mes_index = meses.index(mes)\n",
    "    mes_numero = meses_numeros[mes_index]\n",
    "    \n",
    "    cantidad_xmes = data['movie_id'].loc[data.release_month == mes_numero].count()\n",
    "    return {'mes':{mes},'cantidad_fimaciones_mes':{cantidad_xmes}}\n",
    "    "
   ]
  },
  {
   "cell_type": "code",
   "execution_count": 255,
   "metadata": {},
   "outputs": [
    {
     "data": {
      "text/plain": [
       "{'mes': {'JUNIO'}, 'cantidad_fimaciones_mes': {3152}}"
      ]
     },
     "execution_count": 255,
     "metadata": {},
     "output_type": "execute_result"
    }
   ],
   "source": [
    "filamaciones_xmes('JUNIO')"
   ]
  },
  {
   "attachments": {},
   "cell_type": "markdown",
   "metadata": {},
   "source": [
    "def cantidad_filmaciones_dia( Dia ): Se ingresa un día en idioma Español. Debe devolver la cantidad de películas que fueron estrenadas en día consultado en la totalidad del dataset.\n",
    "                    Ejemplo de retorno: X cantidad de películas fueron estrenadas en los días X"
   ]
  },
  {
   "cell_type": "code",
   "execution_count": 256,
   "metadata": {},
   "outputs": [],
   "source": [
    "def filamaciones_xdia(dia:str):\n",
    "    dia = int(dia)\n",
    "    dias = [dia for dia in range(1,32)]\n",
    "    if dia not in dias:\n",
    "        return {'dia':dia, 'cantidad_filmaciones_dia':0}\n",
    "    else:\n",
    "        cantidad_xdia = data.movie_id.loc[data.release_day == dia].count()\n",
    "        return {'dia':dia, 'cantidad_filmaciones_dia':cantidad_xdia}    "
   ]
  },
  {
   "cell_type": "code",
   "execution_count": 257,
   "metadata": {},
   "outputs": [
    {
     "data": {
      "text/plain": [
       "{'dia': 2, 'cantidad_filmaciones_dia': 1195}"
      ]
     },
     "execution_count": 257,
     "metadata": {},
     "output_type": "execute_result"
    }
   ],
   "source": [
    "filamaciones_xdia('2')"
   ]
  },
  {
   "cell_type": "code",
   "execution_count": 258,
   "metadata": {},
   "outputs": [
    {
     "data": {
      "text/plain": [
       "Int64Index([0], dtype='int64')"
      ]
     },
     "execution_count": 258,
     "metadata": {},
     "output_type": "execute_result"
    }
   ],
   "source": [
    "data.loc[data.title == 'Toy Story'].index"
   ]
  },
  {
   "attachments": {},
   "cell_type": "markdown",
   "metadata": {},
   "source": [
    "def score_titulo( titulo_de_la_filmación ): Se ingresa el título de una filmación esperando como respuesta el título, el año de estreno y el score."
   ]
  },
  {
   "cell_type": "code",
   "execution_count": 259,
   "metadata": {},
   "outputs": [],
   "source": [
    "def score_titulo(titulo_de_la_filmacion: str):\n",
    "    filmaciones = list(data.title.unique())\n",
    "    if titulo_de_la_filmacion not in filmaciones:\n",
    "        return {'titulo':'Movie not found'}\n",
    "    else:\n",
    "        movie_index = data.loc[data.title == titulo_de_la_filmacion].index\n",
    "        movie_year = data.release_year.iloc[movie_index]\n",
    "        movie_score = data.popularity.iloc[movie_index]\n",
    "\n",
    "        if pd.isna(movie_year).any():\n",
    "            movie_year = 'Desconocido'\n",
    "        else:\n",
    "            movie_year = int(movie_year)\n",
    "\n",
    "        if pd.isna(movie_score).any():\n",
    "            movie_score = 'Desconocido'\n",
    "        else:\n",
    "            movie_score = float(movie_score)\n",
    "\n",
    "        return {'titulo':titulo_de_la_filmacion,\n",
    "                'anio':movie_year,\n",
    "                'popularity':movie_score}"
   ]
  },
  {
   "cell_type": "code",
   "execution_count": 260,
   "metadata": {},
   "outputs": [
    {
     "data": {
      "text/plain": [
       "{'titulo': 'Toy Story', 'anio': 1995, 'popularity': 21.946943}"
      ]
     },
     "execution_count": 260,
     "metadata": {},
     "output_type": "execute_result"
    }
   ],
   "source": [
    "score_titulo('Toy Story')"
   ]
  },
  {
   "attachments": {},
   "cell_type": "markdown",
   "metadata": {},
   "source": [
    "def votos_titulo( titulo_de_la_filmación ): Se ingresa el título de una filmación esperando como respuesta el título, la cantidad de votos y el valor promedio de las votaciones. La misma variable deberá de contar con al menos 2000 valoraciones, caso contrario, debemos contar con un mensaje avisando que no cumple esta condición y que por ende, no se devuelve ningun valor.\n",
    "                    Ejemplo de retorno: La película X fue estrenada en el año X. La misma cuenta con un total de X valoraciones, con un promedio de X"
   ]
  },
  {
   "cell_type": "code",
   "execution_count": 261,
   "metadata": {},
   "outputs": [
    {
     "data": {
      "text/html": [
       "<div>\n",
       "<style scoped>\n",
       "    .dataframe tbody tr th:only-of-type {\n",
       "        vertical-align: middle;\n",
       "    }\n",
       "\n",
       "    .dataframe tbody tr th {\n",
       "        vertical-align: top;\n",
       "    }\n",
       "\n",
       "    .dataframe thead th {\n",
       "        text-align: right;\n",
       "    }\n",
       "</style>\n",
       "<table border=\"1\" class=\"dataframe\">\n",
       "  <thead>\n",
       "    <tr style=\"text-align: right;\">\n",
       "      <th></th>\n",
       "      <th>belongs_to_collection</th>\n",
       "      <th>budget</th>\n",
       "      <th>genres</th>\n",
       "      <th>movie_id</th>\n",
       "      <th>original_language</th>\n",
       "      <th>overview</th>\n",
       "      <th>popularity</th>\n",
       "      <th>production_companies</th>\n",
       "      <th>production_countries</th>\n",
       "      <th>release_date</th>\n",
       "      <th>...</th>\n",
       "      <th>title</th>\n",
       "      <th>vote_average</th>\n",
       "      <th>vote_count</th>\n",
       "      <th>production_countries_code</th>\n",
       "      <th>release_year</th>\n",
       "      <th>release_month</th>\n",
       "      <th>release_day</th>\n",
       "      <th>return</th>\n",
       "      <th>director</th>\n",
       "      <th>actors</th>\n",
       "    </tr>\n",
       "  </thead>\n",
       "  <tbody>\n",
       "    <tr>\n",
       "      <th>0</th>\n",
       "      <td>Toy Story Collection</td>\n",
       "      <td>30000000.0</td>\n",
       "      <td>Animation|Comedy|Family</td>\n",
       "      <td>862</td>\n",
       "      <td>en</td>\n",
       "      <td>Led by Woody, Andy's toys live happily in his ...</td>\n",
       "      <td>21.946943</td>\n",
       "      <td>Pixar Animation Studios</td>\n",
       "      <td>United States of America</td>\n",
       "      <td>1995-10-30</td>\n",
       "      <td>...</td>\n",
       "      <td>Toy Story</td>\n",
       "      <td>7.7</td>\n",
       "      <td>5415.0</td>\n",
       "      <td>US</td>\n",
       "      <td>1995</td>\n",
       "      <td>10</td>\n",
       "      <td>30</td>\n",
       "      <td>12.451801</td>\n",
       "      <td>John Lasseter</td>\n",
       "      <td>Tom Hanks|Tim Allen|Don Rickles|Jim Varney|Wal...</td>\n",
       "    </tr>\n",
       "    <tr>\n",
       "      <th>1</th>\n",
       "      <td>NaN</td>\n",
       "      <td>65000000.0</td>\n",
       "      <td>Adventure|Family|Fantasy</td>\n",
       "      <td>8844</td>\n",
       "      <td>en</td>\n",
       "      <td>When siblings Judy and Peter discover an encha...</td>\n",
       "      <td>17.015539</td>\n",
       "      <td>Interscope Communications|Teitler Film|TriStar...</td>\n",
       "      <td>United States of America</td>\n",
       "      <td>1995-12-15</td>\n",
       "      <td>...</td>\n",
       "      <td>Jumanji</td>\n",
       "      <td>6.9</td>\n",
       "      <td>2413.0</td>\n",
       "      <td>US</td>\n",
       "      <td>1995</td>\n",
       "      <td>12</td>\n",
       "      <td>15</td>\n",
       "      <td>4.043035</td>\n",
       "      <td>Joe Johnston</td>\n",
       "      <td>Robin Williams|Jonathan Hyde|Kirsten Dunst|Bra...</td>\n",
       "    </tr>\n",
       "    <tr>\n",
       "      <th>2</th>\n",
       "      <td>Grumpy Old Men Collection</td>\n",
       "      <td>0.0</td>\n",
       "      <td>Comedy|Romance</td>\n",
       "      <td>15602</td>\n",
       "      <td>en</td>\n",
       "      <td>A family wedding reignites the ancient feud be...</td>\n",
       "      <td>11.712900</td>\n",
       "      <td>Lancaster Gate|Warner Bros.</td>\n",
       "      <td>United States of America</td>\n",
       "      <td>1995-12-22</td>\n",
       "      <td>...</td>\n",
       "      <td>Grumpier Old Men</td>\n",
       "      <td>6.5</td>\n",
       "      <td>92.0</td>\n",
       "      <td>US</td>\n",
       "      <td>1995</td>\n",
       "      <td>12</td>\n",
       "      <td>22</td>\n",
       "      <td>0.000000</td>\n",
       "      <td>Howard Deutch</td>\n",
       "      <td>Walter Matthau|Jack Lemmon|Ann-Margret|Sophia ...</td>\n",
       "    </tr>\n",
       "    <tr>\n",
       "      <th>3</th>\n",
       "      <td>NaN</td>\n",
       "      <td>16000000.0</td>\n",
       "      <td>Comedy|Drama|Romance</td>\n",
       "      <td>31357</td>\n",
       "      <td>en</td>\n",
       "      <td>Cheated on, mistreated and stepped on, the wom...</td>\n",
       "      <td>3.859495</td>\n",
       "      <td>Twentieth Century Fox Film Corporation</td>\n",
       "      <td>United States of America</td>\n",
       "      <td>1995-12-22</td>\n",
       "      <td>...</td>\n",
       "      <td>Waiting to Exhale</td>\n",
       "      <td>6.1</td>\n",
       "      <td>34.0</td>\n",
       "      <td>US</td>\n",
       "      <td>1995</td>\n",
       "      <td>12</td>\n",
       "      <td>22</td>\n",
       "      <td>5.090760</td>\n",
       "      <td>Forest Whitaker</td>\n",
       "      <td>Whitney Houston|Angela Bassett|Loretta Devine|...</td>\n",
       "    </tr>\n",
       "    <tr>\n",
       "      <th>4</th>\n",
       "      <td>Father of the Bride Collection</td>\n",
       "      <td>0.0</td>\n",
       "      <td>Comedy</td>\n",
       "      <td>11862</td>\n",
       "      <td>en</td>\n",
       "      <td>Just when George Banks has recovered from his ...</td>\n",
       "      <td>8.387519</td>\n",
       "      <td>Sandollar Productions|Touchstone Pictures</td>\n",
       "      <td>United States of America</td>\n",
       "      <td>1995-02-10</td>\n",
       "      <td>...</td>\n",
       "      <td>Father of the Bride Part II</td>\n",
       "      <td>5.7</td>\n",
       "      <td>173.0</td>\n",
       "      <td>US</td>\n",
       "      <td>1995</td>\n",
       "      <td>2</td>\n",
       "      <td>10</td>\n",
       "      <td>0.000000</td>\n",
       "      <td>Charles Shyer</td>\n",
       "      <td>Steve Martin|Diane Keaton|Martin Short|Kimberl...</td>\n",
       "    </tr>\n",
       "  </tbody>\n",
       "</table>\n",
       "<p>5 rows × 25 columns</p>\n",
       "</div>"
      ],
      "text/plain": [
       "             belongs_to_collection      budget                    genres  \\\n",
       "0             Toy Story Collection  30000000.0   Animation|Comedy|Family   \n",
       "1                              NaN  65000000.0  Adventure|Family|Fantasy   \n",
       "2        Grumpy Old Men Collection         0.0            Comedy|Romance   \n",
       "3                              NaN  16000000.0      Comedy|Drama|Romance   \n",
       "4   Father of the Bride Collection         0.0                    Comedy   \n",
       "\n",
       "   movie_id original_language  \\\n",
       "0       862                en   \n",
       "1      8844                en   \n",
       "2     15602                en   \n",
       "3     31357                en   \n",
       "4     11862                en   \n",
       "\n",
       "                                            overview  popularity  \\\n",
       "0  Led by Woody, Andy's toys live happily in his ...   21.946943   \n",
       "1  When siblings Judy and Peter discover an encha...   17.015539   \n",
       "2  A family wedding reignites the ancient feud be...   11.712900   \n",
       "3  Cheated on, mistreated and stepped on, the wom...    3.859495   \n",
       "4  Just when George Banks has recovered from his ...    8.387519   \n",
       "\n",
       "                                production_companies  \\\n",
       "0                            Pixar Animation Studios   \n",
       "1  Interscope Communications|Teitler Film|TriStar...   \n",
       "2                        Lancaster Gate|Warner Bros.   \n",
       "3             Twentieth Century Fox Film Corporation   \n",
       "4          Sandollar Productions|Touchstone Pictures   \n",
       "\n",
       "       production_countries release_date  ...                        title  \\\n",
       "0  United States of America   1995-10-30  ...                    Toy Story   \n",
       "1  United States of America   1995-12-15  ...                      Jumanji   \n",
       "2  United States of America   1995-12-22  ...             Grumpier Old Men   \n",
       "3  United States of America   1995-12-22  ...            Waiting to Exhale   \n",
       "4  United States of America   1995-02-10  ...  Father of the Bride Part II   \n",
       "\n",
       "   vote_average vote_count production_countries_code release_year  \\\n",
       "0           7.7     5415.0                        US         1995   \n",
       "1           6.9     2413.0                        US         1995   \n",
       "2           6.5       92.0                        US         1995   \n",
       "3           6.1       34.0                        US         1995   \n",
       "4           5.7      173.0                        US         1995   \n",
       "\n",
       "  release_month  release_day     return         director  \\\n",
       "0            10           30  12.451801    John Lasseter   \n",
       "1            12           15   4.043035     Joe Johnston   \n",
       "2            12           22   0.000000    Howard Deutch   \n",
       "3            12           22   5.090760  Forest Whitaker   \n",
       "4             2           10   0.000000    Charles Shyer   \n",
       "\n",
       "                                              actors  \n",
       "0  Tom Hanks|Tim Allen|Don Rickles|Jim Varney|Wal...  \n",
       "1  Robin Williams|Jonathan Hyde|Kirsten Dunst|Bra...  \n",
       "2  Walter Matthau|Jack Lemmon|Ann-Margret|Sophia ...  \n",
       "3  Whitney Houston|Angela Bassett|Loretta Devine|...  \n",
       "4  Steve Martin|Diane Keaton|Martin Short|Kimberl...  \n",
       "\n",
       "[5 rows x 25 columns]"
      ]
     },
     "execution_count": 261,
     "metadata": {},
     "output_type": "execute_result"
    }
   ],
   "source": [
    "data.head()"
   ]
  },
  {
   "cell_type": "code",
   "execution_count": 262,
   "metadata": {},
   "outputs": [],
   "source": [
    "def votos_titulo(titulo_de_la_filmacion: str):\n",
    "    filmaciones = list(data.title.unique())\n",
    "    if titulo_de_la_filmacion not in filmaciones:\n",
    "        return {'titulo': 'Movie not found'}\n",
    "    else:\n",
    "        movie_index = data.loc[data.title == titulo_de_la_filmacion].index\n",
    "        movie_year = data.release_year.iloc[movie_index].item() if pd.notna(data.release_year.iloc[movie_index]).any() else 'Desconocido'\n",
    "        movie_vote_count = data.vote_count.iloc[movie_index].item() if pd.notna(data.vote_count.iloc[movie_index]).any() else 'Desconocido'\n",
    "        movie_vote_average = data.vote_average.iloc[movie_index].item() if pd.notna(data.vote_average.iloc[movie_index]).any() else 'Desconocido'\n",
    "\n",
    "        if pd.notna(movie_vote_count) and int(movie_vote_count) < 2000:\n",
    "            movie_vote_count = 'Insuficientes votos'\n",
    "            movie_vote_average = 'Insuficientes votos'\n",
    "            mensaje = 'Este titulo tiene menos de 2000 votos'\n",
    "\n",
    "        return {\n",
    "            'titulo': titulo_de_la_filmacion,\n",
    "            'anio': int(movie_year) if isinstance(movie_year, float) else movie_year,\n",
    "            'votos': int(movie_vote_count) if isinstance(movie_vote_count, float) else movie_vote_count,\n",
    "            'valoracion_promedio': float(movie_vote_average) if isinstance(movie_vote_average, float) else movie_vote_average,\n",
    "            'mensaje': mensaje if 'mensaje' in locals() else None\n",
    "        }\n"
   ]
  },
  {
   "cell_type": "code",
   "execution_count": 263,
   "metadata": {},
   "outputs": [
    {
     "data": {
      "text/plain": [
       "{'titulo': 'Grumpier Old Men',\n",
       " 'anio': 1995,\n",
       " 'votos': 'Insuficientes votos',\n",
       " 'valoracion_promedio': 'Insuficientes votos',\n",
       " 'mensaje': 'Este titulo tiene menos de 2000 votos'}"
      ]
     },
     "execution_count": 263,
     "metadata": {},
     "output_type": "execute_result"
    }
   ],
   "source": [
    "votos_titulo('Grumpier Old Men')"
   ]
  },
  {
   "attachments": {},
   "cell_type": "markdown",
   "metadata": {},
   "source": [
    "def get_actor( nombre_actor ): Se ingresa el nombre de un actor que se encuentre dentro de un dataset debiendo devolver el éxito del mismo medido a través del retorno. Además, la cantidad de películas que en las que ha participado y el promedio de retorno. La definición no deberá considerar directores.\n",
    "                    Ejemplo de retorno: El actor X ha participado de X cantidad de filmaciones, el mismo ha conseguido un retorno de X con un promedio de X por filmación"
   ]
  },
  {
   "cell_type": "code",
   "execution_count": 267,
   "metadata": {},
   "outputs": [
    {
     "data": {
      "text/html": [
       "<div>\n",
       "<style scoped>\n",
       "    .dataframe tbody tr th:only-of-type {\n",
       "        vertical-align: middle;\n",
       "    }\n",
       "\n",
       "    .dataframe tbody tr th {\n",
       "        vertical-align: top;\n",
       "    }\n",
       "\n",
       "    .dataframe thead th {\n",
       "        text-align: right;\n",
       "    }\n",
       "</style>\n",
       "<table border=\"1\" class=\"dataframe\">\n",
       "  <thead>\n",
       "    <tr style=\"text-align: right;\">\n",
       "      <th></th>\n",
       "      <th>belongs_to_collection</th>\n",
       "      <th>budget</th>\n",
       "      <th>genres</th>\n",
       "      <th>movie_id</th>\n",
       "      <th>original_language</th>\n",
       "      <th>overview</th>\n",
       "      <th>popularity</th>\n",
       "      <th>production_companies</th>\n",
       "      <th>production_countries</th>\n",
       "      <th>release_date</th>\n",
       "      <th>...</th>\n",
       "      <th>title</th>\n",
       "      <th>vote_average</th>\n",
       "      <th>vote_count</th>\n",
       "      <th>production_countries_code</th>\n",
       "      <th>release_year</th>\n",
       "      <th>release_month</th>\n",
       "      <th>release_day</th>\n",
       "      <th>return</th>\n",
       "      <th>director</th>\n",
       "      <th>actors</th>\n",
       "    </tr>\n",
       "  </thead>\n",
       "  <tbody>\n",
       "    <tr>\n",
       "      <th>0</th>\n",
       "      <td>Toy Story Collection</td>\n",
       "      <td>30000000.0</td>\n",
       "      <td>Animation|Comedy|Family</td>\n",
       "      <td>862</td>\n",
       "      <td>en</td>\n",
       "      <td>Led by Woody, Andy's toys live happily in his ...</td>\n",
       "      <td>21.946943</td>\n",
       "      <td>Pixar Animation Studios</td>\n",
       "      <td>United States of America</td>\n",
       "      <td>1995-10-30</td>\n",
       "      <td>...</td>\n",
       "      <td>Toy Story</td>\n",
       "      <td>7.7</td>\n",
       "      <td>5415.0</td>\n",
       "      <td>US</td>\n",
       "      <td>1995</td>\n",
       "      <td>10</td>\n",
       "      <td>30</td>\n",
       "      <td>12.451801</td>\n",
       "      <td>John Lasseter</td>\n",
       "      <td>Tom Hanks|Tim Allen|Don Rickles|Jim Varney|Wal...</td>\n",
       "    </tr>\n",
       "  </tbody>\n",
       "</table>\n",
       "<p>1 rows × 25 columns</p>\n",
       "</div>"
      ],
      "text/plain": [
       "   belongs_to_collection      budget                   genres  movie_id  \\\n",
       "0   Toy Story Collection  30000000.0  Animation|Comedy|Family       862   \n",
       "\n",
       "  original_language                                           overview  \\\n",
       "0                en  Led by Woody, Andy's toys live happily in his ...   \n",
       "\n",
       "   popularity     production_companies      production_countries release_date  \\\n",
       "0   21.946943  Pixar Animation Studios  United States of America   1995-10-30   \n",
       "\n",
       "   ...      title  vote_average vote_count production_countries_code  \\\n",
       "0  ...  Toy Story           7.7     5415.0                        US   \n",
       "\n",
       "  release_year release_month  release_day     return       director  \\\n",
       "0         1995            10           30  12.451801  John Lasseter   \n",
       "\n",
       "                                              actors  \n",
       "0  Tom Hanks|Tim Allen|Don Rickles|Jim Varney|Wal...  \n",
       "\n",
       "[1 rows x 25 columns]"
      ]
     },
     "execution_count": 267,
     "metadata": {},
     "output_type": "execute_result"
    }
   ],
   "source": [
    "data.head(1)"
   ]
  },
  {
   "cell_type": "code",
   "execution_count": 307,
   "metadata": {},
   "outputs": [],
   "source": [
    "def get_actor(nombre_actor: str):\n",
    "    \"\"\"Obtiene el actor con nombre dado\"\"\"\n",
    "    all_actors = list(cast.name.unique())\n",
    "\n",
    "    if nombre_actor not in all_actors:\n",
    "        return {'mensaje':'Actor not found'}\n",
    "    else:\n",
    "        cantidad_titulos_actor = int(data.movie_id.loc[data.actors.fillna('').str.contains(nombre_actor)].count())\n",
    "        retorno_actor = float(data['return'].loc[data.actors.fillna('').str.contains(nombre_actor)].sum())\n",
    "        promedio_x_pelicula = retorno_actor / cantidad_titulos_actor\n",
    "\n",
    "        return {'actor':nombre_actor,\n",
    "                'cantidad_filmaciones':cantidad_titulos_actor,\n",
    "                'retorno_total_del_actor':retorno_actor,\n",
    "                'promedio_de_retorno_por_pelicula':promedio_x_pelicula}"
   ]
  },
  {
   "cell_type": "code",
   "execution_count": 311,
   "metadata": {},
   "outputs": [
    {
     "data": {
      "text/plain": [
       "{'actor': 'Jim Carrey',\n",
       " 'cantidad_filmaciones': 42,\n",
       " 'retorno_total_del_actor': 114.35521099633027,\n",
       " 'promedio_de_retorno_por_pelicula': 2.7227431189602447}"
      ]
     },
     "execution_count": 311,
     "metadata": {},
     "output_type": "execute_result"
    }
   ],
   "source": [
    "get_actor('Jim Carrey')"
   ]
  },
  {
   "cell_type": "code",
   "execution_count": 322,
   "metadata": {},
   "outputs": [
    {
     "data": {
      "text/html": [
       "<div>\n",
       "<style scoped>\n",
       "    .dataframe tbody tr th:only-of-type {\n",
       "        vertical-align: middle;\n",
       "    }\n",
       "\n",
       "    .dataframe tbody tr th {\n",
       "        vertical-align: top;\n",
       "    }\n",
       "\n",
       "    .dataframe thead th {\n",
       "        text-align: right;\n",
       "    }\n",
       "</style>\n",
       "<table border=\"1\" class=\"dataframe\">\n",
       "  <thead>\n",
       "    <tr style=\"text-align: right;\">\n",
       "      <th></th>\n",
       "      <th>movie_id</th>\n",
       "      <th>credit_id</th>\n",
       "      <th>department</th>\n",
       "      <th>gender</th>\n",
       "      <th>id</th>\n",
       "      <th>job</th>\n",
       "      <th>name</th>\n",
       "    </tr>\n",
       "  </thead>\n",
       "  <tbody>\n",
       "    <tr>\n",
       "      <th>0</th>\n",
       "      <td>862</td>\n",
       "      <td>52fe4284c3a36847f8024f49</td>\n",
       "      <td>Directing</td>\n",
       "      <td>2</td>\n",
       "      <td>7879</td>\n",
       "      <td>Director</td>\n",
       "      <td>John Lasseter</td>\n",
       "    </tr>\n",
       "    <tr>\n",
       "      <th>1</th>\n",
       "      <td>862</td>\n",
       "      <td>52fe4284c3a36847f8024f4f</td>\n",
       "      <td>Writing</td>\n",
       "      <td>2</td>\n",
       "      <td>12891</td>\n",
       "      <td>Screenplay</td>\n",
       "      <td>Joss Whedon</td>\n",
       "    </tr>\n",
       "    <tr>\n",
       "      <th>2</th>\n",
       "      <td>862</td>\n",
       "      <td>52fe4284c3a36847f8024f55</td>\n",
       "      <td>Writing</td>\n",
       "      <td>2</td>\n",
       "      <td>7</td>\n",
       "      <td>Screenplay</td>\n",
       "      <td>Andrew Stanton</td>\n",
       "    </tr>\n",
       "    <tr>\n",
       "      <th>3</th>\n",
       "      <td>862</td>\n",
       "      <td>52fe4284c3a36847f8024f5b</td>\n",
       "      <td>Writing</td>\n",
       "      <td>2</td>\n",
       "      <td>12892</td>\n",
       "      <td>Screenplay</td>\n",
       "      <td>Joel Cohen</td>\n",
       "    </tr>\n",
       "    <tr>\n",
       "      <th>4</th>\n",
       "      <td>862</td>\n",
       "      <td>52fe4284c3a36847f8024f61</td>\n",
       "      <td>Writing</td>\n",
       "      <td>0</td>\n",
       "      <td>12893</td>\n",
       "      <td>Screenplay</td>\n",
       "      <td>Alec Sokolow</td>\n",
       "    </tr>\n",
       "  </tbody>\n",
       "</table>\n",
       "</div>"
      ],
      "text/plain": [
       "   movie_id                 credit_id department  gender     id         job  \\\n",
       "0       862  52fe4284c3a36847f8024f49  Directing       2   7879    Director   \n",
       "1       862  52fe4284c3a36847f8024f4f    Writing       2  12891  Screenplay   \n",
       "2       862  52fe4284c3a36847f8024f55    Writing       2      7  Screenplay   \n",
       "3       862  52fe4284c3a36847f8024f5b    Writing       2  12892  Screenplay   \n",
       "4       862  52fe4284c3a36847f8024f61    Writing       0  12893  Screenplay   \n",
       "\n",
       "             name  \n",
       "0   John Lasseter  \n",
       "1     Joss Whedon  \n",
       "2  Andrew Stanton  \n",
       "3      Joel Cohen  \n",
       "4    Alec Sokolow  "
      ]
     },
     "execution_count": 322,
     "metadata": {},
     "output_type": "execute_result"
    }
   ],
   "source": [
    "crew.head()"
   ]
  },
  {
   "attachments": {},
   "cell_type": "markdown",
   "metadata": {},
   "source": [
    "def get_director( nombre_director ): Se ingresa el nombre de un director que se encuentre dentro de un dataset debiendo devolver el éxito del mismo medido a través del retorno. Además, deberá devolver el nombre de cada película con la fecha de lanzamiento, retorno individual, costo y ganancia de la misma."
   ]
  },
  {
   "cell_type": "code",
   "execution_count": 347,
   "metadata": {},
   "outputs": [],
   "source": [
    "def get_director(nombre_director: str):\n",
    "    if nombre_director not in data.director.unique():\n",
    "        return {'mensaje':'Director no encontrado en la base de datos'}\n",
    "    else:\n",
    "        retorno_total_director = data['return'].loc[data.director == nombre_director].sum()\n",
    "        movies_indexes = data.title.loc[data.director == nombre_director].index\n",
    "        movies_data = []\n",
    "        for index in movies_indexes:\n",
    "            movie_title = data.title.iloc[index]\n",
    "            movie_release_year = data.release_year.iloc[index]\n",
    "            movie_return = data['return'].iloc[index]\n",
    "            movie_budget = data.budget.iloc[index]\n",
    "            movie_revenue = data.revenue.iloc[index]\n",
    "\n",
    "            info = {'title':movie_title,\n",
    "                    'release_year':movie_release_year,\n",
    "                    'return':movie_return,\n",
    "                    'budget':movie_budget,\n",
    "                    'revenue':movie_revenue}\n",
    "            movies_data.append(info)\n",
    "        return {'director':nombre_director,\n",
    "                'retorno_total_director':retorno_total_director,\n",
    "                'peliculas':movies_data}"
   ]
  },
  {
   "cell_type": "code",
   "execution_count": 350,
   "metadata": {},
   "outputs": [
    {
     "data": {
      "text/plain": [
       "{'director': 'John Lasseter',\n",
       " 'retorno_total_director': 27.65437835777778,\n",
       " 'peliculas': [{'title': 'Toy Story',\n",
       "   'release_year': 1995,\n",
       "   'return': 12.4518011,\n",
       "   'budget': 30000000.0,\n",
       "   'revenue': 373554033.0},\n",
       "  {'title': \"A Bug's Life\",\n",
       "   'release_year': 1998,\n",
       "   'return': 3.027157158333333,\n",
       "   'budget': 120000000.0,\n",
       "   'revenue': 363258859.0},\n",
       "  {'title': 'Toy Story 2',\n",
       "   'release_year': 1999,\n",
       "   'return': 5.526298544444445,\n",
       "   'budget': 90000000.0,\n",
       "   'revenue': 497366869.0},\n",
       "  {'title': 'Luxo Jr.',\n",
       "   'release_year': 1996,\n",
       "   'return': 0.0,\n",
       "   'budget': 0.0,\n",
       "   'revenue': 0.0},\n",
       "  {'title': 'Cars',\n",
       "   'release_year': 1996,\n",
       "   'return': 3.849859575,\n",
       "   'budget': 120000000.0,\n",
       "   'revenue': 461983149.0},\n",
       "  {'title': 'Cars 2',\n",
       "   'release_year': 1941,\n",
       "   'return': 2.79926198,\n",
       "   'budget': 200000000.0,\n",
       "   'revenue': 559852396.0},\n",
       "  {'title': 'Tin Toy',\n",
       "   'release_year': 1993,\n",
       "   'return': 0.0,\n",
       "   'budget': 0.0,\n",
       "   'revenue': 0.0},\n",
       "  {'title': \"Red's Dream\",\n",
       "   'release_year': 2012,\n",
       "   'return': 0.0,\n",
       "   'budget': 0.0,\n",
       "   'revenue': 0.0},\n",
       "  {'title': 'Knick Knack',\n",
       "   'release_year': 2011,\n",
       "   'return': 0.0,\n",
       "   'budget': 0.0,\n",
       "   'revenue': 0.0},\n",
       "  {'title': 'Mater and the Ghostlight',\n",
       "   'release_year': 2014,\n",
       "   'return': 0.0,\n",
       "   'budget': 0.0,\n",
       "   'revenue': 0.0}]}"
      ]
     },
     "execution_count": 350,
     "metadata": {},
     "output_type": "execute_result"
    }
   ],
   "source": [
    "get_director('John Lasseter')"
   ]
  },
  {
   "cell_type": "code",
   "execution_count": 340,
   "metadata": {},
   "outputs": [
    {
     "name": "stdout",
     "output_type": "stream",
     "text": [
      "[{'title': 'Toy Story', 'release_year': 1995, 'return': 12.4518011, 'budget': 30000000.0, 'revenue': 373554033.0}, {'title': \"A Bug's Life\", 'release_year': 1998, 'return': 3.027157158333333, 'budget': 120000000.0, 'revenue': 363258859.0}, {'title': 'Toy Story 2', 'release_year': 1999, 'return': 5.526298544444445, 'budget': 90000000.0, 'revenue': 497366869.0}, {'title': 'Luxo Jr.', 'release_year': 1996, 'return': 0.0, 'budget': 0.0, 'revenue': 0.0}, {'title': 'Cars', 'release_year': 1996, 'return': 3.849859575, 'budget': 120000000.0, 'revenue': 461983149.0}, {'title': 'Cars 2', 'release_year': 1941, 'return': 2.79926198, 'budget': 200000000.0, 'revenue': 559852396.0}, {'title': 'Tin Toy', 'release_year': 1993, 'return': 0.0, 'budget': 0.0, 'revenue': 0.0}, {'title': \"Red's Dream\", 'release_year': 2012, 'return': 0.0, 'budget': 0.0, 'revenue': 0.0}, {'title': 'Knick Knack', 'release_year': 2011, 'return': 0.0, 'budget': 0.0, 'revenue': 0.0}, {'title': 'Mater and the Ghostlight', 'release_year': 2014, 'return': 0.0, 'budget': 0.0, 'revenue': 0.0}]\n"
     ]
    }
   ],
   "source": [
    "nombre_director = 'John Lasseter'\n",
    "\n",
    "movies_indexes = data.title.loc[data.director == nombre_director].index\n",
    "movies_data = []\n",
    "for index in movies_indexes:\n",
    "    movie_title = data.title.iloc[index]\n",
    "    movie_release_year = data.release_year.iloc[index]\n",
    "    movie_return = data['return'].iloc[index]\n",
    "    movie_budget = data.budget.iloc[index]\n",
    "    movie_revenue = data.revenue.iloc[index]\n",
    "\n",
    "    info = {'title':movie_title,\n",
    "            'release_year':movie_release_year,\n",
    "            'return':movie_return,\n",
    "            'budget':movie_budget,\n",
    "            'revenue':movie_revenue}\n",
    "    movies_data.append(info)\n",
    "print([d for d in movies_data])\n"
   ]
  },
  {
   "cell_type": "code",
   "execution_count": 338,
   "metadata": {},
   "outputs": [],
   "source": [
    "class Pelicula(BaseModel):\n",
    "    titulo: str\n",
    "    anio_lanzamiento: str\n",
    "    retorno_pelicula: str\n",
    "    costo_pelicula: str\n",
    "    ganancia_pelicula: str"
   ]
  }
 ],
 "metadata": {
  "kernelspec": {
   "display_name": "Python 3",
   "language": "python",
   "name": "python3"
  },
  "language_info": {
   "codemirror_mode": {
    "name": "ipython",
    "version": 3
   },
   "file_extension": ".py",
   "mimetype": "text/x-python",
   "name": "python",
   "nbconvert_exporter": "python",
   "pygments_lexer": "ipython3",
   "version": "3.10.11"
  },
  "orig_nbformat": 4
 },
 "nbformat": 4,
 "nbformat_minor": 2
}
