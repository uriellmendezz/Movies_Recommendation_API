{
 "cells": [
  {
   "cell_type": "code",
   "execution_count": 1,
   "metadata": {},
   "outputs": [],
   "source": [
    "import pandas as pd\n",
    "import matplotlib.pyplot as plt\n",
    "import seaborn as sns\n",
    "import warnings\n",
    "import numpy as np\n",
    "\n",
    "sns.set()\n",
    "warnings.filterwarnings('ignore')"
   ]
  },
  {
   "cell_type": "code",
   "execution_count": 2,
   "metadata": {},
   "outputs": [],
   "source": [
    "movies = pd.read_csv('../final_data/combined_data.csv')"
   ]
  },
  {
   "cell_type": "code",
   "execution_count": 3,
   "metadata": {},
   "outputs": [
    {
     "data": {
      "text/html": [
       "<div>\n",
       "<style scoped>\n",
       "    .dataframe tbody tr th:only-of-type {\n",
       "        vertical-align: middle;\n",
       "    }\n",
       "\n",
       "    .dataframe tbody tr th {\n",
       "        vertical-align: top;\n",
       "    }\n",
       "\n",
       "    .dataframe thead th {\n",
       "        text-align: right;\n",
       "    }\n",
       "</style>\n",
       "<table border=\"1\" class=\"dataframe\">\n",
       "  <thead>\n",
       "    <tr style=\"text-align: right;\">\n",
       "      <th></th>\n",
       "      <th>belongs_to_collection</th>\n",
       "      <th>budget</th>\n",
       "      <th>genres</th>\n",
       "      <th>movie_id</th>\n",
       "      <th>original_language</th>\n",
       "      <th>overview</th>\n",
       "      <th>popularity</th>\n",
       "      <th>production_companies</th>\n",
       "      <th>production_countries</th>\n",
       "      <th>release_date</th>\n",
       "      <th>...</th>\n",
       "      <th>title</th>\n",
       "      <th>vote_average</th>\n",
       "      <th>vote_count</th>\n",
       "      <th>production_countries_code</th>\n",
       "      <th>release_year</th>\n",
       "      <th>release_month</th>\n",
       "      <th>release_day</th>\n",
       "      <th>return</th>\n",
       "      <th>director</th>\n",
       "      <th>actors</th>\n",
       "    </tr>\n",
       "  </thead>\n",
       "  <tbody>\n",
       "    <tr>\n",
       "      <th>33948</th>\n",
       "      <td>NaN</td>\n",
       "      <td>0.0</td>\n",
       "      <td>Thriller</td>\n",
       "      <td>67810</td>\n",
       "      <td>en</td>\n",
       "      <td>Hard is about a gay serial killer and the gay ...</td>\n",
       "      <td>0.082495</td>\n",
       "      <td>NaN</td>\n",
       "      <td>NaN</td>\n",
       "      <td>1953-06-24</td>\n",
       "      <td>...</td>\n",
       "      <td>Hard</td>\n",
       "      <td>5.5</td>\n",
       "      <td>2.0</td>\n",
       "      <td>NaN</td>\n",
       "      <td>1953</td>\n",
       "      <td>6</td>\n",
       "      <td>24</td>\n",
       "      <td>0.0</td>\n",
       "      <td>John Huckert</td>\n",
       "      <td>Noel Palomaria|Malcolm Moorman|Charles Lanyer|...</td>\n",
       "    </tr>\n",
       "    <tr>\n",
       "      <th>41555</th>\n",
       "      <td>NaN</td>\n",
       "      <td>0.0</td>\n",
       "      <td>Comedy|Drama|Romance</td>\n",
       "      <td>320293</td>\n",
       "      <td>fi</td>\n",
       "      <td>The main character is a miller, who sometimes ...</td>\n",
       "      <td>0.070588</td>\n",
       "      <td>Filmityö</td>\n",
       "      <td>Finland</td>\n",
       "      <td>2016-12-08</td>\n",
       "      <td>...</td>\n",
       "      <td>The Howling Miller</td>\n",
       "      <td>6.0</td>\n",
       "      <td>2.0</td>\n",
       "      <td>FI</td>\n",
       "      <td>2016</td>\n",
       "      <td>12</td>\n",
       "      <td>8</td>\n",
       "      <td>0.0</td>\n",
       "      <td>Jaakko Pakkasvirta</td>\n",
       "      <td>Vesa-Matti Loiri|Eija Ahvo|Yrjö Järvinen|Harri...</td>\n",
       "    </tr>\n",
       "  </tbody>\n",
       "</table>\n",
       "<p>2 rows × 25 columns</p>\n",
       "</div>"
      ],
      "text/plain": [
       "      belongs_to_collection  budget                genres  movie_id  \\\n",
       "33948                   NaN     0.0              Thriller     67810   \n",
       "41555                   NaN     0.0  Comedy|Drama|Romance    320293   \n",
       "\n",
       "      original_language                                           overview  \\\n",
       "33948                en  Hard is about a gay serial killer and the gay ...   \n",
       "41555                fi  The main character is a miller, who sometimes ...   \n",
       "\n",
       "       popularity production_companies production_countries release_date  ...  \\\n",
       "33948    0.082495                  NaN                  NaN   1953-06-24  ...   \n",
       "41555    0.070588             Filmityö              Finland   2016-12-08  ...   \n",
       "\n",
       "                    title  vote_average vote_count production_countries_code  \\\n",
       "33948                Hard           5.5        2.0                       NaN   \n",
       "41555  The Howling Miller           6.0        2.0                        FI   \n",
       "\n",
       "      release_year release_month  release_day  return            director  \\\n",
       "33948         1953             6           24     0.0        John Huckert   \n",
       "41555         2016            12            8     0.0  Jaakko Pakkasvirta   \n",
       "\n",
       "                                                  actors  \n",
       "33948  Noel Palomaria|Malcolm Moorman|Charles Lanyer|...  \n",
       "41555  Vesa-Matti Loiri|Eija Ahvo|Yrjö Järvinen|Harri...  \n",
       "\n",
       "[2 rows x 25 columns]"
      ]
     },
     "execution_count": 3,
     "metadata": {},
     "output_type": "execute_result"
    }
   ],
   "source": [
    "movies.sample(2)"
   ]
  },
  {
   "attachments": {},
   "cell_type": "markdown",
   "metadata": {},
   "source": [
    "#### Seleccion de las columnas\n",
    "*No selecciono la columna de overview porque si no mi matriz de similitud se va hacer muy pesada y dificil de procesar*"
   ]
  },
  {
   "cell_type": "code",
   "execution_count": 4,
   "metadata": {},
   "outputs": [
    {
     "data": {
      "text/html": [
       "<div>\n",
       "<style scoped>\n",
       "    .dataframe tbody tr th:only-of-type {\n",
       "        vertical-align: middle;\n",
       "    }\n",
       "\n",
       "    .dataframe tbody tr th {\n",
       "        vertical-align: top;\n",
       "    }\n",
       "\n",
       "    .dataframe thead th {\n",
       "        text-align: right;\n",
       "    }\n",
       "</style>\n",
       "<table border=\"1\" class=\"dataframe\">\n",
       "  <thead>\n",
       "    <tr style=\"text-align: right;\">\n",
       "      <th></th>\n",
       "      <th>title</th>\n",
       "      <th>genres</th>\n",
       "      <th>director</th>\n",
       "    </tr>\n",
       "  </thead>\n",
       "  <tbody>\n",
       "    <tr>\n",
       "      <th>27246</th>\n",
       "      <td>New World Order</td>\n",
       "      <td>Documentary</td>\n",
       "      <td>Luke Meyer</td>\n",
       "    </tr>\n",
       "    <tr>\n",
       "      <th>19642</th>\n",
       "      <td>Tom &amp; Thomas</td>\n",
       "      <td>Drama|Family</td>\n",
       "      <td>Esmé Lammers</td>\n",
       "    </tr>\n",
       "  </tbody>\n",
       "</table>\n",
       "</div>"
      ],
      "text/plain": [
       "                 title        genres      director\n",
       "27246  New World Order   Documentary    Luke Meyer\n",
       "19642     Tom & Thomas  Drama|Family  Esmé Lammers"
      ]
     },
     "execution_count": 4,
     "metadata": {},
     "output_type": "execute_result"
    }
   ],
   "source": [
    "movies = movies[['title','genres','director']]\n",
    "movies.sample(2)"
   ]
  },
  {
   "cell_type": "code",
   "execution_count": 5,
   "metadata": {},
   "outputs": [],
   "source": [
    "movies.genres = movies.genres.str.replace('|',' ')"
   ]
  },
  {
   "cell_type": "code",
   "execution_count": 6,
   "metadata": {},
   "outputs": [
    {
     "data": {
      "text/html": [
       "<div>\n",
       "<style scoped>\n",
       "    .dataframe tbody tr th:only-of-type {\n",
       "        vertical-align: middle;\n",
       "    }\n",
       "\n",
       "    .dataframe tbody tr th {\n",
       "        vertical-align: top;\n",
       "    }\n",
       "\n",
       "    .dataframe thead th {\n",
       "        text-align: right;\n",
       "    }\n",
       "</style>\n",
       "<table border=\"1\" class=\"dataframe\">\n",
       "  <thead>\n",
       "    <tr style=\"text-align: right;\">\n",
       "      <th></th>\n",
       "      <th>title</th>\n",
       "      <th>genres</th>\n",
       "      <th>director</th>\n",
       "      <th>joined_data</th>\n",
       "    </tr>\n",
       "  </thead>\n",
       "  <tbody>\n",
       "    <tr>\n",
       "      <th>42147</th>\n",
       "      <td>Stolen Death</td>\n",
       "      <td>Thriller</td>\n",
       "      <td>Nyrki Tapiovaara</td>\n",
       "      <td>Stolen Death Thriller Nyrki Tapiovaara</td>\n",
       "    </tr>\n",
       "  </tbody>\n",
       "</table>\n",
       "</div>"
      ],
      "text/plain": [
       "              title    genres          director  \\\n",
       "42147  Stolen Death  Thriller  Nyrki Tapiovaara   \n",
       "\n",
       "                                  joined_data  \n",
       "42147  Stolen Death Thriller Nyrki Tapiovaara  "
      ]
     },
     "execution_count": 6,
     "metadata": {},
     "output_type": "execute_result"
    }
   ],
   "source": [
    "movies['joined_data'] = movies[['title','genres','director']].astype(str).apply(' '.join, axis=1)\n",
    "movies.sample()"
   ]
  },
  {
   "attachments": {},
   "cell_type": "markdown",
   "metadata": {},
   "source": [
    "Cálculo de similitud de puntuación\n"
   ]
  },
  {
   "cell_type": "code",
   "execution_count": 7,
   "metadata": {},
   "outputs": [],
   "source": [
    "from sklearn.metrics.pairwise import cosine_similarity\n",
    "#from sklearn.feature_extraction.text import CountVectorizer\n",
    "from sklearn.feature_extraction.text import TfidfVectorizer\n",
    "from sklearn.metrics.pairwise import linear_kernel\n",
    " \n",
    "# Elejí usar TfidfVectorizer para la vectorizacion de los datos en vez de CountVectorizer. Si bien este ultimo es mejor por cuestiones de memoria, \n",
    "# el TfidfVectorizer brinda mayor precision a la hora de buscar una puntuación de similitud en las cadenas de strings"
   ]
  },
  {
   "cell_type": "code",
   "execution_count": 8,
   "metadata": {},
   "outputs": [],
   "source": [
    "vectorizer = TfidfVectorizer(stop_words='english') # Elimino las palabras mas comunes del ingles"
   ]
  },
  {
   "cell_type": "code",
   "execution_count": 9,
   "metadata": {},
   "outputs": [],
   "source": [
    "def get_recommendation(title):\n",
    "    \"\"\"Get the recommendation for a given title\"\"\"\n",
    "    # Obtengo los géneros de la pelicula\n",
    "    movie_genres = movies['genres'].loc[movies['title'] == title]\n",
    "\n",
    "    # Separo los generos en una lista\n",
    "    genres = [v.split(' ') for v in movie_genres if isinstance(v,str)]\n",
    "\n",
    "    # Filtro el dataframe con las peliculas que tengan los mismos géneros que la pelicula de interes\n",
    "    # y con las peliculas que tengan en su titulo el nombre de la pelicula de interes\n",
    "    similar_movies = movies.loc[movies.genres.fillna(' ').str.contains(movie_genres.values[0]) | movies.title.str.contains(title)].reset_index(drop=True)\n",
    "   \n",
    "    # Vectorizo los datos\n",
    "    data_matrix = vectorizer.fit_transform(similar_movies.joined_data)\n",
    "    # Genero la matriz de puntuación de similitud entre las peliculas\n",
    "    similarity_matrix = cosine_similarity(data_matrix,data_matrix)\n",
    "\n",
    "    # Obtengo el indice en el dataframe filtrado de la pelicula de interes\n",
    "    movie_index = similar_movies.loc[similar_movies['title'] == title].index \n",
    "\n",
    "    sim_movies = list(enumerate(similarity_matrix[movie_index[0]]))\n",
    "    sim_movies = sorted(sim_movies, key=lambda x: x[1], reverse=True)\n",
    "    top_similar_movies = [similar_movies.loc[i, 'title'] for i, _ in sim_movies[1:20] if similar_movies.loc[i, 'title'] != title][:5]\n",
    "    return top_similar_movies"
   ]
  },
  {
   "cell_type": "code",
   "execution_count": 30,
   "metadata": {},
   "outputs": [
    {
     "data": {
      "text/plain": [
       "['Cars 2', \"A Bug's Life\", 'Cars 3', 'The Ant Bully', 'Dino Time']"
      ]
     },
     "execution_count": 30,
     "metadata": {},
     "output_type": "execute_result"
    }
   ],
   "source": [
    "get_recommendation('Cars')"
   ]
  }
 ],
 "metadata": {
  "kernelspec": {
   "display_name": "Python 3",
   "language": "python",
   "name": "python3"
  },
  "language_info": {
   "codemirror_mode": {
    "name": "ipython",
    "version": 3
   },
   "file_extension": ".py",
   "mimetype": "text/x-python",
   "name": "python",
   "nbconvert_exporter": "python",
   "pygments_lexer": "ipython3",
   "version": "3.10.11"
  },
  "orig_nbformat": 4
 },
 "nbformat": 4,
 "nbformat_minor": 2
}
