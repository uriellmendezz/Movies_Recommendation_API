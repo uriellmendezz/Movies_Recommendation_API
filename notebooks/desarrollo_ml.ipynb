{
 "cells": [
  {
   "attachments": {},
   "cell_type": "markdown",
   "metadata": {},
   "source": [
    "## Notebook para probar de las funciónes de la API"
   ]
  },
  {
   "cell_type": "code",
   "execution_count": 29,
   "metadata": {},
   "outputs": [],
   "source": [
    "import pandas as pd\n",
    "import warnings\n",
    "import numpy as np\n",
    "import json\n",
    "from fastapi import FastAPI, Response\n",
    "from fastapi.responses import JSONResponse\n",
    "warnings.filterwarnings('ignore')\n",
    "import datetime"
   ]
  },
  {
   "cell_type": "code",
   "execution_count": 30,
   "metadata": {},
   "outputs": [],
   "source": [
    "meses = ['enero', 'febrero', 'marzo', 'abril', 'mayo', 'junio', 'julio', 'agosto', 'septiembre', 'octubre', 'noviembre', 'diciembre']\n",
    "dias_es = ['lunes', 'martes', 'miercoles', 'jueves','viernes','sabado','domingo',\"lunes\", \"martes\", \"miércoles\", \"jueves\", \"viernes\", \"sábado\", \"domingo\"]\n",
    "dias_en = [\"Monday\", \"Tuesday\", \"Wednesday\", \"Thursday\", \"Friday\", \"Saturday\", \"Sunday\",\"Monday\", \"Tuesday\", \"Wednesday\", \"Thursday\", \"Friday\", \"Saturday\", \"Sunday\"]\n",
    "\n",
    "# Datasets\n",
    "data = pd.read_csv('../final_data/combined_data.csv',sep=',')\n",
    "cast = pd.read_csv('../final_data/final_cast.csv')\n",
    "\n",
    "movies = data[['title','genres','director']]\n",
    "movies = movies.dropna(subset=['genres']) # Elimino las peliculas que tienen vacio el campo de 'genres'\n",
    "\n",
    "data.release_date = data.release_date.apply(lambda x: pd.to_datetime(x).date() if '-' in x else x)\n",
    "data['release_weekday']= data.release_date.apply(lambda x: x.strftime('%A') if type(x) == datetime.date else np.nan)"
   ]
  },
  {
   "cell_type": "code",
   "execution_count": 32,
   "metadata": {},
   "outputs": [
    {
     "data": {
      "text/html": [
       "<div>\n",
       "<style scoped>\n",
       "    .dataframe tbody tr th:only-of-type {\n",
       "        vertical-align: middle;\n",
       "    }\n",
       "\n",
       "    .dataframe tbody tr th {\n",
       "        vertical-align: top;\n",
       "    }\n",
       "\n",
       "    .dataframe thead th {\n",
       "        text-align: right;\n",
       "    }\n",
       "</style>\n",
       "<table border=\"1\" class=\"dataframe\">\n",
       "  <thead>\n",
       "    <tr style=\"text-align: right;\">\n",
       "      <th></th>\n",
       "      <th>belongs_to_collection</th>\n",
       "      <th>budget</th>\n",
       "      <th>genres</th>\n",
       "      <th>movie_id</th>\n",
       "      <th>original_language</th>\n",
       "      <th>overview</th>\n",
       "      <th>popularity</th>\n",
       "      <th>production_companies</th>\n",
       "      <th>production_countries</th>\n",
       "      <th>release_date</th>\n",
       "      <th>...</th>\n",
       "      <th>vote_average</th>\n",
       "      <th>vote_count</th>\n",
       "      <th>production_countries_code</th>\n",
       "      <th>release_year</th>\n",
       "      <th>release_month</th>\n",
       "      <th>release_day</th>\n",
       "      <th>return</th>\n",
       "      <th>director</th>\n",
       "      <th>actors</th>\n",
       "      <th>release_weekday</th>\n",
       "    </tr>\n",
       "  </thead>\n",
       "  <tbody>\n",
       "    <tr>\n",
       "      <th>33894</th>\n",
       "      <td>Paranormal Activity Collection</td>\n",
       "      <td>10000000.0</td>\n",
       "      <td>Horror|Thriller</td>\n",
       "      <td>146301</td>\n",
       "      <td>en</td>\n",
       "      <td>Using a special camera that can see spirits, a...</td>\n",
       "      <td>9.185701</td>\n",
       "      <td>Blumhouse Productions|Paramount Pictures</td>\n",
       "      <td>United States of America</td>\n",
       "      <td>2014-12-12</td>\n",
       "      <td>...</td>\n",
       "      <td>5.0</td>\n",
       "      <td>435.0</td>\n",
       "      <td>US</td>\n",
       "      <td>2014</td>\n",
       "      <td>12</td>\n",
       "      <td>12</td>\n",
       "      <td>7.809655</td>\n",
       "      <td>Gregory Plotkin</td>\n",
       "      <td>Chris J. Murray|Brit Shaw|Ivy George|Dan Gill|...</td>\n",
       "      <td>Friday</td>\n",
       "    </tr>\n",
       "    <tr>\n",
       "      <th>6235</th>\n",
       "      <td>Nevada Smith Collection</td>\n",
       "      <td>0.0</td>\n",
       "      <td>Action|Western</td>\n",
       "      <td>5921</td>\n",
       "      <td>en</td>\n",
       "      <td>Nevada Smith is the young son of an Indian mot...</td>\n",
       "      <td>6.974375</td>\n",
       "      <td>Embassy Pictures|Paramount Pictures|Solar Prod...</td>\n",
       "      <td>United States of America</td>\n",
       "      <td>1970-05-01</td>\n",
       "      <td>...</td>\n",
       "      <td>6.9</td>\n",
       "      <td>34.0</td>\n",
       "      <td>US</td>\n",
       "      <td>1970</td>\n",
       "      <td>5</td>\n",
       "      <td>1</td>\n",
       "      <td>0.000000</td>\n",
       "      <td>Henry Hathaway</td>\n",
       "      <td>Steve McQueen|Karl Malden|Brian Keith|Arthur K...</td>\n",
       "      <td>Friday</td>\n",
       "    </tr>\n",
       "  </tbody>\n",
       "</table>\n",
       "<p>2 rows × 26 columns</p>\n",
       "</div>"
      ],
      "text/plain": [
       "                 belongs_to_collection      budget           genres  movie_id  \\\n",
       "33894   Paranormal Activity Collection  10000000.0  Horror|Thriller    146301   \n",
       "6235           Nevada Smith Collection         0.0   Action|Western      5921   \n",
       "\n",
       "      original_language                                           overview  \\\n",
       "33894                en  Using a special camera that can see spirits, a...   \n",
       "6235                 en  Nevada Smith is the young son of an Indian mot...   \n",
       "\n",
       "       popularity                               production_companies  \\\n",
       "33894    9.185701           Blumhouse Productions|Paramount Pictures   \n",
       "6235     6.974375  Embassy Pictures|Paramount Pictures|Solar Prod...   \n",
       "\n",
       "           production_countries release_date  ...  vote_average  vote_count  \\\n",
       "33894  United States of America   2014-12-12  ...           5.0       435.0   \n",
       "6235   United States of America   1970-05-01  ...           6.9        34.0   \n",
       "\n",
       "      production_countries_code release_year release_month release_day  \\\n",
       "33894                        US         2014            12          12   \n",
       "6235                         US         1970             5           1   \n",
       "\n",
       "         return         director  \\\n",
       "33894  7.809655  Gregory Plotkin   \n",
       "6235   0.000000   Henry Hathaway   \n",
       "\n",
       "                                                  actors  release_weekday  \n",
       "33894  Chris J. Murray|Brit Shaw|Ivy George|Dan Gill|...           Friday  \n",
       "6235   Steve McQueen|Karl Malden|Brian Keith|Arthur K...           Friday  \n",
       "\n",
       "[2 rows x 26 columns]"
      ]
     },
     "execution_count": 32,
     "metadata": {},
     "output_type": "execute_result"
    }
   ],
   "source": [
    "data.sample(2)"
   ]
  },
  {
   "attachments": {},
   "cell_type": "markdown",
   "metadata": {},
   "source": [
    "`def cantidad_filmaciones_mes(mes:str):`"
   ]
  },
  {
   "cell_type": "code",
   "execution_count": 42,
   "metadata": {},
   "outputs": [],
   "source": [
    "def cantidad_filmaciones_mes(mes:str):\n",
    "    '''Se ingresa el mes y la funcion retorna la cantidad de peliculas que se estrenaron ese mes historicamente'''\n",
    "    mes = mes.lower()\n",
    "    if mes not in meses:\n",
    "        return {'mensaje':'Ingresar un mes en idioma Español'}\n",
    "    else:\n",
    "        mes_numero = meses.index(mes)\n",
    "        cantidad_xmes = float(data['movie_id'].loc[data.release_month == mes_numero].count())\n",
    "        data_json = {'mes':mes,'cantidad_fimaciones_mes':cantidad_xmes}\n",
    "\n",
    "        return data_json"
   ]
  },
  {
   "cell_type": "code",
   "execution_count": 46,
   "metadata": {},
   "outputs": [
    {
     "data": {
      "text/plain": [
       "{'mes': 'octubre', 'cantidad_fimaciones_mes': 4842.0}"
      ]
     },
     "execution_count": 46,
     "metadata": {},
     "output_type": "execute_result"
    }
   ],
   "source": [
    "cantidad_filmaciones_mes('OCtubrE')"
   ]
  },
  {
   "attachments": {},
   "cell_type": "markdown",
   "metadata": {},
   "source": [
    "`def cantidad_filmaciones_dia(dia:str):`"
   ]
  },
  {
   "cell_type": "code",
   "execution_count": 47,
   "metadata": {},
   "outputs": [],
   "source": [
    "def cantidad_filmaciones_dia(dia:str):\n",
    "    '''Se ingresa el dia y la funcion retorna la cantidad de peliculas que se estrebaron ese dia historicamente'''\n",
    "    dia = dia.lower()\n",
    "    if dia not in dias_es:\n",
    "        data_json = {'mensaje':'Se requiere de un dia de la semana en idioma Espaniol (Spanish)'}\n",
    " \n",
    "    else:\n",
    "        dia_index = dias_es.index(dia)\n",
    "        cantidad_xdia = data.movie_id.loc[data.release_weekday == dias_en[dia_index]].count()\n",
    "        data_json = {'dia':dia.capitalize(), 'cantidad_filmaciones_dia':int(cantidad_xdia)}\n",
    "\n",
    "    return data_json"
   ]
  },
  {
   "cell_type": "code",
   "execution_count": 48,
   "metadata": {},
   "outputs": [
    {
     "data": {
      "text/plain": [
       "{'dia': 'Jueves', 'cantidad_filmaciones_dia': 7528}"
      ]
     },
     "execution_count": 48,
     "metadata": {},
     "output_type": "execute_result"
    }
   ],
   "source": [
    "cantidad_filmaciones_dia('JUEves')"
   ]
  },
  {
   "attachments": {},
   "cell_type": "markdown",
   "metadata": {},
   "source": [
    "`def score_titulo(titulo:str):`"
   ]
  },
  {
   "cell_type": "code",
   "execution_count": 50,
   "metadata": {},
   "outputs": [],
   "source": [
    "def score_titulo(titulo:str):\n",
    "    '''Se ingresa el título de una filmación esperando como respuesta el título, el año de estreno y el score'''\n",
    "    filmaciones = list(data.title.unique())\n",
    "    if titulo not in filmaciones:\n",
    "        data_json = {'titulo':'No se encuentra la pelicula en la base de datos'}\n",
    "    else:\n",
    "        movie_index = data.loc[data.title == titulo].index\n",
    "        movie_year = data.release_year.iloc[movie_index]\n",
    "        movie_score = data.popularity.iloc[movie_index]\n",
    "\n",
    "        if pd.isna(movie_year).any():\n",
    "            movie_year = 'Desconocido'\n",
    "        else:\n",
    "            movie_year = int(movie_year.iloc[0])\n",
    "\n",
    "        if pd.isna(movie_score).any():\n",
    "            movie_score = 'Desconocido'\n",
    "        else:\n",
    "            movie_score = float(movie_score.iloc[0])\n",
    "\n",
    "        data_json = {'titulo':titulo,\n",
    "                    'anio':movie_year,\n",
    "                    'popularity':movie_score}\n",
    "\n",
    "    return data_json"
   ]
  },
  {
   "cell_type": "code",
   "execution_count": 53,
   "metadata": {},
   "outputs": [
    {
     "data": {
      "text/plain": [
       "{'titulo': 'The Avengers', 'anio': 1998, 'popularity': 9.562953}"
      ]
     },
     "execution_count": 53,
     "metadata": {},
     "output_type": "execute_result"
    }
   ],
   "source": [
    "score_titulo('The Avengers')"
   ]
  },
  {
   "attachments": {},
   "cell_type": "markdown",
   "metadata": {},
   "source": [
    "`def votos_titulo(titulo:str):`"
   ]
  },
  {
   "cell_type": "code",
   "execution_count": 64,
   "metadata": {},
   "outputs": [],
   "source": [
    "def votos_titulo(titulo:str):\n",
    "    '''Se ingresa el título de una filmación esperando como respuesta el título, la cantidad de votos y el valor promedio de las votaciones. \n",
    "    La misma variable deberá de contar con al menos 2000 valoraciones, \n",
    "    caso contrario, debemos contar con un mensaje avisando que no cumple esta condición y que por ende, no se devuelve ningun valor.'''\n",
    "    filmaciones = list(data.title.unique())\n",
    "    if titulo not in filmaciones:\n",
    "        data_json = {'titulo': 'Movie not found'}\n",
    "    else:\n",
    "        movie_index = data.loc[data.title == titulo].index\n",
    "        movie_year = data.release_year.iloc[movie_index].tolist()[0] if pd.notna(data.release_year.iloc[movie_index]).any() else 'Desconocido'\n",
    "        movie_vote_count = data.vote_count.iloc[movie_index].tolist()[0] if pd.notna(data.vote_count.iloc[movie_index]).any() else 'Desconocido'\n",
    "        movie_vote_average = data.vote_average.iloc[movie_index].tolist()[0] if pd.notna(data.vote_average.iloc[movie_index]).any() else 'Desconocido'\n",
    "\n",
    "        if pd.notna(movie_vote_count) and int(movie_vote_count) < 2000:\n",
    "            movie_vote_count = 'Insuficientes votos'\n",
    "            movie_vote_average = 'Insuficientes votos'\n",
    "            mensaje = 'Este titulo tiene menos de 2000 votos'\n",
    "\n",
    "        data_json = {\n",
    "            'titulo': titulo,\n",
    "            'anio': int(movie_year) if isinstance(movie_year, float) else movie_year,\n",
    "            'votos': int(movie_vote_count) if isinstance(movie_vote_count, float) else movie_vote_count,\n",
    "            'valoracion_promedio': float(movie_vote_average) if isinstance(movie_vote_average, float) else movie_vote_average,\n",
    "            'mensaje': mensaje if 'mensaje' in locals() else None}\n",
    "        \n",
    "    return data_json"
   ]
  },
  {
   "cell_type": "code",
   "execution_count": 67,
   "metadata": {},
   "outputs": [
    {
     "data": {
      "text/plain": [
       "{'titulo': 'Minions',\n",
       " 'anio': 2008,\n",
       " 'votos': 4729,\n",
       " 'valoracion_promedio': 6.4,\n",
       " 'mensaje': None}"
      ]
     },
     "execution_count": 67,
     "metadata": {},
     "output_type": "execute_result"
    }
   ],
   "source": [
    "votos_titulo('Minions')"
   ]
  },
  {
   "attachments": {},
   "cell_type": "markdown",
   "metadata": {},
   "source": [
    "`def get_actor(nombre_actor:str):`"
   ]
  },
  {
   "cell_type": "code",
   "execution_count": 68,
   "metadata": {},
   "outputs": [],
   "source": [
    "def get_actor(nombre_actor:str):\n",
    "    '''Se ingresa el nombre de un actor que se encuentre dentro de un dataset debiendo devolver el éxito del mismo medido a través del retorno. \n",
    "    Además, la cantidad de películas que en las que ha participado y el promedio de retorno'''\n",
    "    all_actors = list(cast.name.unique())\n",
    "\n",
    "    if nombre_actor not in all_actors:\n",
    "        data_json = {'mensaje':'Actor not found'}\n",
    "    else:\n",
    "        cantidad_titulos_actor = int(data.movie_id.loc[data.actors.fillna('').str.contains(nombre_actor)].count())\n",
    "        retorno_actor = float(data['return'].loc[data.actors.fillna('').str.contains(nombre_actor)].sum())\n",
    "        promedio_x_pelicula = retorno_actor / cantidad_titulos_actor\n",
    "\n",
    "        data_json = {'actor':nombre_actor,\n",
    "                'cantidad_filmaciones':cantidad_titulos_actor,\n",
    "                'retorno_total_del_actor':retorno_actor,\n",
    "                'promedio_de_retorno_por_pelicula':promedio_x_pelicula}\n",
    "    \n",
    "    return data_json"
   ]
  },
  {
   "cell_type": "code",
   "execution_count": 69,
   "metadata": {},
   "outputs": [
    {
     "data": {
      "text/plain": [
       "{'actor': 'Tom Hanks',\n",
       " 'cantidad_filmaciones': 71,\n",
       " 'retorno_total_del_actor': 178.8494960552024,\n",
       " 'promedio_de_retorno_por_pelicula': 2.5190069866929914}"
      ]
     },
     "execution_count": 69,
     "metadata": {},
     "output_type": "execute_result"
    }
   ],
   "source": [
    "get_actor('Tom Hanks')"
   ]
  },
  {
   "attachments": {},
   "cell_type": "markdown",
   "metadata": {},
   "source": [
    "`def get_director(nombre_director:str):`"
   ]
  },
  {
   "cell_type": "code",
   "execution_count": 70,
   "metadata": {},
   "outputs": [],
   "source": [
    "def get_director(nombre_director:str):\n",
    "    ''' Se ingresa el nombre de un director que se encuentre dentro de un dataset debiendo devolver el éxito del mismo medido a través del retorno. \n",
    "    Además, deberá devolver el nombre de cada película con la fecha de lanzamiento, retorno individual, costo y ganancia de la misma.'''\n",
    "    \n",
    "    if nombre_director not in data.director.unique():\n",
    "        data_json = {'mensaje':'Director no encontrado en la base de datos'}\n",
    "    else:\n",
    "        retorno_total_director = data['return'].loc[data.director == nombre_director].sum()\n",
    "        movies_indexes = data.title.loc[data.director == nombre_director].index\n",
    "        movies_data = []\n",
    "        for index in movies_indexes:\n",
    "            movie_title = data.title.iloc[index]\n",
    "            movie_release_year = data.release_year.iloc[index]\n",
    "            movie_return = data['return'].iloc[index]\n",
    "            movie_budget = data.budget.iloc[index]\n",
    "            movie_revenue = data.revenue.iloc[index]\n",
    "\n",
    "            info = {'title':movie_title,\n",
    "                    'release_year':movie_release_year,\n",
    "                    'return':movie_return,\n",
    "                    'budget':movie_budget,\n",
    "                    'revenue':movie_revenue}\n",
    "            movies_data.append(info)\n",
    "            \n",
    "        data_json = {'director':nombre_director,\n",
    "                'retorno_total_director':retorno_total_director,\n",
    "                'peliculas':movies_data}\n",
    "    \n",
    "    return data_json"
   ]
  },
  {
   "cell_type": "code",
   "execution_count": 71,
   "metadata": {},
   "outputs": [
    {
     "data": {
      "text/plain": [
       "{'director': 'James Cameron',\n",
       " 'retorno_total_director': 54.23441585285313,\n",
       " 'peliculas': [{'title': 'True Lies',\n",
       "   'release_year': 1994,\n",
       "   'return': 3.2946296608695653,\n",
       "   'budget': 115000000.0,\n",
       "   'revenue': 378882411.0},\n",
       "  {'title': 'Terminator 2: Judgment Day',\n",
       "   'release_year': 1991,\n",
       "   'return': 5.2,\n",
       "   'budget': 100000000.0,\n",
       "   'revenue': 520000000.0},\n",
       "  {'title': 'The Abyss',\n",
       "   'release_year': 1981,\n",
       "   'return': 1.2857156857142855,\n",
       "   'budget': 70000000.0,\n",
       "   'revenue': 90000098.0},\n",
       "  {'title': 'Aliens',\n",
       "   'release_year': 1987,\n",
       "   'return': 9.908997567567567,\n",
       "   'budget': 18500000.0,\n",
       "   'revenue': 183316455.0},\n",
       "  {'title': 'The Terminator',\n",
       "   'release_year': 1989,\n",
       "   'return': 12.2455,\n",
       "   'budget': 6400000.0,\n",
       "   'revenue': 78371200.0},\n",
       "  {'title': 'Titanic',\n",
       "   'release_year': 1996,\n",
       "   'return': 9.22517094,\n",
       "   'budget': 200000000.0,\n",
       "   'revenue': 1845034188.0},\n",
       "  {'title': 'Piranha Part Two: The Spawning',\n",
       "   'release_year': 2002,\n",
       "   'return': 0.0,\n",
       "   'budget': 145786.0,\n",
       "   'revenue': 0.0},\n",
       "  {'title': 'Ghosts of the Abyss',\n",
       "   'release_year': 2003,\n",
       "   'return': 1.3108362307692307,\n",
       "   'budget': 13000000.0,\n",
       "   'revenue': 17040871.0},\n",
       "  {'title': 'Aliens of the Deep',\n",
       "   'release_year': 2004,\n",
       "   'return': 0.0,\n",
       "   'budget': 0.0,\n",
       "   'revenue': 0.0},\n",
       "  {'title': 'Avatar',\n",
       "   'release_year': 2009,\n",
       "   'return': 11.763565767932487,\n",
       "   'budget': 237000000.0,\n",
       "   'revenue': 2787965087.0},\n",
       "  {'title': 'Avatar 2',\n",
       "   'release_year': 2006,\n",
       "   'return': 0.0,\n",
       "   'budget': 0.0,\n",
       "   'revenue': 0.0},\n",
       "  {'title': 'T2 3-D: Battle Across Time',\n",
       "   'release_year': 2015,\n",
       "   'return': 0.0,\n",
       "   'budget': 0.0,\n",
       "   'revenue': 0.0}]}"
      ]
     },
     "execution_count": 71,
     "metadata": {},
     "output_type": "execute_result"
    }
   ],
   "source": [
    "get_director('James Cameron')"
   ]
  },
  {
   "attachments": {},
   "cell_type": "markdown",
   "metadata": {},
   "source": [
    "---"
   ]
  },
  {
   "attachments": {},
   "cell_type": "markdown",
   "metadata": {},
   "source": [
    "#### Seleccion de las columnas para la función de `recomendación`\n",
    "*No selecciono la columna de overview porque si no mi matriz de similitud se va hacer muy pesada y dificil de procesar*"
   ]
  },
  {
   "cell_type": "code",
   "execution_count": 4,
   "metadata": {},
   "outputs": [
    {
     "data": {
      "text/html": [
       "<div>\n",
       "<style scoped>\n",
       "    .dataframe tbody tr th:only-of-type {\n",
       "        vertical-align: middle;\n",
       "    }\n",
       "\n",
       "    .dataframe tbody tr th {\n",
       "        vertical-align: top;\n",
       "    }\n",
       "\n",
       "    .dataframe thead th {\n",
       "        text-align: right;\n",
       "    }\n",
       "</style>\n",
       "<table border=\"1\" class=\"dataframe\">\n",
       "  <thead>\n",
       "    <tr style=\"text-align: right;\">\n",
       "      <th></th>\n",
       "      <th>title</th>\n",
       "      <th>genres</th>\n",
       "      <th>director</th>\n",
       "      <th>popularity</th>\n",
       "    </tr>\n",
       "  </thead>\n",
       "  <tbody>\n",
       "    <tr>\n",
       "      <th>13291</th>\n",
       "      <td>My Bloody Valentine</td>\n",
       "      <td>Horror|Mystery</td>\n",
       "      <td>Patrick Lussier</td>\n",
       "      <td>5.245883</td>\n",
       "    </tr>\n",
       "    <tr>\n",
       "      <th>3935</th>\n",
       "      <td>I'm Gonna Git You Sucka</td>\n",
       "      <td>Action|Comedy</td>\n",
       "      <td>Keenen Ivory Wayans</td>\n",
       "      <td>3.719260</td>\n",
       "    </tr>\n",
       "  </tbody>\n",
       "</table>\n",
       "</div>"
      ],
      "text/plain": [
       "                         title          genres             director  \\\n",
       "13291      My Bloody Valentine  Horror|Mystery      Patrick Lussier   \n",
       "3935   I'm Gonna Git You Sucka   Action|Comedy  Keenen Ivory Wayans   \n",
       "\n",
       "       popularity  \n",
       "13291    5.245883  \n",
       "3935     3.719260  "
      ]
     },
     "execution_count": 4,
     "metadata": {},
     "output_type": "execute_result"
    }
   ],
   "source": [
    "movies = data[['title','genres','director','popularity']]\n",
    "movies.sample(2)"
   ]
  },
  {
   "cell_type": "code",
   "execution_count": 5,
   "metadata": {},
   "outputs": [],
   "source": [
    "movies.genres = movies.genres.str.replace('|',' ')"
   ]
  },
  {
   "cell_type": "code",
   "execution_count": 6,
   "metadata": {},
   "outputs": [
    {
     "data": {
      "text/html": [
       "<div>\n",
       "<style scoped>\n",
       "    .dataframe tbody tr th:only-of-type {\n",
       "        vertical-align: middle;\n",
       "    }\n",
       "\n",
       "    .dataframe tbody tr th {\n",
       "        vertical-align: top;\n",
       "    }\n",
       "\n",
       "    .dataframe thead th {\n",
       "        text-align: right;\n",
       "    }\n",
       "</style>\n",
       "<table border=\"1\" class=\"dataframe\">\n",
       "  <thead>\n",
       "    <tr style=\"text-align: right;\">\n",
       "      <th></th>\n",
       "      <th>title</th>\n",
       "      <th>genres</th>\n",
       "      <th>director</th>\n",
       "      <th>popularity</th>\n",
       "      <th>joined_data</th>\n",
       "    </tr>\n",
       "  </thead>\n",
       "  <tbody>\n",
       "    <tr>\n",
       "      <th>45027</th>\n",
       "      <td>A Hunting Accident</td>\n",
       "      <td>Drama Romance</td>\n",
       "      <td>Emil Loteanu</td>\n",
       "      <td>0.65511</td>\n",
       "      <td>A Hunting Accident Drama Romance Emil Loteanu</td>\n",
       "    </tr>\n",
       "  </tbody>\n",
       "</table>\n",
       "</div>"
      ],
      "text/plain": [
       "                    title         genres      director  popularity  \\\n",
       "45027  A Hunting Accident  Drama Romance  Emil Loteanu     0.65511   \n",
       "\n",
       "                                         joined_data  \n",
       "45027  A Hunting Accident Drama Romance Emil Loteanu  "
      ]
     },
     "execution_count": 6,
     "metadata": {},
     "output_type": "execute_result"
    }
   ],
   "source": [
    "movies['joined_data'] = movies[['title','genres','director']].astype(str).apply(' '.join, axis=1)\n",
    "movies.sample()"
   ]
  },
  {
   "attachments": {},
   "cell_type": "markdown",
   "metadata": {},
   "source": [
    "Cálculo de similitud de puntuación\n"
   ]
  },
  {
   "cell_type": "code",
   "execution_count": 7,
   "metadata": {},
   "outputs": [],
   "source": [
    "from sklearn.metrics.pairwise import cosine_similarity\n",
    "#from sklearn.feature_extraction.text import CountVectorizer\n",
    "from sklearn.feature_extraction.text import TfidfVectorizer\n",
    "#from sklearn.metrics.pairwise import linear_kernel\n",
    " \n",
    "# Elejí usar TfidfVectorizer para la vectorizacion de los datos en vez de CountVectorizer. Si bien este ultimo es mejor por cuestiones de memoria, \n",
    "# el TfidfVectorizer brinda mayor precision a la hora de buscar una puntuación de similitud en las cadenas de strings"
   ]
  },
  {
   "cell_type": "code",
   "execution_count": 8,
   "metadata": {},
   "outputs": [],
   "source": [
    "vectorizer = TfidfVectorizer(stop_words='english') # Elimino las palabras mas comunes del ingles"
   ]
  },
  {
   "cell_type": "code",
   "execution_count": 9,
   "metadata": {},
   "outputs": [
    {
     "data": {
      "text/plain": [
       "2383"
      ]
     },
     "execution_count": 9,
     "metadata": {},
     "output_type": "execute_result"
    }
   ],
   "source": [
    "movies.genres.isnull().sum()"
   ]
  },
  {
   "attachments": {},
   "cell_type": "markdown",
   "metadata": {},
   "source": [
    "Veo cuales son las peliculas que tiene en el campo de género un valor vacio y ordeno el resultado dependiendo la popularidad de la misma"
   ]
  },
  {
   "cell_type": "code",
   "execution_count": 10,
   "metadata": {},
   "outputs": [
    {
     "data": {
      "text/html": [
       "<div>\n",
       "<style scoped>\n",
       "    .dataframe tbody tr th:only-of-type {\n",
       "        vertical-align: middle;\n",
       "    }\n",
       "\n",
       "    .dataframe tbody tr th {\n",
       "        vertical-align: top;\n",
       "    }\n",
       "\n",
       "    .dataframe thead th {\n",
       "        text-align: right;\n",
       "    }\n",
       "</style>\n",
       "<table border=\"1\" class=\"dataframe\">\n",
       "  <thead>\n",
       "    <tr style=\"text-align: right;\">\n",
       "      <th></th>\n",
       "      <th>title</th>\n",
       "      <th>genres</th>\n",
       "      <th>director</th>\n",
       "      <th>popularity</th>\n",
       "      <th>joined_data</th>\n",
       "    </tr>\n",
       "  </thead>\n",
       "  <tbody>\n",
       "    <tr>\n",
       "      <th>20850</th>\n",
       "      <td>The Scapegoat</td>\n",
       "      <td>NaN</td>\n",
       "      <td>Charles Sturridge</td>\n",
       "      <td>7.618217</td>\n",
       "      <td>The Scapegoat nan Charles Sturridge</td>\n",
       "    </tr>\n",
       "    <tr>\n",
       "      <th>7889</th>\n",
       "      <td>Fahrenheit 9/11</td>\n",
       "      <td>NaN</td>\n",
       "      <td>Michael Moore</td>\n",
       "      <td>6.839460</td>\n",
       "      <td>Fahrenheit 9/11 nan Michael Moore</td>\n",
       "    </tr>\n",
       "    <tr>\n",
       "      <th>30783</th>\n",
       "      <td>My Date with the President's Daughter</td>\n",
       "      <td>NaN</td>\n",
       "      <td>Alex Zamm</td>\n",
       "      <td>5.019029</td>\n",
       "      <td>My Date with the President's Daughter nan Alex...</td>\n",
       "    </tr>\n",
       "    <tr>\n",
       "      <th>44772</th>\n",
       "      <td>Notte prima degli esami - Oggi</td>\n",
       "      <td>NaN</td>\n",
       "      <td>Fausto Brizzi</td>\n",
       "      <td>4.345520</td>\n",
       "      <td>Notte prima degli esami - Oggi nan Fausto Brizzi</td>\n",
       "    </tr>\n",
       "    <tr>\n",
       "      <th>25866</th>\n",
       "      <td>Viaggi di nozze</td>\n",
       "      <td>NaN</td>\n",
       "      <td>Carlo Verdone</td>\n",
       "      <td>4.323640</td>\n",
       "      <td>Viaggi di nozze nan Carlo Verdone</td>\n",
       "    </tr>\n",
       "    <tr>\n",
       "      <th>37395</th>\n",
       "      <td>La Vacanza</td>\n",
       "      <td>NaN</td>\n",
       "      <td>Tinto Brass</td>\n",
       "      <td>4.158529</td>\n",
       "      <td>La Vacanza nan Tinto Brass</td>\n",
       "    </tr>\n",
       "    <tr>\n",
       "      <th>43072</th>\n",
       "      <td>I still hide to smoke</td>\n",
       "      <td>NaN</td>\n",
       "      <td>Rayhana Obermeyer</td>\n",
       "      <td>3.589741</td>\n",
       "      <td>I still hide to smoke nan Rayhana Obermeyer</td>\n",
       "    </tr>\n",
       "    <tr>\n",
       "      <th>32019</th>\n",
       "      <td>School of Thieves</td>\n",
       "      <td>NaN</td>\n",
       "      <td>Neri Parenti</td>\n",
       "      <td>3.080456</td>\n",
       "      <td>School of Thieves nan Neri Parenti</td>\n",
       "    </tr>\n",
       "    <tr>\n",
       "      <th>32024</th>\n",
       "      <td>Fracchia The Human Beast</td>\n",
       "      <td>NaN</td>\n",
       "      <td>Neri Parenti</td>\n",
       "      <td>3.053669</td>\n",
       "      <td>Fracchia The Human Beast nan Neri Parenti</td>\n",
       "    </tr>\n",
       "    <tr>\n",
       "      <th>30589</th>\n",
       "      <td>Koyla</td>\n",
       "      <td>NaN</td>\n",
       "      <td>Rakesh Roshan</td>\n",
       "      <td>3.037553</td>\n",
       "      <td>Koyla nan Rakesh Roshan</td>\n",
       "    </tr>\n",
       "    <tr>\n",
       "      <th>25151</th>\n",
       "      <td>Altman</td>\n",
       "      <td>NaN</td>\n",
       "      <td>Ron Mann</td>\n",
       "      <td>3.031063</td>\n",
       "      <td>Altman nan Ron Mann</td>\n",
       "    </tr>\n",
       "    <tr>\n",
       "      <th>34706</th>\n",
       "      <td>Doctor Who: A Christmas Carol</td>\n",
       "      <td>NaN</td>\n",
       "      <td>Toby Haynes</td>\n",
       "      <td>2.906731</td>\n",
       "      <td>Doctor Who: A Christmas Carol nan Toby Haynes</td>\n",
       "    </tr>\n",
       "    <tr>\n",
       "      <th>25447</th>\n",
       "      <td>And Then There Was You</td>\n",
       "      <td>NaN</td>\n",
       "      <td>Leila Djansi</td>\n",
       "      <td>2.686014</td>\n",
       "      <td>And Then There Was You nan Leila Djansi</td>\n",
       "    </tr>\n",
       "    <tr>\n",
       "      <th>42570</th>\n",
       "      <td>White Rose Campus: Then... Everybody Gets Raped</td>\n",
       "      <td>NaN</td>\n",
       "      <td>Kôyû Ohara</td>\n",
       "      <td>2.656714</td>\n",
       "      <td>White Rose Campus: Then... Everybody Gets Rape...</td>\n",
       "    </tr>\n",
       "    <tr>\n",
       "      <th>22357</th>\n",
       "      <td>The Citizen</td>\n",
       "      <td>NaN</td>\n",
       "      <td>Sam Kadi</td>\n",
       "      <td>2.546614</td>\n",
       "      <td>The Citizen nan Sam Kadi</td>\n",
       "    </tr>\n",
       "    <tr>\n",
       "      <th>41626</th>\n",
       "      <td>The Giant</td>\n",
       "      <td>NaN</td>\n",
       "      <td>Johannes Nyholm</td>\n",
       "      <td>2.525014</td>\n",
       "      <td>The Giant nan Johannes Nyholm</td>\n",
       "    </tr>\n",
       "    <tr>\n",
       "      <th>36024</th>\n",
       "      <td>Medeas</td>\n",
       "      <td>NaN</td>\n",
       "      <td>Andrea Pallaoro</td>\n",
       "      <td>2.517507</td>\n",
       "      <td>Medeas nan Andrea Pallaoro</td>\n",
       "    </tr>\n",
       "    <tr>\n",
       "      <th>13993</th>\n",
       "      <td>Lost in Austen</td>\n",
       "      <td>NaN</td>\n",
       "      <td>Dan Zeff</td>\n",
       "      <td>2.308860</td>\n",
       "      <td>Lost in Austen nan Dan Zeff</td>\n",
       "    </tr>\n",
       "    <tr>\n",
       "      <th>35907</th>\n",
       "      <td>According to Pereira</td>\n",
       "      <td>NaN</td>\n",
       "      <td>Roberto Faenza</td>\n",
       "      <td>2.287102</td>\n",
       "      <td>According to Pereira nan Roberto Faenza</td>\n",
       "    </tr>\n",
       "    <tr>\n",
       "      <th>37439</th>\n",
       "      <td>Joi Baba Felunath</td>\n",
       "      <td>NaN</td>\n",
       "      <td>Satyajit Ray</td>\n",
       "      <td>2.238456</td>\n",
       "      <td>Joi Baba Felunath nan Satyajit Ray</td>\n",
       "    </tr>\n",
       "  </tbody>\n",
       "</table>\n",
       "</div>"
      ],
      "text/plain": [
       "                                                 title genres  \\\n",
       "20850                                    The Scapegoat    NaN   \n",
       "7889                                   Fahrenheit 9/11    NaN   \n",
       "30783            My Date with the President's Daughter    NaN   \n",
       "44772                   Notte prima degli esami - Oggi    NaN   \n",
       "25866                                  Viaggi di nozze    NaN   \n",
       "37395                                       La Vacanza    NaN   \n",
       "43072                            I still hide to smoke    NaN   \n",
       "32019                                School of Thieves    NaN   \n",
       "32024                         Fracchia The Human Beast    NaN   \n",
       "30589                                            Koyla    NaN   \n",
       "25151                                           Altman    NaN   \n",
       "34706                    Doctor Who: A Christmas Carol    NaN   \n",
       "25447                           And Then There Was You    NaN   \n",
       "42570  White Rose Campus: Then... Everybody Gets Raped    NaN   \n",
       "22357                                      The Citizen    NaN   \n",
       "41626                                        The Giant    NaN   \n",
       "36024                                           Medeas    NaN   \n",
       "13993                                   Lost in Austen    NaN   \n",
       "35907                             According to Pereira    NaN   \n",
       "37439                                Joi Baba Felunath    NaN   \n",
       "\n",
       "                director  popularity  \\\n",
       "20850  Charles Sturridge    7.618217   \n",
       "7889       Michael Moore    6.839460   \n",
       "30783          Alex Zamm    5.019029   \n",
       "44772      Fausto Brizzi    4.345520   \n",
       "25866      Carlo Verdone    4.323640   \n",
       "37395        Tinto Brass    4.158529   \n",
       "43072  Rayhana Obermeyer    3.589741   \n",
       "32019       Neri Parenti    3.080456   \n",
       "32024       Neri Parenti    3.053669   \n",
       "30589      Rakesh Roshan    3.037553   \n",
       "25151           Ron Mann    3.031063   \n",
       "34706        Toby Haynes    2.906731   \n",
       "25447       Leila Djansi    2.686014   \n",
       "42570         Kôyû Ohara    2.656714   \n",
       "22357           Sam Kadi    2.546614   \n",
       "41626    Johannes Nyholm    2.525014   \n",
       "36024    Andrea Pallaoro    2.517507   \n",
       "13993           Dan Zeff    2.308860   \n",
       "35907     Roberto Faenza    2.287102   \n",
       "37439       Satyajit Ray    2.238456   \n",
       "\n",
       "                                             joined_data  \n",
       "20850                The Scapegoat nan Charles Sturridge  \n",
       "7889                   Fahrenheit 9/11 nan Michael Moore  \n",
       "30783  My Date with the President's Daughter nan Alex...  \n",
       "44772   Notte prima degli esami - Oggi nan Fausto Brizzi  \n",
       "25866                  Viaggi di nozze nan Carlo Verdone  \n",
       "37395                         La Vacanza nan Tinto Brass  \n",
       "43072        I still hide to smoke nan Rayhana Obermeyer  \n",
       "32019                 School of Thieves nan Neri Parenti  \n",
       "32024          Fracchia The Human Beast nan Neri Parenti  \n",
       "30589                            Koyla nan Rakesh Roshan  \n",
       "25151                                Altman nan Ron Mann  \n",
       "34706      Doctor Who: A Christmas Carol nan Toby Haynes  \n",
       "25447            And Then There Was You nan Leila Djansi  \n",
       "42570  White Rose Campus: Then... Everybody Gets Rape...  \n",
       "22357                           The Citizen nan Sam Kadi  \n",
       "41626                      The Giant nan Johannes Nyholm  \n",
       "36024                         Medeas nan Andrea Pallaoro  \n",
       "13993                        Lost in Austen nan Dan Zeff  \n",
       "35907            According to Pereira nan Roberto Faenza  \n",
       "37439                 Joi Baba Felunath nan Satyajit Ray  "
      ]
     },
     "execution_count": 10,
     "metadata": {},
     "output_type": "execute_result"
    }
   ],
   "source": [
    "movies.loc[movies.genres.isnull()].sort_values(by='popularity', ascending=False).head(20)"
   ]
  },
  {
   "attachments": {},
   "cell_type": "markdown",
   "metadata": {},
   "source": [
    "Como no son peliculas muy conocidas y tampoco son muchas, decido eliminarlas del dataset. Tomo esta decision porque al momento de recurrir a la función de recomendación de película, el modelo de machine learning debe seleccionar entre las peliculas que tienen el mismo género cinematografico para relacionarlas y en los casos de estas peliculas seria irrelevante ya que no tienen defino un género."
   ]
  },
  {
   "cell_type": "code",
   "execution_count": 11,
   "metadata": {},
   "outputs": [],
   "source": [
    "movies = movies.dropna(subset='genres')"
   ]
  },
  {
   "cell_type": "code",
   "execution_count": 12,
   "metadata": {},
   "outputs": [
    {
     "data": {
      "text/plain": [
       "array(['Paid in Full'], dtype=object)"
      ]
     },
     "execution_count": 12,
     "metadata": {},
     "output_type": "execute_result"
    }
   ],
   "source": [
    "movies.title.sample().values"
   ]
  },
  {
   "attachments": {},
   "cell_type": "markdown",
   "metadata": {},
   "source": [
    "### Desarrollo de la función"
   ]
  },
  {
   "cell_type": "code",
   "execution_count": 13,
   "metadata": {},
   "outputs": [],
   "source": [
    "def recomendacion(title):\n",
    "    \"\"\"Get the recommendation for a given title\"\"\"\n",
    "    # Obtengo los géneros de la pelicula\n",
    "    if title not in movies.title.unique():\n",
    "        data_json = {'mensaje':'Pelicula no encontrada'}\n",
    "    else:\n",
    "        # Obtengo los géneros de la pelicula\n",
    "        movie_genres = movies['genres'].loc[movies['title'] == title]\n",
    "        #movie_genres = movie_genres.values[pd.isna(movie_genres.values) == False].item()\n",
    "        movie_genres = sorted(movie_genres, key= lambda x: len(x), reverse=True) # Ordenar los géneros en función del len()\n",
    "\n",
    "\n",
    "        # Separo los generos en una lista\n",
    "        #genres = [v.split(' ') for v in movie_genres if isinstance(v,str)]\n",
    "\n",
    "        # Filtro el dataframe con las peliculas que tengan los mismos géneros que la pelicula de interes\n",
    "        # y con las peliculas que tengan en su titulo el nombre de la pelicula de interes\n",
    "        similar_movies = movies.loc[(movies.genres.fillna(' ').str.contains(movie_genres[0])) | (movies.title.str.contains(title))].reset_index(drop=True)\n",
    "        max_len = 3500\n",
    "        if len(similar_movies) > max_len:\n",
    "            similar_movies = similar_movies.sort_values(by='popularity', ascending=False).reset_index(drop=True)[:max_len]\n",
    "\n",
    "        # Obtengo el indice en el dataframe filtrado de la pelicula de interes\n",
    "        movie_index = similar_movies.loc[similar_movies['title'] == title].index\n",
    "        \n",
    "        if len(movie_index) == 0:\n",
    "            similar_movies = similar_movies.append(movies.loc[movies.title == title]).reset_index(drop=True)\n",
    "            movie_index = similar_movies.loc[similar_movies['title'] == title].index\n",
    "\n",
    "        # Vectorizo los datos\n",
    "        data_matrix = vectorizer.fit_transform(similar_movies.joined_data)\n",
    "        # Genero la matriz de puntuación de similitud entre las peliculas\n",
    "        similarity_matrix = cosine_similarity(data_matrix,data_matrix)\n",
    "\n",
    "        sim_movies = list(enumerate(similarity_matrix[movie_index[0]]))\n",
    "        sim_movies = sorted(sim_movies, key=lambda x: x[1], reverse=True)\n",
    "        top_similar_movies = [similar_movies.loc[i, 'title'] for i, _ in sim_movies[1:20] if similar_movies.loc[i, 'title'] != title][:5]\n",
    "        data_json = {'similar_movies':top_similar_movies}\n",
    "\n",
    "    \n",
    "    return data_json"
   ]
  },
  {
   "cell_type": "code",
   "execution_count": 14,
   "metadata": {},
   "outputs": [
    {
     "data": {
      "text/plain": [
       "{'similar_movies': ['Avengers: Age of Ultron',\n",
       "  'The Island',\n",
       "  'Armageddon',\n",
       "  'I Am Number Four',\n",
       "  'Mad Max']}"
      ]
     },
     "execution_count": 14,
     "metadata": {},
     "output_type": "execute_result"
    }
   ],
   "source": [
    "recomendacion('The Avengers')"
   ]
  }
 ],
 "metadata": {
  "kernelspec": {
   "display_name": "Python 3",
   "language": "python",
   "name": "python3"
  },
  "language_info": {
   "codemirror_mode": {
    "name": "ipython",
    "version": 3
   },
   "file_extension": ".py",
   "mimetype": "text/x-python",
   "name": "python",
   "nbconvert_exporter": "python",
   "pygments_lexer": "ipython3",
   "version": "3.10.11"
  },
  "orig_nbformat": 4
 },
 "nbformat": 4,
 "nbformat_minor": 2
}
