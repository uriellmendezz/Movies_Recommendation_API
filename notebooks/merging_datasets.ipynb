{
 "cells": [
  {
   "cell_type": "code",
   "execution_count": 94,
   "metadata": {},
   "outputs": [],
   "source": [
    "import pandas as pd\n",
    "import warnings\n",
    "warnings.filterwarnings('ignore')\n",
    "import json\n",
    "import numpy as np"
   ]
  },
  {
   "attachments": {},
   "cell_type": "markdown",
   "metadata": {},
   "source": [
    "Elimino las filas duplicadas de los dataframes"
   ]
  },
  {
   "cell_type": "code",
   "execution_count": 39,
   "metadata": {},
   "outputs": [
    {
     "data": {
      "text/plain": [
       "562474"
      ]
     },
     "execution_count": 39,
     "metadata": {},
     "output_type": "execute_result"
    }
   ],
   "source": [
    "cast = pd.read_csv('../clean_data/cast.csv',sep='|')\n",
    "cast.shape[0]"
   ]
  },
  {
   "cell_type": "code",
   "execution_count": 40,
   "metadata": {},
   "outputs": [
    {
     "data": {
      "text/html": [
       "<div>\n",
       "<style scoped>\n",
       "    .dataframe tbody tr th:only-of-type {\n",
       "        vertical-align: middle;\n",
       "    }\n",
       "\n",
       "    .dataframe tbody tr th {\n",
       "        vertical-align: top;\n",
       "    }\n",
       "\n",
       "    .dataframe thead th {\n",
       "        text-align: right;\n",
       "    }\n",
       "</style>\n",
       "<table border=\"1\" class=\"dataframe\">\n",
       "  <thead>\n",
       "    <tr style=\"text-align: right;\">\n",
       "      <th></th>\n",
       "      <th>Unnamed: 0</th>\n",
       "      <th>dict</th>\n",
       "      <th>movie_id</th>\n",
       "      <th>dictionary_format</th>\n",
       "    </tr>\n",
       "  </thead>\n",
       "  <tbody>\n",
       "    <tr>\n",
       "      <th>0</th>\n",
       "      <td>0</td>\n",
       "      <td>{'cast_id': 14, 'character': 'Woody (voice)', ...</td>\n",
       "      <td>862</td>\n",
       "      <td>1</td>\n",
       "    </tr>\n",
       "    <tr>\n",
       "      <th>1</th>\n",
       "      <td>1</td>\n",
       "      <td>{'cast_id': 15, 'character': 'Buzz Lightyear (...</td>\n",
       "      <td>862</td>\n",
       "      <td>1</td>\n",
       "    </tr>\n",
       "    <tr>\n",
       "      <th>2</th>\n",
       "      <td>2</td>\n",
       "      <td>{'cast_id': 16, 'character': 'Mr. Potato Head ...</td>\n",
       "      <td>862</td>\n",
       "      <td>1</td>\n",
       "    </tr>\n",
       "    <tr>\n",
       "      <th>3</th>\n",
       "      <td>3</td>\n",
       "      <td>{'cast_id': 17, 'character': 'Slinky Dog (voic...</td>\n",
       "      <td>862</td>\n",
       "      <td>1</td>\n",
       "    </tr>\n",
       "    <tr>\n",
       "      <th>4</th>\n",
       "      <td>4</td>\n",
       "      <td>{'cast_id': 18, 'character': 'Rex (voice)', 'c...</td>\n",
       "      <td>862</td>\n",
       "      <td>1</td>\n",
       "    </tr>\n",
       "  </tbody>\n",
       "</table>\n",
       "</div>"
      ],
      "text/plain": [
       "   Unnamed: 0                                               dict  movie_id  \\\n",
       "0           0  {'cast_id': 14, 'character': 'Woody (voice)', ...       862   \n",
       "1           1  {'cast_id': 15, 'character': 'Buzz Lightyear (...       862   \n",
       "2           2  {'cast_id': 16, 'character': 'Mr. Potato Head ...       862   \n",
       "3           3  {'cast_id': 17, 'character': 'Slinky Dog (voic...       862   \n",
       "4           4  {'cast_id': 18, 'character': 'Rex (voice)', 'c...       862   \n",
       "\n",
       "   dictionary_format  \n",
       "0                  1  \n",
       "1                  1  \n",
       "2                  1  \n",
       "3                  1  \n",
       "4                  1  "
      ]
     },
     "execution_count": 40,
     "metadata": {},
     "output_type": "execute_result"
    }
   ],
   "source": [
    "cast.head()"
   ]
  },
  {
   "cell_type": "code",
   "execution_count": 41,
   "metadata": {},
   "outputs": [
    {
     "data": {
      "text/plain": [
       "562474"
      ]
     },
     "execution_count": 41,
     "metadata": {},
     "output_type": "execute_result"
    }
   ],
   "source": [
    "cast = cast.drop_duplicates()\n",
    "cast.shape[0]"
   ]
  },
  {
   "cell_type": "code",
   "execution_count": 42,
   "metadata": {},
   "outputs": [
    {
     "data": {
      "text/plain": [
       "464314"
      ]
     },
     "execution_count": 42,
     "metadata": {},
     "output_type": "execute_result"
    }
   ],
   "source": [
    "crew = pd.read_csv('../clean_data/crew.csv',sep='|')\n",
    "crew.shape[0]"
   ]
  },
  {
   "cell_type": "code",
   "execution_count": 17,
   "metadata": {},
   "outputs": [
    {
     "data": {
      "text/html": [
       "<div>\n",
       "<style scoped>\n",
       "    .dataframe tbody tr th:only-of-type {\n",
       "        vertical-align: middle;\n",
       "    }\n",
       "\n",
       "    .dataframe tbody tr th {\n",
       "        vertical-align: top;\n",
       "    }\n",
       "\n",
       "    .dataframe thead th {\n",
       "        text-align: right;\n",
       "    }\n",
       "</style>\n",
       "<table border=\"1\" class=\"dataframe\">\n",
       "  <thead>\n",
       "    <tr style=\"text-align: right;\">\n",
       "      <th></th>\n",
       "      <th>Unnamed: 0</th>\n",
       "      <th>dict</th>\n",
       "      <th>movie_id</th>\n",
       "      <th>dictionary_format</th>\n",
       "    </tr>\n",
       "  </thead>\n",
       "  <tbody>\n",
       "    <tr>\n",
       "      <th>0</th>\n",
       "      <td>0</td>\n",
       "      <td>{'credit_id': '52fe4284c3a36847f8024f49', 'dep...</td>\n",
       "      <td>862</td>\n",
       "      <td>1</td>\n",
       "    </tr>\n",
       "    <tr>\n",
       "      <th>1</th>\n",
       "      <td>1</td>\n",
       "      <td>{'credit_id': '52fe4284c3a36847f8024f4f', 'dep...</td>\n",
       "      <td>862</td>\n",
       "      <td>1</td>\n",
       "    </tr>\n",
       "    <tr>\n",
       "      <th>2</th>\n",
       "      <td>2</td>\n",
       "      <td>{'credit_id': '52fe4284c3a36847f8024f55', 'dep...</td>\n",
       "      <td>862</td>\n",
       "      <td>1</td>\n",
       "    </tr>\n",
       "    <tr>\n",
       "      <th>3</th>\n",
       "      <td>3</td>\n",
       "      <td>{'credit_id': '52fe4284c3a36847f8024f5b', 'dep...</td>\n",
       "      <td>862</td>\n",
       "      <td>1</td>\n",
       "    </tr>\n",
       "    <tr>\n",
       "      <th>4</th>\n",
       "      <td>4</td>\n",
       "      <td>{'credit_id': '52fe4284c3a36847f8024f61', 'dep...</td>\n",
       "      <td>862</td>\n",
       "      <td>1</td>\n",
       "    </tr>\n",
       "  </tbody>\n",
       "</table>\n",
       "</div>"
      ],
      "text/plain": [
       "   Unnamed: 0                                               dict  movie_id  \\\n",
       "0           0  {'credit_id': '52fe4284c3a36847f8024f49', 'dep...       862   \n",
       "1           1  {'credit_id': '52fe4284c3a36847f8024f4f', 'dep...       862   \n",
       "2           2  {'credit_id': '52fe4284c3a36847f8024f55', 'dep...       862   \n",
       "3           3  {'credit_id': '52fe4284c3a36847f8024f5b', 'dep...       862   \n",
       "4           4  {'credit_id': '52fe4284c3a36847f8024f61', 'dep...       862   \n",
       "\n",
       "   dictionary_format  \n",
       "0                  1  \n",
       "1                  1  \n",
       "2                  1  \n",
       "3                  1  \n",
       "4                  1  "
      ]
     },
     "execution_count": 17,
     "metadata": {},
     "output_type": "execute_result"
    }
   ],
   "source": [
    "crew.head()"
   ]
  },
  {
   "cell_type": "code",
   "execution_count": 13,
   "metadata": {},
   "outputs": [
    {
     "data": {
      "text/plain": [
       "464314"
      ]
     },
     "execution_count": 13,
     "metadata": {},
     "output_type": "execute_result"
    }
   ],
   "source": [
    "crew = crew.drop_duplicates()\n",
    "crew.shape[0]"
   ]
  },
  {
   "attachments": {},
   "cell_type": "markdown",
   "metadata": {},
   "source": [
    "---"
   ]
  },
  {
   "attachments": {},
   "cell_type": "markdown",
   "metadata": {},
   "source": [
    "Elimino la columa Unnamed: 0 y dictionary_format de cada df"
   ]
  },
  {
   "cell_type": "code",
   "execution_count": 43,
   "metadata": {},
   "outputs": [],
   "source": [
    "cast = cast.drop(columns={'Unnamed: 0','dictionary_format'})\n",
    "crew = crew.drop(columns={'Unnamed: 0','dictionary_format'})"
   ]
  },
  {
   "cell_type": "code",
   "execution_count": 44,
   "metadata": {},
   "outputs": [
    {
     "data": {
      "text/html": [
       "<div>\n",
       "<style scoped>\n",
       "    .dataframe tbody tr th:only-of-type {\n",
       "        vertical-align: middle;\n",
       "    }\n",
       "\n",
       "    .dataframe tbody tr th {\n",
       "        vertical-align: top;\n",
       "    }\n",
       "\n",
       "    .dataframe thead th {\n",
       "        text-align: right;\n",
       "    }\n",
       "</style>\n",
       "<table border=\"1\" class=\"dataframe\">\n",
       "  <thead>\n",
       "    <tr style=\"text-align: right;\">\n",
       "      <th></th>\n",
       "      <th>dict</th>\n",
       "      <th>movie_id</th>\n",
       "    </tr>\n",
       "  </thead>\n",
       "  <tbody>\n",
       "    <tr>\n",
       "      <th>0</th>\n",
       "      <td>{'cast_id': 14, 'character': 'Woody (voice)', ...</td>\n",
       "      <td>862</td>\n",
       "    </tr>\n",
       "    <tr>\n",
       "      <th>1</th>\n",
       "      <td>{'cast_id': 15, 'character': 'Buzz Lightyear (...</td>\n",
       "      <td>862</td>\n",
       "    </tr>\n",
       "    <tr>\n",
       "      <th>2</th>\n",
       "      <td>{'cast_id': 16, 'character': 'Mr. Potato Head ...</td>\n",
       "      <td>862</td>\n",
       "    </tr>\n",
       "    <tr>\n",
       "      <th>3</th>\n",
       "      <td>{'cast_id': 17, 'character': 'Slinky Dog (voic...</td>\n",
       "      <td>862</td>\n",
       "    </tr>\n",
       "    <tr>\n",
       "      <th>4</th>\n",
       "      <td>{'cast_id': 18, 'character': 'Rex (voice)', 'c...</td>\n",
       "      <td>862</td>\n",
       "    </tr>\n",
       "  </tbody>\n",
       "</table>\n",
       "</div>"
      ],
      "text/plain": [
       "                                                dict  movie_id\n",
       "0  {'cast_id': 14, 'character': 'Woody (voice)', ...       862\n",
       "1  {'cast_id': 15, 'character': 'Buzz Lightyear (...       862\n",
       "2  {'cast_id': 16, 'character': 'Mr. Potato Head ...       862\n",
       "3  {'cast_id': 17, 'character': 'Slinky Dog (voic...       862\n",
       "4  {'cast_id': 18, 'character': 'Rex (voice)', 'c...       862"
      ]
     },
     "execution_count": 44,
     "metadata": {},
     "output_type": "execute_result"
    }
   ],
   "source": [
    "cast.head()"
   ]
  },
  {
   "attachments": {},
   "cell_type": "markdown",
   "metadata": {},
   "source": [
    "Transformo todos los valores de 'dict' a formato de diccionario, total se que todos pueden hacerlo ahora con las transformaciones que hice en el notebook 'ETL_credits.ipynb'"
   ]
  },
  {
   "cell_type": "code",
   "execution_count": 45,
   "metadata": {},
   "outputs": [],
   "source": [
    "cast.dict = cast.dict.apply(lambda x: json.loads(x.replace(\"'\",'\"')))"
   ]
  },
  {
   "attachments": {},
   "cell_type": "markdown",
   "metadata": {},
   "source": [
    "Hago una lista con todas las claves que tienen los diccionarios menos 'profile_path' que no me va a ser util"
   ]
  },
  {
   "cell_type": "code",
   "execution_count": 72,
   "metadata": {},
   "outputs": [],
   "source": [
    "new_columns = ['cast_id', 'character', 'credit_id', 'gender', 'id', 'name', 'order', 'profile_path']"
   ]
  },
  {
   "attachments": {},
   "cell_type": "markdown",
   "metadata": {},
   "source": [
    "Creo las nuevas columnas para cada una de las keys"
   ]
  },
  {
   "cell_type": "code",
   "execution_count": 91,
   "metadata": {},
   "outputs": [],
   "source": [
    "column_fails = []\n",
    "for k in new_columns:\n",
    "    try:\n",
    "        cast[k] = cast.dict.apply(lambda x: x[k])\n",
    "    except KeyError:\n",
    "        column_fails.append(k)"
   ]
  },
  {
   "cell_type": "code",
   "execution_count": 92,
   "metadata": {},
   "outputs": [
    {
     "data": {
      "text/plain": [
       "['credit_id']"
      ]
     },
     "execution_count": 92,
     "metadata": {},
     "output_type": "execute_result"
    }
   ],
   "source": [
    "column_fails"
   ]
  },
  {
   "cell_type": "code",
   "execution_count": 95,
   "metadata": {},
   "outputs": [],
   "source": [
    "cast['credit_id'] = np.nan\n",
    "indexes_fail = []\n",
    "for index, dicc in enumerate(cast.dict):\n",
    "    try:\n",
    "        cast.at[index, 'credit_id'] = dicc['credit_id']\n",
    "    except KeyError:\n",
    "        indexes_fail.append(index)"
   ]
  },
  {
   "cell_type": "code",
   "execution_count": 98,
   "metadata": {},
   "outputs": [],
   "source": [
    "cast = cast.drop(columns={'profile_path'})"
   ]
  },
  {
   "attachments": {},
   "cell_type": "markdown",
   "metadata": {},
   "source": [
    "Arreglo manualmente los credit_id ya que son solo tres filas"
   ]
  },
  {
   "cell_type": "code",
   "execution_count": 100,
   "metadata": {},
   "outputs": [
    {
     "data": {
      "text/plain": [
       "[135733, 498861, 537459]"
      ]
     },
     "execution_count": 100,
     "metadata": {},
     "output_type": "execute_result"
    }
   ],
   "source": [
    "indexes_fail"
   ]
  },
  {
   "cell_type": "code",
   "execution_count": 134,
   "metadata": {},
   "outputs": [
    {
     "name": "stdout",
     "output_type": "stream",
     "text": [
      "{'cast_id': 5, 'character': 'Clips from For Me and My Gal', 'Easter Parade, & Girl Crazyetc (archive footage), credit_id': '567807ecc3a3681689008d0e', 'gender': 1, 'id': 9066, 'name': 'Judy Garland', 'order': 2, 'profile_path': '/r2p0SpwpkDc5hhg7hqbar9bKMox.jpg'}\n",
      "{'cast_id': 1, 'character': 'Private detective Kogorô Akechi (2x); A man; Masaki (story Imomushi', 'Kagami jigoku, Kasei no unga, and Mushi), credit_id': '52fe4731c3a36847f81285ab', 'gender': 2, 'id': 13275, 'name': 'Tadanobu Asano', 'order': 0, 'profile_path': '/zlZsST8s1Apm6D6bCyYeWrCKZCy.jpg'}\n",
      "{'cast_id': 5, 'character': 'Erkki Uolevi Lahti, Dynamiitti-Lahti', 'Tyny, credit_id': '58aac76092514141a0001ddf', 'gender': 2, 'id': 110772, 'name': 'Harri Hyttinen', 'order': 6, 'profile_path': 'None'}\n"
     ]
    }
   ],
   "source": [
    "for i in cast.iloc[indexes_fail].dict:\n",
    "    print(i)"
   ]
  },
  {
   "cell_type": "code",
   "execution_count": null,
   "metadata": {},
   "outputs": [],
   "source": [
    "credits_id_fixed = ['567807ecc3a3681689008d0e','52fe4731c3a36847f81285ab','58aac76092514141a0001ddf']"
   ]
  },
  {
   "cell_type": "code",
   "execution_count": 137,
   "metadata": {},
   "outputs": [],
   "source": [
    "cast.credit_id.iloc[135733] = '567807ecc3a3681689008d0e'\n",
    "cast.credit_id.iloc[498861] = '52fe4731c3a36847f81285ab'\n",
    "cast.credit_id.iloc[537459] = '58aac76092514141a0001ddf'"
   ]
  },
  {
   "attachments": {},
   "cell_type": "markdown",
   "metadata": {},
   "source": [
    "Y ahora vemos que estan todos los datos guardados efectivamente"
   ]
  },
  {
   "cell_type": "code",
   "execution_count": 138,
   "metadata": {},
   "outputs": [
    {
     "data": {
      "text/plain": [
       "dict         562474\n",
       "movie_id     562474\n",
       "cast_id      562474\n",
       "character    562474\n",
       "gender       562474\n",
       "id           562474\n",
       "name         562474\n",
       "order        562474\n",
       "credit_id    562474\n",
       "dtype: int64"
      ]
     },
     "execution_count": 138,
     "metadata": {},
     "output_type": "execute_result"
    }
   ],
   "source": [
    "cast.count()"
   ]
  },
  {
   "attachments": {},
   "cell_type": "markdown",
   "metadata": {},
   "source": [
    "Ahora procedo a eliminar la columna 'dict' que contiene los diccionarios ya que ahora son innecesarios"
   ]
  },
  {
   "cell_type": "code",
   "execution_count": null,
   "metadata": {},
   "outputs": [],
   "source": [
    "cast = cast.drop(columns={'dict'})"
   ]
  },
  {
   "cell_type": "code",
   "execution_count": 142,
   "metadata": {},
   "outputs": [
    {
     "data": {
      "text/html": [
       "<div>\n",
       "<style scoped>\n",
       "    .dataframe tbody tr th:only-of-type {\n",
       "        vertical-align: middle;\n",
       "    }\n",
       "\n",
       "    .dataframe tbody tr th {\n",
       "        vertical-align: top;\n",
       "    }\n",
       "\n",
       "    .dataframe thead th {\n",
       "        text-align: right;\n",
       "    }\n",
       "</style>\n",
       "<table border=\"1\" class=\"dataframe\">\n",
       "  <thead>\n",
       "    <tr style=\"text-align: right;\">\n",
       "      <th></th>\n",
       "      <th>movie_id</th>\n",
       "      <th>cast_id</th>\n",
       "      <th>character</th>\n",
       "      <th>gender</th>\n",
       "      <th>id</th>\n",
       "      <th>name</th>\n",
       "      <th>order</th>\n",
       "      <th>credit_id</th>\n",
       "    </tr>\n",
       "  </thead>\n",
       "  <tbody>\n",
       "    <tr>\n",
       "      <th>0</th>\n",
       "      <td>862</td>\n",
       "      <td>14</td>\n",
       "      <td>Woody (voice)</td>\n",
       "      <td>2</td>\n",
       "      <td>31</td>\n",
       "      <td>Tom Hanks</td>\n",
       "      <td>0</td>\n",
       "      <td>52fe4284c3a36847f8024f95</td>\n",
       "    </tr>\n",
       "    <tr>\n",
       "      <th>1</th>\n",
       "      <td>862</td>\n",
       "      <td>15</td>\n",
       "      <td>Buzz Lightyear (voice)</td>\n",
       "      <td>2</td>\n",
       "      <td>12898</td>\n",
       "      <td>Tim Allen</td>\n",
       "      <td>1</td>\n",
       "      <td>52fe4284c3a36847f8024f99</td>\n",
       "    </tr>\n",
       "    <tr>\n",
       "      <th>2</th>\n",
       "      <td>862</td>\n",
       "      <td>16</td>\n",
       "      <td>Mr. Potato Head (voice)</td>\n",
       "      <td>2</td>\n",
       "      <td>7167</td>\n",
       "      <td>Don Rickles</td>\n",
       "      <td>2</td>\n",
       "      <td>52fe4284c3a36847f8024f9d</td>\n",
       "    </tr>\n",
       "    <tr>\n",
       "      <th>3</th>\n",
       "      <td>862</td>\n",
       "      <td>17</td>\n",
       "      <td>Slinky Dog (voice)</td>\n",
       "      <td>2</td>\n",
       "      <td>12899</td>\n",
       "      <td>Jim Varney</td>\n",
       "      <td>3</td>\n",
       "      <td>52fe4284c3a36847f8024fa1</td>\n",
       "    </tr>\n",
       "    <tr>\n",
       "      <th>4</th>\n",
       "      <td>862</td>\n",
       "      <td>18</td>\n",
       "      <td>Rex (voice)</td>\n",
       "      <td>2</td>\n",
       "      <td>12900</td>\n",
       "      <td>Wallace Shawn</td>\n",
       "      <td>4</td>\n",
       "      <td>52fe4284c3a36847f8024fa5</td>\n",
       "    </tr>\n",
       "    <tr>\n",
       "      <th>...</th>\n",
       "      <td>...</td>\n",
       "      <td>...</td>\n",
       "      <td>...</td>\n",
       "      <td>...</td>\n",
       "      <td>...</td>\n",
       "      <td>...</td>\n",
       "      <td>...</td>\n",
       "      <td>...</td>\n",
       "    </tr>\n",
       "    <tr>\n",
       "      <th>562469</th>\n",
       "      <td>227506</td>\n",
       "      <td>2</td>\n",
       "      <td></td>\n",
       "      <td>2</td>\n",
       "      <td>544742</td>\n",
       "      <td>Iwan Mosschuchin</td>\n",
       "      <td>0</td>\n",
       "      <td>52fe4ea59251416c7515d7d5</td>\n",
       "    </tr>\n",
       "    <tr>\n",
       "      <th>562470</th>\n",
       "      <td>227506</td>\n",
       "      <td>3</td>\n",
       "      <td></td>\n",
       "      <td>1</td>\n",
       "      <td>1090923</td>\n",
       "      <td>Nathalie Lissenko</td>\n",
       "      <td>1</td>\n",
       "      <td>52fe4ea59251416c7515d7d9</td>\n",
       "    </tr>\n",
       "    <tr>\n",
       "      <th>562471</th>\n",
       "      <td>227506</td>\n",
       "      <td>4</td>\n",
       "      <td></td>\n",
       "      <td>2</td>\n",
       "      <td>1136422</td>\n",
       "      <td>Pavel Pavlov</td>\n",
       "      <td>2</td>\n",
       "      <td>52fe4ea59251416c7515d7dd</td>\n",
       "    </tr>\n",
       "    <tr>\n",
       "      <th>562472</th>\n",
       "      <td>227506</td>\n",
       "      <td>5</td>\n",
       "      <td></td>\n",
       "      <td>0</td>\n",
       "      <td>1261758</td>\n",
       "      <td>Aleksandr Chabrov</td>\n",
       "      <td>3</td>\n",
       "      <td>52fe4ea59251416c7515d7e1</td>\n",
       "    </tr>\n",
       "    <tr>\n",
       "      <th>562473</th>\n",
       "      <td>227506</td>\n",
       "      <td>6</td>\n",
       "      <td></td>\n",
       "      <td>1</td>\n",
       "      <td>29199</td>\n",
       "      <td>Vera Orlova</td>\n",
       "      <td>4</td>\n",
       "      <td>52fe4ea59251416c7515d7e5</td>\n",
       "    </tr>\n",
       "  </tbody>\n",
       "</table>\n",
       "<p>562474 rows × 8 columns</p>\n",
       "</div>"
      ],
      "text/plain": [
       "        movie_id  cast_id                character  gender       id  \\\n",
       "0            862       14            Woody (voice)       2       31   \n",
       "1            862       15   Buzz Lightyear (voice)       2    12898   \n",
       "2            862       16  Mr. Potato Head (voice)       2     7167   \n",
       "3            862       17       Slinky Dog (voice)       2    12899   \n",
       "4            862       18              Rex (voice)       2    12900   \n",
       "...          ...      ...                      ...     ...      ...   \n",
       "562469    227506        2                                2   544742   \n",
       "562470    227506        3                                1  1090923   \n",
       "562471    227506        4                                2  1136422   \n",
       "562472    227506        5                                0  1261758   \n",
       "562473    227506        6                                1    29199   \n",
       "\n",
       "                     name  order                 credit_id  \n",
       "0               Tom Hanks      0  52fe4284c3a36847f8024f95  \n",
       "1               Tim Allen      1  52fe4284c3a36847f8024f99  \n",
       "2             Don Rickles      2  52fe4284c3a36847f8024f9d  \n",
       "3              Jim Varney      3  52fe4284c3a36847f8024fa1  \n",
       "4           Wallace Shawn      4  52fe4284c3a36847f8024fa5  \n",
       "...                   ...    ...                       ...  \n",
       "562469   Iwan Mosschuchin      0  52fe4ea59251416c7515d7d5  \n",
       "562470  Nathalie Lissenko      1  52fe4ea59251416c7515d7d9  \n",
       "562471       Pavel Pavlov      2  52fe4ea59251416c7515d7dd  \n",
       "562472  Aleksandr Chabrov      3  52fe4ea59251416c7515d7e1  \n",
       "562473        Vera Orlova      4  52fe4ea59251416c7515d7e5  \n",
       "\n",
       "[562474 rows x 8 columns]"
      ]
     },
     "execution_count": 142,
     "metadata": {},
     "output_type": "execute_result"
    }
   ],
   "source": [
    "cast"
   ]
  },
  {
   "cell_type": "code",
   "execution_count": 143,
   "metadata": {},
   "outputs": [
    {
     "data": {
      "text/html": [
       "<div>\n",
       "<style scoped>\n",
       "    .dataframe tbody tr th:only-of-type {\n",
       "        vertical-align: middle;\n",
       "    }\n",
       "\n",
       "    .dataframe tbody tr th {\n",
       "        vertical-align: top;\n",
       "    }\n",
       "\n",
       "    .dataframe thead th {\n",
       "        text-align: right;\n",
       "    }\n",
       "</style>\n",
       "<table border=\"1\" class=\"dataframe\">\n",
       "  <thead>\n",
       "    <tr style=\"text-align: right;\">\n",
       "      <th></th>\n",
       "      <th>dict</th>\n",
       "      <th>movie_id</th>\n",
       "    </tr>\n",
       "  </thead>\n",
       "  <tbody>\n",
       "    <tr>\n",
       "      <th>0</th>\n",
       "      <td>{'credit_id': '52fe4284c3a36847f8024f49', 'dep...</td>\n",
       "      <td>862</td>\n",
       "    </tr>\n",
       "    <tr>\n",
       "      <th>1</th>\n",
       "      <td>{'credit_id': '52fe4284c3a36847f8024f4f', 'dep...</td>\n",
       "      <td>862</td>\n",
       "    </tr>\n",
       "    <tr>\n",
       "      <th>2</th>\n",
       "      <td>{'credit_id': '52fe4284c3a36847f8024f55', 'dep...</td>\n",
       "      <td>862</td>\n",
       "    </tr>\n",
       "    <tr>\n",
       "      <th>3</th>\n",
       "      <td>{'credit_id': '52fe4284c3a36847f8024f5b', 'dep...</td>\n",
       "      <td>862</td>\n",
       "    </tr>\n",
       "    <tr>\n",
       "      <th>4</th>\n",
       "      <td>{'credit_id': '52fe4284c3a36847f8024f61', 'dep...</td>\n",
       "      <td>862</td>\n",
       "    </tr>\n",
       "    <tr>\n",
       "      <th>...</th>\n",
       "      <td>...</td>\n",
       "      <td>...</td>\n",
       "    </tr>\n",
       "    <tr>\n",
       "      <th>464309</th>\n",
       "      <td>{'credit_id': '52fe4776c3a368484e0c8399', 'dep...</td>\n",
       "      <td>67758</td>\n",
       "    </tr>\n",
       "    <tr>\n",
       "      <th>464310</th>\n",
       "      <td>{'credit_id': '52fe4776c3a368484e0c839f', 'dep...</td>\n",
       "      <td>67758</td>\n",
       "    </tr>\n",
       "    <tr>\n",
       "      <th>464311</th>\n",
       "      <td>{'credit_id': '533bccebc3a36844cf0011a7', 'dep...</td>\n",
       "      <td>227506</td>\n",
       "    </tr>\n",
       "    <tr>\n",
       "      <th>464312</th>\n",
       "      <td>{'credit_id': '58ebbc26925141281908aa0a', 'dep...</td>\n",
       "      <td>227506</td>\n",
       "    </tr>\n",
       "    <tr>\n",
       "      <th>464313</th>\n",
       "      <td>{'credit_id': '593e676c92514105b702e68e', 'dep...</td>\n",
       "      <td>461257</td>\n",
       "    </tr>\n",
       "  </tbody>\n",
       "</table>\n",
       "<p>464314 rows × 2 columns</p>\n",
       "</div>"
      ],
      "text/plain": [
       "                                                     dict  movie_id\n",
       "0       {'credit_id': '52fe4284c3a36847f8024f49', 'dep...       862\n",
       "1       {'credit_id': '52fe4284c3a36847f8024f4f', 'dep...       862\n",
       "2       {'credit_id': '52fe4284c3a36847f8024f55', 'dep...       862\n",
       "3       {'credit_id': '52fe4284c3a36847f8024f5b', 'dep...       862\n",
       "4       {'credit_id': '52fe4284c3a36847f8024f61', 'dep...       862\n",
       "...                                                   ...       ...\n",
       "464309  {'credit_id': '52fe4776c3a368484e0c8399', 'dep...     67758\n",
       "464310  {'credit_id': '52fe4776c3a368484e0c839f', 'dep...     67758\n",
       "464311  {'credit_id': '533bccebc3a36844cf0011a7', 'dep...    227506\n",
       "464312  {'credit_id': '58ebbc26925141281908aa0a', 'dep...    227506\n",
       "464313  {'credit_id': '593e676c92514105b702e68e', 'dep...    461257\n",
       "\n",
       "[464314 rows x 2 columns]"
      ]
     },
     "execution_count": 143,
     "metadata": {},
     "output_type": "execute_result"
    }
   ],
   "source": [
    "crew"
   ]
  },
  {
   "cell_type": "code",
   "execution_count": 144,
   "metadata": {},
   "outputs": [],
   "source": [
    "crew.dict = crew.dict.apply(lambda x: json.loads(x.replace(\"'\",'\"')))"
   ]
  },
  {
   "cell_type": "code",
   "execution_count": 147,
   "metadata": {},
   "outputs": [],
   "source": [
    "keys = crew.dict[0].keys()"
   ]
  },
  {
   "cell_type": "code",
   "execution_count": 149,
   "metadata": {},
   "outputs": [],
   "source": [
    "column_fails = []\n",
    "for k in keys:\n",
    "    try:\n",
    "        crew[k] = crew.dict.apply(lambda x: x[k])\n",
    "    except KeyError:\n",
    "        column_fails.append(k)"
   ]
  },
  {
   "cell_type": "code",
   "execution_count": 151,
   "metadata": {},
   "outputs": [
    {
     "data": {
      "text/html": [
       "<div>\n",
       "<style scoped>\n",
       "    .dataframe tbody tr th:only-of-type {\n",
       "        vertical-align: middle;\n",
       "    }\n",
       "\n",
       "    .dataframe tbody tr th {\n",
       "        vertical-align: top;\n",
       "    }\n",
       "\n",
       "    .dataframe thead th {\n",
       "        text-align: right;\n",
       "    }\n",
       "</style>\n",
       "<table border=\"1\" class=\"dataframe\">\n",
       "  <thead>\n",
       "    <tr style=\"text-align: right;\">\n",
       "      <th></th>\n",
       "      <th>dict</th>\n",
       "      <th>movie_id</th>\n",
       "      <th>credit_id</th>\n",
       "      <th>department</th>\n",
       "      <th>gender</th>\n",
       "      <th>id</th>\n",
       "      <th>job</th>\n",
       "      <th>name</th>\n",
       "      <th>profile_path</th>\n",
       "    </tr>\n",
       "  </thead>\n",
       "  <tbody>\n",
       "    <tr>\n",
       "      <th>0</th>\n",
       "      <td>{'credit_id': '52fe4284c3a36847f8024f49', 'dep...</td>\n",
       "      <td>862</td>\n",
       "      <td>52fe4284c3a36847f8024f49</td>\n",
       "      <td>Directing</td>\n",
       "      <td>2</td>\n",
       "      <td>7879</td>\n",
       "      <td>Director</td>\n",
       "      <td>John Lasseter</td>\n",
       "      <td>/7EdqiNbr4FRjIhKHyPPdFfEEEFG.jpg</td>\n",
       "    </tr>\n",
       "    <tr>\n",
       "      <th>1</th>\n",
       "      <td>{'credit_id': '52fe4284c3a36847f8024f4f', 'dep...</td>\n",
       "      <td>862</td>\n",
       "      <td>52fe4284c3a36847f8024f4f</td>\n",
       "      <td>Writing</td>\n",
       "      <td>2</td>\n",
       "      <td>12891</td>\n",
       "      <td>Screenplay</td>\n",
       "      <td>Joss Whedon</td>\n",
       "      <td>/dTiVsuaTVTeGmvkhcyJvKp2A5kr.jpg</td>\n",
       "    </tr>\n",
       "    <tr>\n",
       "      <th>2</th>\n",
       "      <td>{'credit_id': '52fe4284c3a36847f8024f55', 'dep...</td>\n",
       "      <td>862</td>\n",
       "      <td>52fe4284c3a36847f8024f55</td>\n",
       "      <td>Writing</td>\n",
       "      <td>2</td>\n",
       "      <td>7</td>\n",
       "      <td>Screenplay</td>\n",
       "      <td>Andrew Stanton</td>\n",
       "      <td>/pvQWsu0qc8JFQhMVJkTHuexUAa1.jpg</td>\n",
       "    </tr>\n",
       "    <tr>\n",
       "      <th>3</th>\n",
       "      <td>{'credit_id': '52fe4284c3a36847f8024f5b', 'dep...</td>\n",
       "      <td>862</td>\n",
       "      <td>52fe4284c3a36847f8024f5b</td>\n",
       "      <td>Writing</td>\n",
       "      <td>2</td>\n",
       "      <td>12892</td>\n",
       "      <td>Screenplay</td>\n",
       "      <td>Joel Cohen</td>\n",
       "      <td>/dAubAiZcvKFbboWlj7oXOkZnTSu.jpg</td>\n",
       "    </tr>\n",
       "    <tr>\n",
       "      <th>4</th>\n",
       "      <td>{'credit_id': '52fe4284c3a36847f8024f61', 'dep...</td>\n",
       "      <td>862</td>\n",
       "      <td>52fe4284c3a36847f8024f61</td>\n",
       "      <td>Writing</td>\n",
       "      <td>0</td>\n",
       "      <td>12893</td>\n",
       "      <td>Screenplay</td>\n",
       "      <td>Alec Sokolow</td>\n",
       "      <td>/v79vlRYi94BZUQnkkyznbGUZLjT.jpg</td>\n",
       "    </tr>\n",
       "  </tbody>\n",
       "</table>\n",
       "</div>"
      ],
      "text/plain": [
       "                                                dict  movie_id  \\\n",
       "0  {'credit_id': '52fe4284c3a36847f8024f49', 'dep...       862   \n",
       "1  {'credit_id': '52fe4284c3a36847f8024f4f', 'dep...       862   \n",
       "2  {'credit_id': '52fe4284c3a36847f8024f55', 'dep...       862   \n",
       "3  {'credit_id': '52fe4284c3a36847f8024f5b', 'dep...       862   \n",
       "4  {'credit_id': '52fe4284c3a36847f8024f61', 'dep...       862   \n",
       "\n",
       "                  credit_id department  gender     id         job  \\\n",
       "0  52fe4284c3a36847f8024f49  Directing       2   7879    Director   \n",
       "1  52fe4284c3a36847f8024f4f    Writing       2  12891  Screenplay   \n",
       "2  52fe4284c3a36847f8024f55    Writing       2      7  Screenplay   \n",
       "3  52fe4284c3a36847f8024f5b    Writing       2  12892  Screenplay   \n",
       "4  52fe4284c3a36847f8024f61    Writing       0  12893  Screenplay   \n",
       "\n",
       "             name                      profile_path  \n",
       "0   John Lasseter  /7EdqiNbr4FRjIhKHyPPdFfEEEFG.jpg  \n",
       "1     Joss Whedon  /dTiVsuaTVTeGmvkhcyJvKp2A5kr.jpg  \n",
       "2  Andrew Stanton  /pvQWsu0qc8JFQhMVJkTHuexUAa1.jpg  \n",
       "3      Joel Cohen  /dAubAiZcvKFbboWlj7oXOkZnTSu.jpg  \n",
       "4    Alec Sokolow  /v79vlRYi94BZUQnkkyznbGUZLjT.jpg  "
      ]
     },
     "execution_count": 151,
     "metadata": {},
     "output_type": "execute_result"
    }
   ],
   "source": [
    "crew.head()"
   ]
  },
  {
   "attachments": {},
   "cell_type": "markdown",
   "metadata": {},
   "source": [
    "Ahora con todas las nuevas columnas creadas, elimino 'profile_path' y 'dict' ya que no las necesito"
   ]
  },
  {
   "cell_type": "code",
   "execution_count": 152,
   "metadata": {},
   "outputs": [
    {
     "data": {
      "text/html": [
       "<div>\n",
       "<style scoped>\n",
       "    .dataframe tbody tr th:only-of-type {\n",
       "        vertical-align: middle;\n",
       "    }\n",
       "\n",
       "    .dataframe tbody tr th {\n",
       "        vertical-align: top;\n",
       "    }\n",
       "\n",
       "    .dataframe thead th {\n",
       "        text-align: right;\n",
       "    }\n",
       "</style>\n",
       "<table border=\"1\" class=\"dataframe\">\n",
       "  <thead>\n",
       "    <tr style=\"text-align: right;\">\n",
       "      <th></th>\n",
       "      <th>movie_id</th>\n",
       "      <th>credit_id</th>\n",
       "      <th>department</th>\n",
       "      <th>gender</th>\n",
       "      <th>id</th>\n",
       "      <th>job</th>\n",
       "      <th>name</th>\n",
       "    </tr>\n",
       "  </thead>\n",
       "  <tbody>\n",
       "    <tr>\n",
       "      <th>0</th>\n",
       "      <td>862</td>\n",
       "      <td>52fe4284c3a36847f8024f49</td>\n",
       "      <td>Directing</td>\n",
       "      <td>2</td>\n",
       "      <td>7879</td>\n",
       "      <td>Director</td>\n",
       "      <td>John Lasseter</td>\n",
       "    </tr>\n",
       "    <tr>\n",
       "      <th>1</th>\n",
       "      <td>862</td>\n",
       "      <td>52fe4284c3a36847f8024f4f</td>\n",
       "      <td>Writing</td>\n",
       "      <td>2</td>\n",
       "      <td>12891</td>\n",
       "      <td>Screenplay</td>\n",
       "      <td>Joss Whedon</td>\n",
       "    </tr>\n",
       "    <tr>\n",
       "      <th>2</th>\n",
       "      <td>862</td>\n",
       "      <td>52fe4284c3a36847f8024f55</td>\n",
       "      <td>Writing</td>\n",
       "      <td>2</td>\n",
       "      <td>7</td>\n",
       "      <td>Screenplay</td>\n",
       "      <td>Andrew Stanton</td>\n",
       "    </tr>\n",
       "    <tr>\n",
       "      <th>3</th>\n",
       "      <td>862</td>\n",
       "      <td>52fe4284c3a36847f8024f5b</td>\n",
       "      <td>Writing</td>\n",
       "      <td>2</td>\n",
       "      <td>12892</td>\n",
       "      <td>Screenplay</td>\n",
       "      <td>Joel Cohen</td>\n",
       "    </tr>\n",
       "    <tr>\n",
       "      <th>4</th>\n",
       "      <td>862</td>\n",
       "      <td>52fe4284c3a36847f8024f61</td>\n",
       "      <td>Writing</td>\n",
       "      <td>0</td>\n",
       "      <td>12893</td>\n",
       "      <td>Screenplay</td>\n",
       "      <td>Alec Sokolow</td>\n",
       "    </tr>\n",
       "    <tr>\n",
       "      <th>...</th>\n",
       "      <td>...</td>\n",
       "      <td>...</td>\n",
       "      <td>...</td>\n",
       "      <td>...</td>\n",
       "      <td>...</td>\n",
       "      <td>...</td>\n",
       "      <td>...</td>\n",
       "    </tr>\n",
       "    <tr>\n",
       "      <th>464309</th>\n",
       "      <td>67758</td>\n",
       "      <td>52fe4776c3a368484e0c8399</td>\n",
       "      <td>Sound</td>\n",
       "      <td>0</td>\n",
       "      <td>549356</td>\n",
       "      <td>Original Music Composer</td>\n",
       "      <td>Richard McHugh</td>\n",
       "    </tr>\n",
       "    <tr>\n",
       "      <th>464310</th>\n",
       "      <td>67758</td>\n",
       "      <td>52fe4776c3a368484e0c839f</td>\n",
       "      <td>Camera</td>\n",
       "      <td>2</td>\n",
       "      <td>58818</td>\n",
       "      <td>Director of Photography</td>\n",
       "      <td>João Fernandes</td>\n",
       "    </tr>\n",
       "    <tr>\n",
       "      <th>464311</th>\n",
       "      <td>227506</td>\n",
       "      <td>533bccebc3a36844cf0011a7</td>\n",
       "      <td>Directing</td>\n",
       "      <td>0</td>\n",
       "      <td>1085341</td>\n",
       "      <td>Director</td>\n",
       "      <td>Yakov Protazanov</td>\n",
       "    </tr>\n",
       "    <tr>\n",
       "      <th>464312</th>\n",
       "      <td>227506</td>\n",
       "      <td>58ebbc26925141281908aa0a</td>\n",
       "      <td>Production</td>\n",
       "      <td>2</td>\n",
       "      <td>1195656</td>\n",
       "      <td>Producer</td>\n",
       "      <td>Joseph N. Ermolieff</td>\n",
       "    </tr>\n",
       "    <tr>\n",
       "      <th>464313</th>\n",
       "      <td>461257</td>\n",
       "      <td>593e676c92514105b702e68e</td>\n",
       "      <td>Directing</td>\n",
       "      <td>0</td>\n",
       "      <td>1344495</td>\n",
       "      <td>Director</td>\n",
       "      <td>Daisy Asquith</td>\n",
       "    </tr>\n",
       "  </tbody>\n",
       "</table>\n",
       "<p>464314 rows × 7 columns</p>\n",
       "</div>"
      ],
      "text/plain": [
       "        movie_id                 credit_id  department  gender       id  \\\n",
       "0            862  52fe4284c3a36847f8024f49   Directing       2     7879   \n",
       "1            862  52fe4284c3a36847f8024f4f     Writing       2    12891   \n",
       "2            862  52fe4284c3a36847f8024f55     Writing       2        7   \n",
       "3            862  52fe4284c3a36847f8024f5b     Writing       2    12892   \n",
       "4            862  52fe4284c3a36847f8024f61     Writing       0    12893   \n",
       "...          ...                       ...         ...     ...      ...   \n",
       "464309     67758  52fe4776c3a368484e0c8399       Sound       0   549356   \n",
       "464310     67758  52fe4776c3a368484e0c839f      Camera       2    58818   \n",
       "464311    227506  533bccebc3a36844cf0011a7   Directing       0  1085341   \n",
       "464312    227506  58ebbc26925141281908aa0a  Production       2  1195656   \n",
       "464313    461257  593e676c92514105b702e68e   Directing       0  1344495   \n",
       "\n",
       "                            job                 name  \n",
       "0                      Director        John Lasseter  \n",
       "1                    Screenplay          Joss Whedon  \n",
       "2                    Screenplay       Andrew Stanton  \n",
       "3                    Screenplay           Joel Cohen  \n",
       "4                    Screenplay         Alec Sokolow  \n",
       "...                         ...                  ...  \n",
       "464309  Original Music Composer       Richard McHugh  \n",
       "464310  Director of Photography       João Fernandes  \n",
       "464311                 Director     Yakov Protazanov  \n",
       "464312                 Producer  Joseph N. Ermolieff  \n",
       "464313                 Director        Daisy Asquith  \n",
       "\n",
       "[464314 rows x 7 columns]"
      ]
     },
     "execution_count": 152,
     "metadata": {},
     "output_type": "execute_result"
    }
   ],
   "source": [
    "crew = crew.drop(columns={'dict','profile_path'})\n",
    "crew"
   ]
  },
  {
   "attachments": {},
   "cell_type": "markdown",
   "metadata": {},
   "source": [
    "Finalmente, con toda la data limpia y organizada como corresponde, procedo a exportar los dataframe como archivos 'csv' para su posterior tratamiento"
   ]
  },
  {
   "cell_type": "code",
   "execution_count": 153,
   "metadata": {},
   "outputs": [],
   "source": [
    "cast.to_csv('../clean_data/final_cast.csv',sep=',',index=False)\n",
    "crew.to_csv('../clean_data/final_crew.csv',sep=',',index=False)"
   ]
  }
 ],
 "metadata": {
  "kernelspec": {
   "display_name": "Python 3",
   "language": "python",
   "name": "python3"
  },
  "language_info": {
   "codemirror_mode": {
    "name": "ipython",
    "version": 3
   },
   "file_extension": ".py",
   "mimetype": "text/x-python",
   "name": "python",
   "nbconvert_exporter": "python",
   "pygments_lexer": "ipython3",
   "version": "3.10.11"
  },
  "orig_nbformat": 4
 },
 "nbformat": 4,
 "nbformat_minor": 2
}
