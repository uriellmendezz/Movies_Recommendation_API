{
 "cells": [
  {
   "attachments": {},
   "cell_type": "markdown",
   "metadata": {},
   "source": [
    "# Proceso de ETL para el dataset de *credits.csv*"
   ]
  },
  {
   "attachments": {},
   "cell_type": "markdown",
   "metadata": {},
   "source": [
    "---"
   ]
  },
  {
   "attachments": {},
   "cell_type": "markdown",
   "metadata": {},
   "source": [
    "### Parte 1  |  Desanidación de diccionarios en las columnas **'cast'** y **'crew'**"
   ]
  },
  {
   "cell_type": "code",
   "execution_count": 42,
   "metadata": {},
   "outputs": [],
   "source": [
    "# Librerias a utilizar\n",
    "import pandas as pd\n",
    "import json\n",
    "import warnings\n",
    "warnings.filterwarnings('ignore')\n",
    "import numpy as np"
   ]
  },
  {
   "cell_type": "code",
   "execution_count": 2,
   "metadata": {},
   "outputs": [
    {
     "data": {
      "text/html": [
       "<div>\n",
       "<style scoped>\n",
       "    .dataframe tbody tr th:only-of-type {\n",
       "        vertical-align: middle;\n",
       "    }\n",
       "\n",
       "    .dataframe tbody tr th {\n",
       "        vertical-align: top;\n",
       "    }\n",
       "\n",
       "    .dataframe thead th {\n",
       "        text-align: right;\n",
       "    }\n",
       "</style>\n",
       "<table border=\"1\" class=\"dataframe\">\n",
       "  <thead>\n",
       "    <tr style=\"text-align: right;\">\n",
       "      <th></th>\n",
       "      <th>cast</th>\n",
       "      <th>crew</th>\n",
       "      <th>id</th>\n",
       "    </tr>\n",
       "  </thead>\n",
       "  <tbody>\n",
       "    <tr>\n",
       "      <th>0</th>\n",
       "      <td>[{'cast_id': 14, 'character': 'Woody (voice)',...</td>\n",
       "      <td>[{'credit_id': '52fe4284c3a36847f8024f49', 'de...</td>\n",
       "      <td>862</td>\n",
       "    </tr>\n",
       "    <tr>\n",
       "      <th>1</th>\n",
       "      <td>[{'cast_id': 1, 'character': 'Alan Parrish', '...</td>\n",
       "      <td>[{'credit_id': '52fe44bfc3a36847f80a7cd1', 'de...</td>\n",
       "      <td>8844</td>\n",
       "    </tr>\n",
       "    <tr>\n",
       "      <th>2</th>\n",
       "      <td>[{'cast_id': 2, 'character': 'Max Goldman', 'c...</td>\n",
       "      <td>[{'credit_id': '52fe466a9251416c75077a89', 'de...</td>\n",
       "      <td>15602</td>\n",
       "    </tr>\n",
       "    <tr>\n",
       "      <th>3</th>\n",
       "      <td>[{'cast_id': 1, 'character': \"Savannah 'Vannah...</td>\n",
       "      <td>[{'credit_id': '52fe44779251416c91011acb', 'de...</td>\n",
       "      <td>31357</td>\n",
       "    </tr>\n",
       "    <tr>\n",
       "      <th>4</th>\n",
       "      <td>[{'cast_id': 1, 'character': 'George Banks', '...</td>\n",
       "      <td>[{'credit_id': '52fe44959251416c75039ed7', 'de...</td>\n",
       "      <td>11862</td>\n",
       "    </tr>\n",
       "    <tr>\n",
       "      <th>...</th>\n",
       "      <td>...</td>\n",
       "      <td>...</td>\n",
       "      <td>...</td>\n",
       "    </tr>\n",
       "    <tr>\n",
       "      <th>45471</th>\n",
       "      <td>[{'cast_id': 0, 'character': '', 'credit_id': ...</td>\n",
       "      <td>[{'credit_id': '5894a97d925141426c00818c', 'de...</td>\n",
       "      <td>439050</td>\n",
       "    </tr>\n",
       "    <tr>\n",
       "      <th>45472</th>\n",
       "      <td>[{'cast_id': 1002, 'character': 'Sister Angela...</td>\n",
       "      <td>[{'credit_id': '52fe4af1c3a36847f81e9b15', 'de...</td>\n",
       "      <td>111109</td>\n",
       "    </tr>\n",
       "    <tr>\n",
       "      <th>45473</th>\n",
       "      <td>[{'cast_id': 6, 'character': 'Emily Shaw', 'cr...</td>\n",
       "      <td>[{'credit_id': '52fe4776c3a368484e0c8387', 'de...</td>\n",
       "      <td>67758</td>\n",
       "    </tr>\n",
       "    <tr>\n",
       "      <th>45474</th>\n",
       "      <td>[{'cast_id': 2, 'character': '', 'credit_id': ...</td>\n",
       "      <td>[{'credit_id': '533bccebc3a36844cf0011a7', 'de...</td>\n",
       "      <td>227506</td>\n",
       "    </tr>\n",
       "    <tr>\n",
       "      <th>45475</th>\n",
       "      <td>[]</td>\n",
       "      <td>[{'credit_id': '593e676c92514105b702e68e', 'de...</td>\n",
       "      <td>461257</td>\n",
       "    </tr>\n",
       "  </tbody>\n",
       "</table>\n",
       "<p>45476 rows × 3 columns</p>\n",
       "</div>"
      ],
      "text/plain": [
       "                                                    cast  \\\n",
       "0      [{'cast_id': 14, 'character': 'Woody (voice)',...   \n",
       "1      [{'cast_id': 1, 'character': 'Alan Parrish', '...   \n",
       "2      [{'cast_id': 2, 'character': 'Max Goldman', 'c...   \n",
       "3      [{'cast_id': 1, 'character': \"Savannah 'Vannah...   \n",
       "4      [{'cast_id': 1, 'character': 'George Banks', '...   \n",
       "...                                                  ...   \n",
       "45471  [{'cast_id': 0, 'character': '', 'credit_id': ...   \n",
       "45472  [{'cast_id': 1002, 'character': 'Sister Angela...   \n",
       "45473  [{'cast_id': 6, 'character': 'Emily Shaw', 'cr...   \n",
       "45474  [{'cast_id': 2, 'character': '', 'credit_id': ...   \n",
       "45475                                                 []   \n",
       "\n",
       "                                                    crew      id  \n",
       "0      [{'credit_id': '52fe4284c3a36847f8024f49', 'de...     862  \n",
       "1      [{'credit_id': '52fe44bfc3a36847f80a7cd1', 'de...    8844  \n",
       "2      [{'credit_id': '52fe466a9251416c75077a89', 'de...   15602  \n",
       "3      [{'credit_id': '52fe44779251416c91011acb', 'de...   31357  \n",
       "4      [{'credit_id': '52fe44959251416c75039ed7', 'de...   11862  \n",
       "...                                                  ...     ...  \n",
       "45471  [{'credit_id': '5894a97d925141426c00818c', 'de...  439050  \n",
       "45472  [{'credit_id': '52fe4af1c3a36847f81e9b15', 'de...  111109  \n",
       "45473  [{'credit_id': '52fe4776c3a368484e0c8387', 'de...   67758  \n",
       "45474  [{'credit_id': '533bccebc3a36844cf0011a7', 'de...  227506  \n",
       "45475  [{'credit_id': '593e676c92514105b702e68e', 'de...  461257  \n",
       "\n",
       "[45476 rows x 3 columns]"
      ]
     },
     "execution_count": 2,
     "metadata": {},
     "output_type": "execute_result"
    }
   ],
   "source": [
    "credits = pd.read_csv('../datasets/credits.csv')\n",
    "credits"
   ]
  },
  {
   "attachments": {},
   "cell_type": "markdown",
   "metadata": {},
   "source": [
    "Como los campos de 'cast' y 'crew' vienen en una lista con diccionarios anidados dentro, creo una funcion para su limpieza"
   ]
  },
  {
   "cell_type": "code",
   "execution_count": null,
   "metadata": {},
   "outputs": [],
   "source": [
    "def clean_dataframe(df_column):\n",
    "    \n",
    "    # Crea un diccionario para almacenar los valores limpios y su respectivo 'movie_id'\n",
    "    values = {'dict':[],'movie_id':[]}\n",
    "    \n",
    "    # Itera sobre los valores de la columna junto con sus índices\n",
    "    for index, value in enumerate(df_column):\n",
    "        \n",
    "        value = value.strip('[]') # Elimino los corchetes de cada fila\n",
    "        \n",
    "        # Reemplazo las comillas simples por comillas dobles y a los valores None por 'None'\n",
    "        value = value.replace(\"'\",'\"').replace('None','\"None\"')\n",
    "        \n",
    "        # Divide el valor en una lista utilizando el carácter '{' como delimitador\n",
    "        list_values = value.split('{') # Creo una lista de valores a partir de la llave de apertura ({)\n",
    "                                       # generando asi en cada valor de la lista un diccionario\n",
    "        \n",
    "        # Elimino el primer elemento de la lista, ya que es un valor vacio en vez de ser un diccionario\n",
    "        list_values = list_values[1:]\n",
    "        \n",
    "        # Ahora itero sobre cada valor de 'list_values', siendo cada uno un diccionario\n",
    "        for i in list_values:\n",
    "            # Le agrego a cada valor la lave de apertura ya que antes habia utilizado ese caracter para hacer las particiones\n",
    "            i = '{' + i\n",
    "            \n",
    "            # Busco el índice de '}' para tomarlo como cierre de cada diccionario\n",
    "            cierre = i.index('}')\n",
    "            \n",
    "            # Extrae el elemento hasta el cierre '}' y se lo asigno nuevamente a 'i'\n",
    "            i = i[:cierre + 1]\n",
    "            \n",
    "            # Ahora que el valor esta limpio como un diccionario, lo agrego al diccionario 'values' en la clave 'dict'\n",
    "            values['dict'].append(i)\n",
    "            \n",
    "            # A treves del index de la fila, obtengo el 'movie_id' y lo agrego al diccionario en la clave 'movie_id'\n",
    "            values['movie_id'].append(credits.id.iloc[index])\n",
    "\n",
    "    # Una vez terminado el loop, creo un dataframe con los valores del diccionario 'values' al que\n",
    "    # le fui cargando los diccionarios limpios\n",
    "    df = pd.DataFrame(values)\n",
    "    \n",
    "    # Retorno el dataframe\n",
    "    return df"
   ]
  },
  {
   "attachments": {},
   "cell_type": "markdown",
   "metadata": {},
   "source": [
    "Ahora con la funcion creada, aplico las transformaciones para la columna 'cast' y para 'crew'. Haciendo esto obtengo un dataframe limpio para cada columna"
   ]
  },
  {
   "cell_type": "code",
   "execution_count": 4,
   "metadata": {},
   "outputs": [],
   "source": [
    "cast = clean_dataframe(credits.cast)\n",
    "crew = clean_dataframe(credits.crew)"
   ]
  },
  {
   "attachments": {},
   "cell_type": "markdown",
   "metadata": {},
   "source": [
    "Creo una nueva columna que me indique si la el valor de la columna 'dict' puede ser transformado en un diccionario o no.\n",
    "\n",
    "- 1 es que el valor pudo ser transformado en diccionario\n",
    "- 0 es que por algun error de sintaxis en el valor no se pudo convertir a diccionario y por ende sigue siendo un string\n",
    "\n",
    "*por default le aplico 1 a cada valor ya que son mas los valores que pueden ser transformados a dict que los que no*"
   ]
  },
  {
   "cell_type": "code",
   "execution_count": 5,
   "metadata": {},
   "outputs": [],
   "source": [
    "cast['dictionary_format'] = 1\n",
    "crew['dictionary_format'] = 1"
   ]
  },
  {
   "attachments": {},
   "cell_type": "markdown",
   "metadata": {},
   "source": [
    "Ahora creo una funcion que trate de convertir cada valor en un diccionario"
   ]
  },
  {
   "cell_type": "code",
   "execution_count": null,
   "metadata": {},
   "outputs": [],
   "source": [
    "def Dictionary_Format(dataframe,column): # Recibe el dataframe completo y la columna a la que se le van a realizar los cambios\n",
    "    # Itero sobre cada fila del dataframe y su indice\n",
    "    for index, row in enumerate(column):\n",
    "        if not isinstance(row, dict): # Verifico si el valor de la fila no es un diccionario\n",
    "            try:\n",
    "                # Acá intento cargar el valor de la fila como un diccionario utilizando JSON.loads()\n",
    "                value = json.loads(row)\n",
    "                # Si 'value' pudo ser convertido a diccionario efectivamente, se ejecuta lo siguiente:\n",
    "                dataframe.at[index, 'dict'] = value \n",
    "                # A traves de la fila actualizo el valor antiguo que no era diccionario por el valor transformado a dict\n",
    "\n",
    "            except json.JSONDecodeError as e: \n",
    "                # Si hubo un error al tratar de convertir un valor a diccionario, simplemente se setea en la columna\n",
    "                # 'dictionary_format' con 0.\n",
    "                dataframe.at[index, 'dictionary_format'] = 0\n",
    "        else:\n",
    "            # Si el valor de la fila ya es un diccionario,continuo con el loop\n",
    "            continue"
   ]
  },
  {
   "attachments": {},
   "cell_type": "markdown",
   "metadata": {},
   "source": [
    "##### Primero aplico la funcion al nuevo dataframe **'cast'**"
   ]
  },
  {
   "cell_type": "code",
   "execution_count": 7,
   "metadata": {},
   "outputs": [
    {
     "data": {
      "text/html": [
       "<div>\n",
       "<style scoped>\n",
       "    .dataframe tbody tr th:only-of-type {\n",
       "        vertical-align: middle;\n",
       "    }\n",
       "\n",
       "    .dataframe tbody tr th {\n",
       "        vertical-align: top;\n",
       "    }\n",
       "\n",
       "    .dataframe thead th {\n",
       "        text-align: right;\n",
       "    }\n",
       "</style>\n",
       "<table border=\"1\" class=\"dataframe\">\n",
       "  <thead>\n",
       "    <tr style=\"text-align: right;\">\n",
       "      <th></th>\n",
       "      <th>dict</th>\n",
       "      <th>movie_id</th>\n",
       "      <th>dictionary_format</th>\n",
       "    </tr>\n",
       "  </thead>\n",
       "  <tbody>\n",
       "    <tr>\n",
       "      <th>0</th>\n",
       "      <td>{'cast_id': 14, 'character': 'Woody (voice)', ...</td>\n",
       "      <td>862</td>\n",
       "      <td>1</td>\n",
       "    </tr>\n",
       "    <tr>\n",
       "      <th>1</th>\n",
       "      <td>{'cast_id': 15, 'character': 'Buzz Lightyear (...</td>\n",
       "      <td>862</td>\n",
       "      <td>1</td>\n",
       "    </tr>\n",
       "    <tr>\n",
       "      <th>2</th>\n",
       "      <td>{'cast_id': 16, 'character': 'Mr. Potato Head ...</td>\n",
       "      <td>862</td>\n",
       "      <td>1</td>\n",
       "    </tr>\n",
       "    <tr>\n",
       "      <th>3</th>\n",
       "      <td>{'cast_id': 17, 'character': 'Slinky Dog (voic...</td>\n",
       "      <td>862</td>\n",
       "      <td>1</td>\n",
       "    </tr>\n",
       "    <tr>\n",
       "      <th>4</th>\n",
       "      <td>{'cast_id': 18, 'character': 'Rex (voice)', 'c...</td>\n",
       "      <td>862</td>\n",
       "      <td>1</td>\n",
       "    </tr>\n",
       "    <tr>\n",
       "      <th>5</th>\n",
       "      <td>{'cast_id': 19, 'character': 'Hamm (voice)', '...</td>\n",
       "      <td>862</td>\n",
       "      <td>1</td>\n",
       "    </tr>\n",
       "    <tr>\n",
       "      <th>6</th>\n",
       "      <td>{'cast_id': 20, 'character': 'Bo Peep (voice)'...</td>\n",
       "      <td>862</td>\n",
       "      <td>1</td>\n",
       "    </tr>\n",
       "    <tr>\n",
       "      <th>7</th>\n",
       "      <td>{'cast_id': 26, 'character': 'Andy (voice)', '...</td>\n",
       "      <td>862</td>\n",
       "      <td>1</td>\n",
       "    </tr>\n",
       "    <tr>\n",
       "      <th>8</th>\n",
       "      <td>{'cast_id': 22, 'character': 'Sid (voice)', 'c...</td>\n",
       "      <td>862</td>\n",
       "      <td>1</td>\n",
       "    </tr>\n",
       "    <tr>\n",
       "      <th>9</th>\n",
       "      <td>{'cast_id': 23, 'character': 'Mrs. Davis (voic...</td>\n",
       "      <td>862</td>\n",
       "      <td>1</td>\n",
       "    </tr>\n",
       "  </tbody>\n",
       "</table>\n",
       "</div>"
      ],
      "text/plain": [
       "                                                dict  movie_id  \\\n",
       "0  {'cast_id': 14, 'character': 'Woody (voice)', ...       862   \n",
       "1  {'cast_id': 15, 'character': 'Buzz Lightyear (...       862   \n",
       "2  {'cast_id': 16, 'character': 'Mr. Potato Head ...       862   \n",
       "3  {'cast_id': 17, 'character': 'Slinky Dog (voic...       862   \n",
       "4  {'cast_id': 18, 'character': 'Rex (voice)', 'c...       862   \n",
       "5  {'cast_id': 19, 'character': 'Hamm (voice)', '...       862   \n",
       "6  {'cast_id': 20, 'character': 'Bo Peep (voice)'...       862   \n",
       "7  {'cast_id': 26, 'character': 'Andy (voice)', '...       862   \n",
       "8  {'cast_id': 22, 'character': 'Sid (voice)', 'c...       862   \n",
       "9  {'cast_id': 23, 'character': 'Mrs. Davis (voic...       862   \n",
       "\n",
       "   dictionary_format  \n",
       "0                  1  \n",
       "1                  1  \n",
       "2                  1  \n",
       "3                  1  \n",
       "4                  1  \n",
       "5                  1  \n",
       "6                  1  \n",
       "7                  1  \n",
       "8                  1  \n",
       "9                  1  "
      ]
     },
     "execution_count": 7,
     "metadata": {},
     "output_type": "execute_result"
    }
   ],
   "source": [
    "Dictionary_Format(cast,cast.dict)\n",
    "cast.head(10)"
   ]
  },
  {
   "attachments": {},
   "cell_type": "markdown",
   "metadata": {},
   "source": [
    "Visualizo todas las filas con los valores que no pudieron ser modificados a diccionarios por un error de sintaxis o de codificación"
   ]
  },
  {
   "cell_type": "code",
   "execution_count": 8,
   "metadata": {},
   "outputs": [
    {
     "data": {
      "text/html": [
       "<div>\n",
       "<style scoped>\n",
       "    .dataframe tbody tr th:only-of-type {\n",
       "        vertical-align: middle;\n",
       "    }\n",
       "\n",
       "    .dataframe tbody tr th {\n",
       "        vertical-align: top;\n",
       "    }\n",
       "\n",
       "    .dataframe thead th {\n",
       "        text-align: right;\n",
       "    }\n",
       "</style>\n",
       "<table border=\"1\" class=\"dataframe\">\n",
       "  <thead>\n",
       "    <tr style=\"text-align: right;\">\n",
       "      <th></th>\n",
       "      <th>dict</th>\n",
       "      <th>movie_id</th>\n",
       "      <th>dictionary_format</th>\n",
       "    </tr>\n",
       "  </thead>\n",
       "  <tbody>\n",
       "    <tr>\n",
       "      <th>46</th>\n",
       "      <td>{\"cast_id\": 1, \"character\": \"Savannah \"Vannah\"...</td>\n",
       "      <td>31357</td>\n",
       "      <td>0</td>\n",
       "    </tr>\n",
       "    <tr>\n",
       "      <th>47</th>\n",
       "      <td>{\"cast_id\": 2, \"character\": \"Bernadine \"Bernie...</td>\n",
       "      <td>31357</td>\n",
       "      <td>0</td>\n",
       "    </tr>\n",
       "    <tr>\n",
       "      <th>48</th>\n",
       "      <td>{\"cast_id\": 3, \"character\": \"Gloria \"Glo\" Matt...</td>\n",
       "      <td>31357</td>\n",
       "      <td>0</td>\n",
       "    </tr>\n",
       "    <tr>\n",
       "      <th>95</th>\n",
       "      <td>{\"cast_id\": 52, \"character\": \"Hooker\"s Mother\"...</td>\n",
       "      <td>949</td>\n",
       "      <td>0</td>\n",
       "    </tr>\n",
       "    <tr>\n",
       "      <th>101</th>\n",
       "      <td>{\"cast_id\": 99, \"character\": \"Bosko\"s Date\", \"...</td>\n",
       "      <td>949</td>\n",
       "      <td>0</td>\n",
       "    </tr>\n",
       "    <tr>\n",
       "      <th>...</th>\n",
       "      <td>...</td>\n",
       "      <td>...</td>\n",
       "      <td>...</td>\n",
       "    </tr>\n",
       "    <tr>\n",
       "      <th>562267</th>\n",
       "      <td>{\"cast_id\": 2, \"character\": \"Father O\"Neill\", ...</td>\n",
       "      <td>222872</td>\n",
       "      <td>0</td>\n",
       "    </tr>\n",
       "    <tr>\n",
       "      <th>562275</th>\n",
       "      <td>{\"cast_id\": 14, \"character\": \"Flashback Dancer...</td>\n",
       "      <td>222872</td>\n",
       "      <td>0</td>\n",
       "    </tr>\n",
       "    <tr>\n",
       "      <th>562285</th>\n",
       "      <td>{\"cast_id\": 2, \"character\": \"Aladdin\", \"credit...</td>\n",
       "      <td>325439</td>\n",
       "      <td>0</td>\n",
       "    </tr>\n",
       "    <tr>\n",
       "      <th>562363</th>\n",
       "      <td>{\"cast_id\": 2, \"character\": \"\", \"credit_id\": \"...</td>\n",
       "      <td>106807</td>\n",
       "      <td>0</td>\n",
       "    </tr>\n",
       "    <tr>\n",
       "      <th>562453</th>\n",
       "      <td>{\"cast_id\": 1013, \"character\": \"Homer\"s mother...</td>\n",
       "      <td>111109</td>\n",
       "      <td>0</td>\n",
       "    </tr>\n",
       "  </tbody>\n",
       "</table>\n",
       "<p>28488 rows × 3 columns</p>\n",
       "</div>"
      ],
      "text/plain": [
       "                                                     dict  movie_id  \\\n",
       "46      {\"cast_id\": 1, \"character\": \"Savannah \"Vannah\"...     31357   \n",
       "47      {\"cast_id\": 2, \"character\": \"Bernadine \"Bernie...     31357   \n",
       "48      {\"cast_id\": 3, \"character\": \"Gloria \"Glo\" Matt...     31357   \n",
       "95      {\"cast_id\": 52, \"character\": \"Hooker\"s Mother\"...       949   \n",
       "101     {\"cast_id\": 99, \"character\": \"Bosko\"s Date\", \"...       949   \n",
       "...                                                   ...       ...   \n",
       "562267  {\"cast_id\": 2, \"character\": \"Father O\"Neill\", ...    222872   \n",
       "562275  {\"cast_id\": 14, \"character\": \"Flashback Dancer...    222872   \n",
       "562285  {\"cast_id\": 2, \"character\": \"Aladdin\", \"credit...    325439   \n",
       "562363  {\"cast_id\": 2, \"character\": \"\", \"credit_id\": \"...    106807   \n",
       "562453  {\"cast_id\": 1013, \"character\": \"Homer\"s mother...    111109   \n",
       "\n",
       "        dictionary_format  \n",
       "46                      0  \n",
       "47                      0  \n",
       "48                      0  \n",
       "95                      0  \n",
       "101                     0  \n",
       "...                   ...  \n",
       "562267                  0  \n",
       "562275                  0  \n",
       "562285                  0  \n",
       "562363                  0  \n",
       "562453                  0  \n",
       "\n",
       "[28488 rows x 3 columns]"
      ]
     },
     "execution_count": 8,
     "metadata": {},
     "output_type": "execute_result"
    }
   ],
   "source": [
    "cast.loc[cast.dictionary_format == 0]"
   ]
  },
  {
   "attachments": {},
   "cell_type": "markdown",
   "metadata": {},
   "source": [
    "##### Continuo ahora el el dataframe de **'crew'**"
   ]
  },
  {
   "cell_type": "code",
   "execution_count": 9,
   "metadata": {},
   "outputs": [
    {
     "data": {
      "text/html": [
       "<div>\n",
       "<style scoped>\n",
       "    .dataframe tbody tr th:only-of-type {\n",
       "        vertical-align: middle;\n",
       "    }\n",
       "\n",
       "    .dataframe tbody tr th {\n",
       "        vertical-align: top;\n",
       "    }\n",
       "\n",
       "    .dataframe thead th {\n",
       "        text-align: right;\n",
       "    }\n",
       "</style>\n",
       "<table border=\"1\" class=\"dataframe\">\n",
       "  <thead>\n",
       "    <tr style=\"text-align: right;\">\n",
       "      <th></th>\n",
       "      <th>dict</th>\n",
       "      <th>movie_id</th>\n",
       "      <th>dictionary_format</th>\n",
       "    </tr>\n",
       "  </thead>\n",
       "  <tbody>\n",
       "    <tr>\n",
       "      <th>0</th>\n",
       "      <td>{'credit_id': '52fe4284c3a36847f8024f49', 'dep...</td>\n",
       "      <td>862</td>\n",
       "      <td>1</td>\n",
       "    </tr>\n",
       "    <tr>\n",
       "      <th>1</th>\n",
       "      <td>{'credit_id': '52fe4284c3a36847f8024f4f', 'dep...</td>\n",
       "      <td>862</td>\n",
       "      <td>1</td>\n",
       "    </tr>\n",
       "    <tr>\n",
       "      <th>2</th>\n",
       "      <td>{'credit_id': '52fe4284c3a36847f8024f55', 'dep...</td>\n",
       "      <td>862</td>\n",
       "      <td>1</td>\n",
       "    </tr>\n",
       "    <tr>\n",
       "      <th>3</th>\n",
       "      <td>{'credit_id': '52fe4284c3a36847f8024f5b', 'dep...</td>\n",
       "      <td>862</td>\n",
       "      <td>1</td>\n",
       "    </tr>\n",
       "    <tr>\n",
       "      <th>4</th>\n",
       "      <td>{'credit_id': '52fe4284c3a36847f8024f61', 'dep...</td>\n",
       "      <td>862</td>\n",
       "      <td>1</td>\n",
       "    </tr>\n",
       "  </tbody>\n",
       "</table>\n",
       "</div>"
      ],
      "text/plain": [
       "                                                dict  movie_id  \\\n",
       "0  {'credit_id': '52fe4284c3a36847f8024f49', 'dep...       862   \n",
       "1  {'credit_id': '52fe4284c3a36847f8024f4f', 'dep...       862   \n",
       "2  {'credit_id': '52fe4284c3a36847f8024f55', 'dep...       862   \n",
       "3  {'credit_id': '52fe4284c3a36847f8024f5b', 'dep...       862   \n",
       "4  {'credit_id': '52fe4284c3a36847f8024f61', 'dep...       862   \n",
       "\n",
       "   dictionary_format  \n",
       "0                  1  \n",
       "1                  1  \n",
       "2                  1  \n",
       "3                  1  \n",
       "4                  1  "
      ]
     },
     "execution_count": 9,
     "metadata": {},
     "output_type": "execute_result"
    }
   ],
   "source": [
    "Dictionary_Format(crew,crew.dict)\n",
    "crew.head()"
   ]
  },
  {
   "attachments": {},
   "cell_type": "markdown",
   "metadata": {},
   "source": [
    "Tambein veo los valores que no se pudieron convertir en diccionario"
   ]
  },
  {
   "cell_type": "code",
   "execution_count": 10,
   "metadata": {},
   "outputs": [
    {
     "data": {
      "text/html": [
       "<div>\n",
       "<style scoped>\n",
       "    .dataframe tbody tr th:only-of-type {\n",
       "        vertical-align: middle;\n",
       "    }\n",
       "\n",
       "    .dataframe tbody tr th {\n",
       "        vertical-align: top;\n",
       "    }\n",
       "\n",
       "    .dataframe thead th {\n",
       "        text-align: right;\n",
       "    }\n",
       "</style>\n",
       "<table border=\"1\" class=\"dataframe\">\n",
       "  <thead>\n",
       "    <tr style=\"text-align: right;\">\n",
       "      <th></th>\n",
       "      <th>dict</th>\n",
       "      <th>movie_id</th>\n",
       "      <th>dictionary_format</th>\n",
       "    </tr>\n",
       "  </thead>\n",
       "  <tbody>\n",
       "    <tr>\n",
       "      <th>83</th>\n",
       "      <td>{\"credit_id\": \"589214099251412dc5009d57\", \"dep...</td>\n",
       "      <td>862</td>\n",
       "      <td>0</td>\n",
       "    </tr>\n",
       "    <tr>\n",
       "      <th>200</th>\n",
       "      <td>{\"credit_id\": \"56be7b5cc3a36817f400542a\", \"dep...</td>\n",
       "      <td>949</td>\n",
       "      <td>0</td>\n",
       "    </tr>\n",
       "    <tr>\n",
       "      <th>337</th>\n",
       "      <td>{\"credit_id\": \"52fe44b79251416c7503e7f5\", \"dep...</td>\n",
       "      <td>12110</td>\n",
       "      <td>0</td>\n",
       "    </tr>\n",
       "    <tr>\n",
       "      <th>484</th>\n",
       "      <td>{\"credit_id\": \"59a17819c3a36847d4028802\", \"dep...</td>\n",
       "      <td>5</td>\n",
       "      <td>0</td>\n",
       "    </tr>\n",
       "    <tr>\n",
       "      <th>678</th>\n",
       "      <td>{\"credit_id\": \"58810deb9251413028000b42\", \"dep...</td>\n",
       "      <td>451</td>\n",
       "      <td>0</td>\n",
       "    </tr>\n",
       "    <tr>\n",
       "      <th>...</th>\n",
       "      <td>...</td>\n",
       "      <td>...</td>\n",
       "      <td>...</td>\n",
       "    </tr>\n",
       "    <tr>\n",
       "      <th>462615</th>\n",
       "      <td>{\"credit_id\": \"59ad5583925141070704449b\", \"dep...</td>\n",
       "      <td>339692</td>\n",
       "      <td>0</td>\n",
       "    </tr>\n",
       "    <tr>\n",
       "      <th>462669</th>\n",
       "      <td>{\"credit_id\": \"5943b7d6c3a3686c8101f7b6\", \"dep...</td>\n",
       "      <td>462108</td>\n",
       "      <td>0</td>\n",
       "    </tr>\n",
       "    <tr>\n",
       "      <th>462924</th>\n",
       "      <td>{\"credit_id\": \"590d7691c3a36864fc00b06e\", \"dep...</td>\n",
       "      <td>329005</td>\n",
       "      <td>0</td>\n",
       "    </tr>\n",
       "    <tr>\n",
       "      <th>463710</th>\n",
       "      <td>{\"credit_id\": \"52fe46489251416c9104f725\", \"dep...</td>\n",
       "      <td>37440</td>\n",
       "      <td>0</td>\n",
       "    </tr>\n",
       "    <tr>\n",
       "      <th>463711</th>\n",
       "      <td>{\"credit_id\": \"52fe46489251416c9104f731\", \"dep...</td>\n",
       "      <td>37440</td>\n",
       "      <td>0</td>\n",
       "    </tr>\n",
       "  </tbody>\n",
       "</table>\n",
       "<p>3077 rows × 3 columns</p>\n",
       "</div>"
      ],
      "text/plain": [
       "                                                     dict  movie_id  \\\n",
       "83      {\"credit_id\": \"589214099251412dc5009d57\", \"dep...       862   \n",
       "200     {\"credit_id\": \"56be7b5cc3a36817f400542a\", \"dep...       949   \n",
       "337     {\"credit_id\": \"52fe44b79251416c7503e7f5\", \"dep...     12110   \n",
       "484     {\"credit_id\": \"59a17819c3a36847d4028802\", \"dep...         5   \n",
       "678     {\"credit_id\": \"58810deb9251413028000b42\", \"dep...       451   \n",
       "...                                                   ...       ...   \n",
       "462615  {\"credit_id\": \"59ad5583925141070704449b\", \"dep...    339692   \n",
       "462669  {\"credit_id\": \"5943b7d6c3a3686c8101f7b6\", \"dep...    462108   \n",
       "462924  {\"credit_id\": \"590d7691c3a36864fc00b06e\", \"dep...    329005   \n",
       "463710  {\"credit_id\": \"52fe46489251416c9104f725\", \"dep...     37440   \n",
       "463711  {\"credit_id\": \"52fe46489251416c9104f731\", \"dep...     37440   \n",
       "\n",
       "        dictionary_format  \n",
       "83                      0  \n",
       "200                     0  \n",
       "337                     0  \n",
       "484                     0  \n",
       "678                     0  \n",
       "...                   ...  \n",
       "462615                  0  \n",
       "462669                  0  \n",
       "462924                  0  \n",
       "463710                  0  \n",
       "463711                  0  \n",
       "\n",
       "[3077 rows x 3 columns]"
      ]
     },
     "execution_count": 10,
     "metadata": {},
     "output_type": "execute_result"
    }
   ],
   "source": [
    "crew.loc[crew.dictionary_format == 0]"
   ]
  },
  {
   "attachments": {},
   "cell_type": "markdown",
   "metadata": {},
   "source": [
    "Ahora, voy a tratar de convertir los valores que no se pudieron convertir anteriormente por algun error de sintaxis"
   ]
  },
  {
   "attachments": {},
   "cell_type": "markdown",
   "metadata": {},
   "source": [
    "En este caso primero comienzo por 'crew' que tiene mucho menos valores que 'cast'"
   ]
  },
  {
   "cell_type": "code",
   "execution_count": 11,
   "metadata": {},
   "outputs": [],
   "source": [
    "crew_strings = crew.loc[crew.dictionary_format == 0]"
   ]
  },
  {
   "cell_type": "code",
   "execution_count": 12,
   "metadata": {},
   "outputs": [
    {
     "data": {
      "text/plain": [
       "3077"
      ]
     },
     "execution_count": 12,
     "metadata": {},
     "output_type": "execute_result"
    }
   ],
   "source": [
    "crew_strings.shape[0] # Cantidad de valores que siguen siendo str"
   ]
  },
  {
   "cell_type": "code",
   "execution_count": 13,
   "metadata": {},
   "outputs": [
    {
     "data": {
      "text/html": [
       "<div>\n",
       "<style scoped>\n",
       "    .dataframe tbody tr th:only-of-type {\n",
       "        vertical-align: middle;\n",
       "    }\n",
       "\n",
       "    .dataframe tbody tr th {\n",
       "        vertical-align: top;\n",
       "    }\n",
       "\n",
       "    .dataframe thead th {\n",
       "        text-align: right;\n",
       "    }\n",
       "</style>\n",
       "<table border=\"1\" class=\"dataframe\">\n",
       "  <thead>\n",
       "    <tr style=\"text-align: right;\">\n",
       "      <th></th>\n",
       "      <th>dict</th>\n",
       "      <th>movie_id</th>\n",
       "      <th>dictionary_format</th>\n",
       "    </tr>\n",
       "  </thead>\n",
       "  <tbody>\n",
       "    <tr>\n",
       "      <th>83</th>\n",
       "      <td>{\"credit_id\": \"589214099251412dc5009d57\", \"dep...</td>\n",
       "      <td>862</td>\n",
       "      <td>0</td>\n",
       "    </tr>\n",
       "    <tr>\n",
       "      <th>200</th>\n",
       "      <td>{\"credit_id\": \"56be7b5cc3a36817f400542a\", \"dep...</td>\n",
       "      <td>949</td>\n",
       "      <td>0</td>\n",
       "    </tr>\n",
       "    <tr>\n",
       "      <th>337</th>\n",
       "      <td>{\"credit_id\": \"52fe44b79251416c7503e7f5\", \"dep...</td>\n",
       "      <td>12110</td>\n",
       "      <td>0</td>\n",
       "    </tr>\n",
       "    <tr>\n",
       "      <th>484</th>\n",
       "      <td>{\"credit_id\": \"59a17819c3a36847d4028802\", \"dep...</td>\n",
       "      <td>5</td>\n",
       "      <td>0</td>\n",
       "    </tr>\n",
       "    <tr>\n",
       "      <th>678</th>\n",
       "      <td>{\"credit_id\": \"58810deb9251413028000b42\", \"dep...</td>\n",
       "      <td>451</td>\n",
       "      <td>0</td>\n",
       "    </tr>\n",
       "  </tbody>\n",
       "</table>\n",
       "</div>"
      ],
      "text/plain": [
       "                                                  dict  movie_id  \\\n",
       "83   {\"credit_id\": \"589214099251412dc5009d57\", \"dep...       862   \n",
       "200  {\"credit_id\": \"56be7b5cc3a36817f400542a\", \"dep...       949   \n",
       "337  {\"credit_id\": \"52fe44b79251416c7503e7f5\", \"dep...     12110   \n",
       "484  {\"credit_id\": \"59a17819c3a36847d4028802\", \"dep...         5   \n",
       "678  {\"credit_id\": \"58810deb9251413028000b42\", \"dep...       451   \n",
       "\n",
       "     dictionary_format  \n",
       "83                   0  \n",
       "200                  0  \n",
       "337                  0  \n",
       "484                  0  \n",
       "678                  0  "
      ]
     },
     "execution_count": 13,
     "metadata": {},
     "output_type": "execute_result"
    }
   ],
   "source": [
    "crew_strings.head()"
   ]
  },
  {
   "attachments": {},
   "cell_type": "markdown",
   "metadata": {},
   "source": [
    "Para este proceso, tambien creo una función"
   ]
  },
  {
   "cell_type": "code",
   "execution_count": null,
   "metadata": {},
   "outputs": [],
   "source": [
    "def To_Dictionary(main_df, temporary_df, column): \n",
    "    # Recibe el df principal (cast, crew), los dfs temporales (crew_strings, cast_strings) y la columna a la que se le realizan los cambios\n",
    "    \n",
    "    # Obtengo la columna especifica del dataframe temporal\n",
    "    column = temporary_df[column]\n",
    "    \n",
    "    # Itero sobre cada valor de la columna y su indice\n",
    "    for index, row in enumerate(column):\n",
    "        max_iter = 10 # Esta variable es para definir un limite de intentos para cada valor.\n",
    "        # Para que no se cree un loop infinito y que se caiga el proceso\n",
    "        \n",
    "        # Acá realizo un loop while con la condicion que se ejecute mientras 'max_iter' sea mayor a cero\n",
    "        while max_iter > 0:\n",
    "            try:\n",
    "                # Intenta cargar el valor de la fila como un diccionario nuevamente utilizando JSON.loads()\n",
    "                value = json.loads(row)\n",
    "                \n",
    "                # Si se pudo transformar correctamente, se actualiza el valor en el diccionario principal\n",
    "                # y ademas se actualiza el valor de la columna 'dictionary_format' a 1 para especificar que ahora es un diccionario\n",
    "                main_df.at[temporary_df.index[index], 'dict'] = value\n",
    "                main_df.at[temporary_df.index[index], 'dictionary_format'] = 1\n",
    "                \n",
    "                # A la hora de ejecutar la función, me guiaba del siguiente print para ver si el proceso se estaba ejecutando bien\n",
    "                # o si el loop se habia trabado o caido\n",
    "                #>>> print('Success',index,value)\n",
    "                \n",
    "                break  # Luego de que lo anterior se haya realizado, rompo el loop para continuar con el proximo valor\n",
    "            \n",
    "            except json.JSONDecodeError as e:\n",
    "                # En caso de un error, busco en que posición se produjo el error gracias al metodo .pos\n",
    "                # y le quito el caracter de la posicion del error a la fila\n",
    "                pos = e.pos - 1\n",
    "                row = row[:pos] + row[pos+1:]\n",
    "                \n",
    "                # Tambien para ir tanteando si funcionaba la parte del 'except', hice lo mismo que arriba\n",
    "                #>>> print('Fail',index,row)\n",
    "                \n",
    "                max_iter -= 1 # Le elimino un intento a la variable de 'max_iter'\n",
    "                continue # Este continue hace que se reproduzca de nuevo el while en el mismo elemento pero con un intento menos"
   ]
  },
  {
   "attachments": {},
   "cell_type": "markdown",
   "metadata": {},
   "source": [
    "Aplico la funcion para el dataframe de 'crew'"
   ]
  },
  {
   "cell_type": "code",
   "execution_count": null,
   "metadata": {},
   "outputs": [],
   "source": [
    "To_Dictionary(crew,crew_strings, 'dict') "
   ]
  },
  {
   "cell_type": "code",
   "execution_count": 16,
   "metadata": {},
   "outputs": [
    {
     "data": {
      "text/html": [
       "<div>\n",
       "<style scoped>\n",
       "    .dataframe tbody tr th:only-of-type {\n",
       "        vertical-align: middle;\n",
       "    }\n",
       "\n",
       "    .dataframe tbody tr th {\n",
       "        vertical-align: top;\n",
       "    }\n",
       "\n",
       "    .dataframe thead th {\n",
       "        text-align: right;\n",
       "    }\n",
       "</style>\n",
       "<table border=\"1\" class=\"dataframe\">\n",
       "  <thead>\n",
       "    <tr style=\"text-align: right;\">\n",
       "      <th></th>\n",
       "      <th>dict</th>\n",
       "      <th>movie_id</th>\n",
       "      <th>dictionary_format</th>\n",
       "    </tr>\n",
       "  </thead>\n",
       "  <tbody>\n",
       "    <tr>\n",
       "      <th>0</th>\n",
       "      <td>{'credit_id': '52fe4284c3a36847f8024f49', 'dep...</td>\n",
       "      <td>862</td>\n",
       "      <td>1</td>\n",
       "    </tr>\n",
       "    <tr>\n",
       "      <th>1</th>\n",
       "      <td>{'credit_id': '52fe4284c3a36847f8024f4f', 'dep...</td>\n",
       "      <td>862</td>\n",
       "      <td>1</td>\n",
       "    </tr>\n",
       "    <tr>\n",
       "      <th>2</th>\n",
       "      <td>{'credit_id': '52fe4284c3a36847f8024f55', 'dep...</td>\n",
       "      <td>862</td>\n",
       "      <td>1</td>\n",
       "    </tr>\n",
       "    <tr>\n",
       "      <th>3</th>\n",
       "      <td>{'credit_id': '52fe4284c3a36847f8024f5b', 'dep...</td>\n",
       "      <td>862</td>\n",
       "      <td>1</td>\n",
       "    </tr>\n",
       "    <tr>\n",
       "      <th>4</th>\n",
       "      <td>{'credit_id': '52fe4284c3a36847f8024f61', 'dep...</td>\n",
       "      <td>862</td>\n",
       "      <td>1</td>\n",
       "    </tr>\n",
       "    <tr>\n",
       "      <th>5</th>\n",
       "      <td>{'credit_id': '52fe4284c3a36847f8024f67', 'dep...</td>\n",
       "      <td>862</td>\n",
       "      <td>1</td>\n",
       "    </tr>\n",
       "    <tr>\n",
       "      <th>6</th>\n",
       "      <td>{'credit_id': '52fe4284c3a36847f8024f6d', 'dep...</td>\n",
       "      <td>862</td>\n",
       "      <td>1</td>\n",
       "    </tr>\n",
       "    <tr>\n",
       "      <th>7</th>\n",
       "      <td>{'credit_id': '52fe4284c3a36847f8024f73', 'dep...</td>\n",
       "      <td>862</td>\n",
       "      <td>1</td>\n",
       "    </tr>\n",
       "    <tr>\n",
       "      <th>8</th>\n",
       "      <td>{'credit_id': '52fe4284c3a36847f8024f79', 'dep...</td>\n",
       "      <td>862</td>\n",
       "      <td>1</td>\n",
       "    </tr>\n",
       "    <tr>\n",
       "      <th>9</th>\n",
       "      <td>{'credit_id': '52fe4284c3a36847f8024f8b', 'dep...</td>\n",
       "      <td>862</td>\n",
       "      <td>1</td>\n",
       "    </tr>\n",
       "  </tbody>\n",
       "</table>\n",
       "</div>"
      ],
      "text/plain": [
       "                                                dict  movie_id  \\\n",
       "0  {'credit_id': '52fe4284c3a36847f8024f49', 'dep...       862   \n",
       "1  {'credit_id': '52fe4284c3a36847f8024f4f', 'dep...       862   \n",
       "2  {'credit_id': '52fe4284c3a36847f8024f55', 'dep...       862   \n",
       "3  {'credit_id': '52fe4284c3a36847f8024f5b', 'dep...       862   \n",
       "4  {'credit_id': '52fe4284c3a36847f8024f61', 'dep...       862   \n",
       "5  {'credit_id': '52fe4284c3a36847f8024f67', 'dep...       862   \n",
       "6  {'credit_id': '52fe4284c3a36847f8024f6d', 'dep...       862   \n",
       "7  {'credit_id': '52fe4284c3a36847f8024f73', 'dep...       862   \n",
       "8  {'credit_id': '52fe4284c3a36847f8024f79', 'dep...       862   \n",
       "9  {'credit_id': '52fe4284c3a36847f8024f8b', 'dep...       862   \n",
       "\n",
       "   dictionary_format  \n",
       "0                  1  \n",
       "1                  1  \n",
       "2                  1  \n",
       "3                  1  \n",
       "4                  1  \n",
       "5                  1  \n",
       "6                  1  \n",
       "7                  1  \n",
       "8                  1  \n",
       "9                  1  "
      ]
     },
     "execution_count": 16,
     "metadata": {},
     "output_type": "execute_result"
    }
   ],
   "source": [
    "crew.head(10)"
   ]
  },
  {
   "attachments": {},
   "cell_type": "markdown",
   "metadata": {},
   "source": [
    "Si ahora accedo a algun valor random, veo que efectivamente es un diccionario con sus respectivas claves y valores. Por lo que la funcion logro convertir efectivamente todos los valores a diccionarios"
   ]
  },
  {
   "cell_type": "code",
   "execution_count": 17,
   "metadata": {},
   "outputs": [
    {
     "data": {
      "text/plain": [
       "{'credit_id': '52fe4284c3a36847f8024f49',\n",
       " 'department': 'Directing',\n",
       " 'gender': 2,\n",
       " 'id': 7879,\n",
       " 'job': 'Director',\n",
       " 'name': 'John Lasseter',\n",
       " 'profile_path': '/7EdqiNbr4FRjIhKHyPPdFfEEEFG.jpg'}"
      ]
     },
     "execution_count": 17,
     "metadata": {},
     "output_type": "execute_result"
    }
   ],
   "source": [
    "crew.dict.head(10)[0]"
   ]
  },
  {
   "attachments": {},
   "cell_type": "markdown",
   "metadata": {},
   "source": [
    "Ahora ya no hay ninguna fila que tenga 0 en la columna 'dictionary_format', lo que quiere decir que ya no hay strings si no solamente diccionarios"
   ]
  },
  {
   "cell_type": "code",
   "execution_count": 18,
   "metadata": {},
   "outputs": [
    {
     "data": {
      "text/plain": [
       "dict                 0\n",
       "movie_id             0\n",
       "dictionary_format    0\n",
       "dtype: int64"
      ]
     },
     "execution_count": 18,
     "metadata": {},
     "output_type": "execute_result"
    }
   ],
   "source": [
    "crew.loc[crew.dictionary_format == 0].count()"
   ]
  },
  {
   "cell_type": "code",
   "execution_count": 19,
   "metadata": {},
   "outputs": [
    {
     "data": {
      "text/html": [
       "<div>\n",
       "<style scoped>\n",
       "    .dataframe tbody tr th:only-of-type {\n",
       "        vertical-align: middle;\n",
       "    }\n",
       "\n",
       "    .dataframe tbody tr th {\n",
       "        vertical-align: top;\n",
       "    }\n",
       "\n",
       "    .dataframe thead th {\n",
       "        text-align: right;\n",
       "    }\n",
       "</style>\n",
       "<table border=\"1\" class=\"dataframe\">\n",
       "  <thead>\n",
       "    <tr style=\"text-align: right;\">\n",
       "      <th></th>\n",
       "      <th>dict</th>\n",
       "      <th>movie_id</th>\n",
       "      <th>dictionary_format</th>\n",
       "    </tr>\n",
       "  </thead>\n",
       "  <tbody>\n",
       "  </tbody>\n",
       "</table>\n",
       "</div>"
      ],
      "text/plain": [
       "Empty DataFrame\n",
       "Columns: [dict, movie_id, dictionary_format]\n",
       "Index: []"
      ]
     },
     "execution_count": 19,
     "metadata": {},
     "output_type": "execute_result"
    }
   ],
   "source": [
    "crew.loc[crew.dictionary_format == 0]"
   ]
  },
  {
   "attachments": {},
   "cell_type": "markdown",
   "metadata": {},
   "source": [
    "##### Realizo el mismo procedimiento para el dataframe de 'cast'"
   ]
  },
  {
   "attachments": {},
   "cell_type": "markdown",
   "metadata": {},
   "source": [
    "Primero quiero eliminar las barras invertidas ('\\\\') para evitar errores"
   ]
  },
  {
   "cell_type": "code",
   "execution_count": 21,
   "metadata": {},
   "outputs": [],
   "source": [
    "cast_strings['dict'] = cast_strings['dict'].apply(lambda x: x.replace('\\\\', ''))"
   ]
  },
  {
   "cell_type": "code",
   "execution_count": 20,
   "metadata": {},
   "outputs": [
    {
     "data": {
      "text/plain": [
       "28488"
      ]
     },
     "execution_count": 20,
     "metadata": {},
     "output_type": "execute_result"
    }
   ],
   "source": [
    "cast_strings = cast.loc[cast.dictionary_format == 0]\n",
    "cast_strings.shape[0] # Todos los valores que no se pudieron convertir anteriormente a diccionario"
   ]
  },
  {
   "cell_type": "code",
   "execution_count": 22,
   "metadata": {},
   "outputs": [
    {
     "data": {
      "text/html": [
       "<div>\n",
       "<style scoped>\n",
       "    .dataframe tbody tr th:only-of-type {\n",
       "        vertical-align: middle;\n",
       "    }\n",
       "\n",
       "    .dataframe tbody tr th {\n",
       "        vertical-align: top;\n",
       "    }\n",
       "\n",
       "    .dataframe thead th {\n",
       "        text-align: right;\n",
       "    }\n",
       "</style>\n",
       "<table border=\"1\" class=\"dataframe\">\n",
       "  <thead>\n",
       "    <tr style=\"text-align: right;\">\n",
       "      <th></th>\n",
       "      <th>dict</th>\n",
       "      <th>movie_id</th>\n",
       "      <th>dictionary_format</th>\n",
       "    </tr>\n",
       "  </thead>\n",
       "  <tbody>\n",
       "    <tr>\n",
       "      <th>0</th>\n",
       "      <td>{'cast_id': 14, 'character': 'Woody (voice)', ...</td>\n",
       "      <td>862</td>\n",
       "      <td>1</td>\n",
       "    </tr>\n",
       "    <tr>\n",
       "      <th>1</th>\n",
       "      <td>{'cast_id': 15, 'character': 'Buzz Lightyear (...</td>\n",
       "      <td>862</td>\n",
       "      <td>1</td>\n",
       "    </tr>\n",
       "    <tr>\n",
       "      <th>2</th>\n",
       "      <td>{'cast_id': 16, 'character': 'Mr. Potato Head ...</td>\n",
       "      <td>862</td>\n",
       "      <td>1</td>\n",
       "    </tr>\n",
       "    <tr>\n",
       "      <th>3</th>\n",
       "      <td>{'cast_id': 17, 'character': 'Slinky Dog (voic...</td>\n",
       "      <td>862</td>\n",
       "      <td>1</td>\n",
       "    </tr>\n",
       "    <tr>\n",
       "      <th>4</th>\n",
       "      <td>{'cast_id': 18, 'character': 'Rex (voice)', 'c...</td>\n",
       "      <td>862</td>\n",
       "      <td>1</td>\n",
       "    </tr>\n",
       "  </tbody>\n",
       "</table>\n",
       "</div>"
      ],
      "text/plain": [
       "                                                dict  movie_id  \\\n",
       "0  {'cast_id': 14, 'character': 'Woody (voice)', ...       862   \n",
       "1  {'cast_id': 15, 'character': 'Buzz Lightyear (...       862   \n",
       "2  {'cast_id': 16, 'character': 'Mr. Potato Head ...       862   \n",
       "3  {'cast_id': 17, 'character': 'Slinky Dog (voic...       862   \n",
       "4  {'cast_id': 18, 'character': 'Rex (voice)', 'c...       862   \n",
       "\n",
       "   dictionary_format  \n",
       "0                  1  \n",
       "1                  1  \n",
       "2                  1  \n",
       "3                  1  \n",
       "4                  1  "
      ]
     },
     "execution_count": 22,
     "metadata": {},
     "output_type": "execute_result"
    }
   ],
   "source": [
    "cast.head()"
   ]
  },
  {
   "cell_type": "code",
   "execution_count": null,
   "metadata": {},
   "outputs": [],
   "source": [
    "To_Dictionary(cast, cast_strings,'dict')"
   ]
  },
  {
   "attachments": {},
   "cell_type": "markdown",
   "metadata": {},
   "source": [
    "Al igual que con el dataframe de 'crew', los valores de 'cast' ahora son todos diccionarios"
   ]
  },
  {
   "cell_type": "code",
   "execution_count": 25,
   "metadata": {},
   "outputs": [
    {
     "data": {
      "text/plain": [
       "dict                 0\n",
       "movie_id             0\n",
       "dictionary_format    0\n",
       "dtype: int64"
      ]
     },
     "execution_count": 25,
     "metadata": {},
     "output_type": "execute_result"
    }
   ],
   "source": [
    "cast.loc[cast.dictionary_format == 0].count()"
   ]
  },
  {
   "cell_type": "code",
   "execution_count": 26,
   "metadata": {},
   "outputs": [
    {
     "data": {
      "text/plain": [
       "dict                 0\n",
       "movie_id             0\n",
       "dictionary_format    0\n",
       "dtype: int64"
      ]
     },
     "execution_count": 26,
     "metadata": {},
     "output_type": "execute_result"
    }
   ],
   "source": [
    "cast_strings = cast.loc[cast.dictionary_format == 0]\n",
    "cast_strings.count()"
   ]
  },
  {
   "attachments": {},
   "cell_type": "markdown",
   "metadata": {},
   "source": [
    "#### Demostración de los valores de los dataframes actuales"
   ]
  },
  {
   "cell_type": "code",
   "execution_count": 28,
   "metadata": {},
   "outputs": [
    {
     "data": {
      "text/html": [
       "<div>\n",
       "<style scoped>\n",
       "    .dataframe tbody tr th:only-of-type {\n",
       "        vertical-align: middle;\n",
       "    }\n",
       "\n",
       "    .dataframe tbody tr th {\n",
       "        vertical-align: top;\n",
       "    }\n",
       "\n",
       "    .dataframe thead th {\n",
       "        text-align: right;\n",
       "    }\n",
       "</style>\n",
       "<table border=\"1\" class=\"dataframe\">\n",
       "  <thead>\n",
       "    <tr style=\"text-align: right;\">\n",
       "      <th></th>\n",
       "      <th>dict</th>\n",
       "      <th>movie_id</th>\n",
       "      <th>dictionary_format</th>\n",
       "    </tr>\n",
       "  </thead>\n",
       "  <tbody>\n",
       "    <tr>\n",
       "      <th>0</th>\n",
       "      <td>{'cast_id': 14, 'character': 'Woody (voice)', ...</td>\n",
       "      <td>862</td>\n",
       "      <td>1</td>\n",
       "    </tr>\n",
       "    <tr>\n",
       "      <th>1</th>\n",
       "      <td>{'cast_id': 15, 'character': 'Buzz Lightyear (...</td>\n",
       "      <td>862</td>\n",
       "      <td>1</td>\n",
       "    </tr>\n",
       "    <tr>\n",
       "      <th>2</th>\n",
       "      <td>{'cast_id': 16, 'character': 'Mr. Potato Head ...</td>\n",
       "      <td>862</td>\n",
       "      <td>1</td>\n",
       "    </tr>\n",
       "    <tr>\n",
       "      <th>3</th>\n",
       "      <td>{'cast_id': 17, 'character': 'Slinky Dog (voic...</td>\n",
       "      <td>862</td>\n",
       "      <td>1</td>\n",
       "    </tr>\n",
       "    <tr>\n",
       "      <th>4</th>\n",
       "      <td>{'cast_id': 18, 'character': 'Rex (voice)', 'c...</td>\n",
       "      <td>862</td>\n",
       "      <td>1</td>\n",
       "    </tr>\n",
       "  </tbody>\n",
       "</table>\n",
       "</div>"
      ],
      "text/plain": [
       "                                                dict  movie_id  \\\n",
       "0  {'cast_id': 14, 'character': 'Woody (voice)', ...       862   \n",
       "1  {'cast_id': 15, 'character': 'Buzz Lightyear (...       862   \n",
       "2  {'cast_id': 16, 'character': 'Mr. Potato Head ...       862   \n",
       "3  {'cast_id': 17, 'character': 'Slinky Dog (voic...       862   \n",
       "4  {'cast_id': 18, 'character': 'Rex (voice)', 'c...       862   \n",
       "\n",
       "   dictionary_format  \n",
       "0                  1  \n",
       "1                  1  \n",
       "2                  1  \n",
       "3                  1  \n",
       "4                  1  "
      ]
     },
     "execution_count": 28,
     "metadata": {},
     "output_type": "execute_result"
    }
   ],
   "source": [
    "cast.head()"
   ]
  },
  {
   "cell_type": "code",
   "execution_count": 29,
   "metadata": {},
   "outputs": [
    {
     "data": {
      "text/html": [
       "<div>\n",
       "<style scoped>\n",
       "    .dataframe tbody tr th:only-of-type {\n",
       "        vertical-align: middle;\n",
       "    }\n",
       "\n",
       "    .dataframe tbody tr th {\n",
       "        vertical-align: top;\n",
       "    }\n",
       "\n",
       "    .dataframe thead th {\n",
       "        text-align: right;\n",
       "    }\n",
       "</style>\n",
       "<table border=\"1\" class=\"dataframe\">\n",
       "  <thead>\n",
       "    <tr style=\"text-align: right;\">\n",
       "      <th></th>\n",
       "      <th>dict</th>\n",
       "      <th>movie_id</th>\n",
       "      <th>dictionary_format</th>\n",
       "    </tr>\n",
       "  </thead>\n",
       "  <tbody>\n",
       "    <tr>\n",
       "      <th>0</th>\n",
       "      <td>{'credit_id': '52fe4284c3a36847f8024f49', 'dep...</td>\n",
       "      <td>862</td>\n",
       "      <td>1</td>\n",
       "    </tr>\n",
       "    <tr>\n",
       "      <th>1</th>\n",
       "      <td>{'credit_id': '52fe4284c3a36847f8024f4f', 'dep...</td>\n",
       "      <td>862</td>\n",
       "      <td>1</td>\n",
       "    </tr>\n",
       "    <tr>\n",
       "      <th>2</th>\n",
       "      <td>{'credit_id': '52fe4284c3a36847f8024f55', 'dep...</td>\n",
       "      <td>862</td>\n",
       "      <td>1</td>\n",
       "    </tr>\n",
       "    <tr>\n",
       "      <th>3</th>\n",
       "      <td>{'credit_id': '52fe4284c3a36847f8024f5b', 'dep...</td>\n",
       "      <td>862</td>\n",
       "      <td>1</td>\n",
       "    </tr>\n",
       "    <tr>\n",
       "      <th>4</th>\n",
       "      <td>{'credit_id': '52fe4284c3a36847f8024f61', 'dep...</td>\n",
       "      <td>862</td>\n",
       "      <td>1</td>\n",
       "    </tr>\n",
       "  </tbody>\n",
       "</table>\n",
       "</div>"
      ],
      "text/plain": [
       "                                                dict  movie_id  \\\n",
       "0  {'credit_id': '52fe4284c3a36847f8024f49', 'dep...       862   \n",
       "1  {'credit_id': '52fe4284c3a36847f8024f4f', 'dep...       862   \n",
       "2  {'credit_id': '52fe4284c3a36847f8024f55', 'dep...       862   \n",
       "3  {'credit_id': '52fe4284c3a36847f8024f5b', 'dep...       862   \n",
       "4  {'credit_id': '52fe4284c3a36847f8024f61', 'dep...       862   \n",
       "\n",
       "   dictionary_format  \n",
       "0                  1  \n",
       "1                  1  \n",
       "2                  1  \n",
       "3                  1  \n",
       "4                  1  "
      ]
     },
     "execution_count": 29,
     "metadata": {},
     "output_type": "execute_result"
    }
   ],
   "source": [
    "crew.head()"
   ]
  },
  {
   "attachments": {},
   "cell_type": "markdown",
   "metadata": {},
   "source": [
    "Exporto los dataframes como archivos csv para que cuando quiera volver a correr todo el notebook no se hagan todos los procesos de nuevo. Simplemente cargo con pandas los csv y listo"
   ]
  },
  {
   "cell_type": "code",
   "execution_count": 30,
   "metadata": {},
   "outputs": [],
   "source": [
    "cast.to_csv('../preprocessing_data/cast.csv',sep='|')\n",
    "crew.to_csv('../preprocessing_data/crew.csv',sep='|')"
   ]
  },
  {
   "attachments": {},
   "cell_type": "markdown",
   "metadata": {},
   "source": [
    "---"
   ]
  },
  {
   "attachments": {},
   "cell_type": "markdown",
   "metadata": {},
   "source": [
    "### Parte 2  |  Limpieza y transformación de los nuevos dataframes\n",
    "\n",
    "En esta segunda parte del proceso de ETL, lo que haré es obtener información de cada diccionario de los dataframes 'cast' y 'crew' para poder conformar un dataframe unico con toda la información organizada.\n",
    "\n",
    "Esto es posible ya que ahora, gracias a que los elementos tienen un formato de diccionario, se puede acceder facilmente a los valores y claves de los mismos"
   ]
  },
  {
   "cell_type": "code",
   "execution_count": 31,
   "metadata": {},
   "outputs": [
    {
     "data": {
      "text/html": [
       "<div>\n",
       "<style scoped>\n",
       "    .dataframe tbody tr th:only-of-type {\n",
       "        vertical-align: middle;\n",
       "    }\n",
       "\n",
       "    .dataframe tbody tr th {\n",
       "        vertical-align: top;\n",
       "    }\n",
       "\n",
       "    .dataframe thead th {\n",
       "        text-align: right;\n",
       "    }\n",
       "</style>\n",
       "<table border=\"1\" class=\"dataframe\">\n",
       "  <thead>\n",
       "    <tr style=\"text-align: right;\">\n",
       "      <th></th>\n",
       "      <th>dict</th>\n",
       "      <th>movie_id</th>\n",
       "    </tr>\n",
       "  </thead>\n",
       "  <tbody>\n",
       "    <tr>\n",
       "      <th>0</th>\n",
       "      <td>{'cast_id': 14, 'character': 'Woody (voice)', ...</td>\n",
       "      <td>862</td>\n",
       "    </tr>\n",
       "    <tr>\n",
       "      <th>1</th>\n",
       "      <td>{'cast_id': 15, 'character': 'Buzz Lightyear (...</td>\n",
       "      <td>862</td>\n",
       "    </tr>\n",
       "    <tr>\n",
       "      <th>2</th>\n",
       "      <td>{'cast_id': 16, 'character': 'Mr. Potato Head ...</td>\n",
       "      <td>862</td>\n",
       "    </tr>\n",
       "  </tbody>\n",
       "</table>\n",
       "</div>"
      ],
      "text/plain": [
       "                                                dict  movie_id\n",
       "0  {'cast_id': 14, 'character': 'Woody (voice)', ...       862\n",
       "1  {'cast_id': 15, 'character': 'Buzz Lightyear (...       862\n",
       "2  {'cast_id': 16, 'character': 'Mr. Potato Head ...       862"
      ]
     },
     "execution_count": 31,
     "metadata": {},
     "output_type": "execute_result"
    }
   ],
   "source": [
    "cast = pd.read_csv('../preprocessing_data/cast.csv',sep='|')\n",
    "# Como olvide poner index=False al momento de guardar los csv's, cuando los cargo, se incluye la columna Unnamed: 0 con los indices\n",
    "# Elimino 'dictionary_format' ya que anteriormente me asegure de que todos eran diccionarios y tambien elimino la columna Unnamed: 0\n",
    "cast = cast.drop(columns={'Unnamed: 0','dictionary_format'}) \n",
    "cast.head(3)"
   ]
  },
  {
   "cell_type": "code",
   "execution_count": 32,
   "metadata": {},
   "outputs": [
    {
     "data": {
      "text/html": [
       "<div>\n",
       "<style scoped>\n",
       "    .dataframe tbody tr th:only-of-type {\n",
       "        vertical-align: middle;\n",
       "    }\n",
       "\n",
       "    .dataframe tbody tr th {\n",
       "        vertical-align: top;\n",
       "    }\n",
       "\n",
       "    .dataframe thead th {\n",
       "        text-align: right;\n",
       "    }\n",
       "</style>\n",
       "<table border=\"1\" class=\"dataframe\">\n",
       "  <thead>\n",
       "    <tr style=\"text-align: right;\">\n",
       "      <th></th>\n",
       "      <th>dict</th>\n",
       "      <th>movie_id</th>\n",
       "    </tr>\n",
       "  </thead>\n",
       "  <tbody>\n",
       "    <tr>\n",
       "      <th>0</th>\n",
       "      <td>{'credit_id': '52fe4284c3a36847f8024f49', 'dep...</td>\n",
       "      <td>862</td>\n",
       "    </tr>\n",
       "    <tr>\n",
       "      <th>1</th>\n",
       "      <td>{'credit_id': '52fe4284c3a36847f8024f4f', 'dep...</td>\n",
       "      <td>862</td>\n",
       "    </tr>\n",
       "    <tr>\n",
       "      <th>2</th>\n",
       "      <td>{'credit_id': '52fe4284c3a36847f8024f55', 'dep...</td>\n",
       "      <td>862</td>\n",
       "    </tr>\n",
       "  </tbody>\n",
       "</table>\n",
       "</div>"
      ],
      "text/plain": [
       "                                                dict  movie_id\n",
       "0  {'credit_id': '52fe4284c3a36847f8024f49', 'dep...       862\n",
       "1  {'credit_id': '52fe4284c3a36847f8024f4f', 'dep...       862\n",
       "2  {'credit_id': '52fe4284c3a36847f8024f55', 'dep...       862"
      ]
     },
     "execution_count": 32,
     "metadata": {},
     "output_type": "execute_result"
    }
   ],
   "source": [
    "crew = pd.read_csv('../preprocessing_data/crew.csv',sep='|')\n",
    "crew = crew.drop(columns={'Unnamed: 0','dictionary_format'})\n",
    "crew.head(3)"
   ]
  },
  {
   "attachments": {},
   "cell_type": "markdown",
   "metadata": {},
   "source": [
    "#### Elimino las filas duplicadas de los dataframes"
   ]
  },
  {
   "cell_type": "code",
   "execution_count": 33,
   "metadata": {},
   "outputs": [
    {
     "name": "stdout",
     "output_type": "stream",
     "text": [
      "Cast antes 562474\n",
      "Cast despues 562044\n"
     ]
    }
   ],
   "source": [
    "print('Cast antes',cast.shape[0])\n",
    "cast = cast.drop_duplicates(subset='dict')\n",
    "print('Cast despues',cast.shape[0])"
   ]
  },
  {
   "cell_type": "code",
   "execution_count": 34,
   "metadata": {},
   "outputs": [
    {
     "name": "stdout",
     "output_type": "stream",
     "text": [
      "Crew antes 464314\n",
      "Crew despues 463836\n"
     ]
    }
   ],
   "source": [
    "print('Crew antes',crew.shape[0])\n",
    "crew = crew.drop_duplicates(subset='dict')\n",
    "print('Crew despues',crew.shape[0])"
   ]
  },
  {
   "attachments": {},
   "cell_type": "markdown",
   "metadata": {},
   "source": [
    "Para poder extraer la información de cada diccionario, primero debo convertirlos a dict con json.loads() ya que al momento de cargar los nuevos csv's vienen por default como 'dtype=object'"
   ]
  },
  {
   "cell_type": "code",
   "execution_count": 35,
   "metadata": {},
   "outputs": [],
   "source": [
    "# Reemplazo las comillas simples por comillas dobles porque json.loads() lo requiere\n",
    "cast.dict = cast.dict.apply(lambda x: json.loads(x.replace(\"'\",'\"')))\n",
    "crew.dict = crew.dict.apply(lambda x: json.loads(x.replace(\"'\",'\"')))"
   ]
  },
  {
   "attachments": {},
   "cell_type": "markdown",
   "metadata": {},
   "source": [
    "Hago una lista con todas las claves que tienen los diccionarios menos 'profile_path' que no me va a ser util"
   ]
  },
  {
   "attachments": {},
   "cell_type": "markdown",
   "metadata": {},
   "source": [
    "Como luego expandiré el dataframe, es decir que crearé nuevas columnas, veo cuales son las columnas que tienen en comun los diccionarios de cada dataframe."
   ]
  },
  {
   "cell_type": "code",
   "execution_count": 36,
   "metadata": {},
   "outputs": [
    {
     "name": "stdout",
     "output_type": "stream",
     "text": [
      "Cast      dict_keys(['cast_id', 'character', 'credit_id', 'gender', 'id', 'name', 'order', 'profile_path'])\n",
      "Crew      dict_keys(['credit_id', 'department', 'gender', 'id', 'job', 'name', 'profile_path'])\n"
     ]
    }
   ],
   "source": [
    "print('Cast     ',cast.dict[0].keys())\n",
    "print('Crew     ',crew.dict[0].keys())"
   ]
  },
  {
   "attachments": {},
   "cell_type": "markdown",
   "metadata": {},
   "source": [
    "    Proximas columnas de los dataframes"
   ]
  },
  {
   "cell_type": "code",
   "execution_count": 37,
   "metadata": {},
   "outputs": [],
   "source": [
    "new_columns_cast = ['cast_id', 'character', 'credit_id', 'gender', 'id', 'name', 'order', 'profile_path']\n",
    "new_columns_crew = ['credit_id', 'department', 'gender', 'id', 'job', 'name', 'profile_path']"
   ]
  },
  {
   "attachments": {},
   "cell_type": "markdown",
   "metadata": {},
   "source": [
    "Creo las nuevas columnas para cada dataframe"
   ]
  },
  {
   "cell_type": "code",
   "execution_count": 38,
   "metadata": {},
   "outputs": [],
   "source": [
    "column_fails_cast = [] # Para las claves que no se pudieron crear como columna\n",
    "# Itero las lista que cree arriba\n",
    "for k in new_columns_cast:\n",
    "    try: # Intenta crear la nueva columna en 'cast' y accede a la clave en el diccionario para obtener el valor y asi ponerlo en la nueva columna\n",
    "        cast[k] = cast.dict.apply(lambda x: x[k])\n",
    "    except KeyError: # Si falla, que lo agregue a la lista de 'columns_fails_cast'\n",
    "        column_fails_cast.append(k)\n",
    "\n",
    "\n",
    "# Mismo proceso para 'crew'\n",
    "column_fails_crew = []\n",
    "for k in new_columns_crew:\n",
    "    try:\n",
    "        crew[k] = crew.dict.apply(lambda x: x[k])\n",
    "    except KeyError:\n",
    "        column_fails_crew.append(k)"
   ]
  },
  {
   "attachments": {},
   "cell_type": "markdown",
   "metadata": {},
   "source": [
    "#### Resultado del procedimiento anterior:"
   ]
  },
  {
   "cell_type": "code",
   "execution_count": 39,
   "metadata": {},
   "outputs": [
    {
     "data": {
      "text/html": [
       "<div>\n",
       "<style scoped>\n",
       "    .dataframe tbody tr th:only-of-type {\n",
       "        vertical-align: middle;\n",
       "    }\n",
       "\n",
       "    .dataframe tbody tr th {\n",
       "        vertical-align: top;\n",
       "    }\n",
       "\n",
       "    .dataframe thead th {\n",
       "        text-align: right;\n",
       "    }\n",
       "</style>\n",
       "<table border=\"1\" class=\"dataframe\">\n",
       "  <thead>\n",
       "    <tr style=\"text-align: right;\">\n",
       "      <th></th>\n",
       "      <th>dict</th>\n",
       "      <th>movie_id</th>\n",
       "      <th>cast_id</th>\n",
       "      <th>character</th>\n",
       "      <th>gender</th>\n",
       "      <th>id</th>\n",
       "      <th>name</th>\n",
       "      <th>order</th>\n",
       "      <th>profile_path</th>\n",
       "    </tr>\n",
       "  </thead>\n",
       "  <tbody>\n",
       "    <tr>\n",
       "      <th>0</th>\n",
       "      <td>{'cast_id': 14, 'character': 'Woody (voice)', ...</td>\n",
       "      <td>862</td>\n",
       "      <td>14</td>\n",
       "      <td>Woody (voice)</td>\n",
       "      <td>2</td>\n",
       "      <td>31</td>\n",
       "      <td>Tom Hanks</td>\n",
       "      <td>0</td>\n",
       "      <td>/pQFoyx7rp09CJTAb932F2g8Nlho.jpg</td>\n",
       "    </tr>\n",
       "    <tr>\n",
       "      <th>1</th>\n",
       "      <td>{'cast_id': 15, 'character': 'Buzz Lightyear (...</td>\n",
       "      <td>862</td>\n",
       "      <td>15</td>\n",
       "      <td>Buzz Lightyear (voice)</td>\n",
       "      <td>2</td>\n",
       "      <td>12898</td>\n",
       "      <td>Tim Allen</td>\n",
       "      <td>1</td>\n",
       "      <td>/uX2xVf6pMmPepxnvFWyBtjexzgY.jpg</td>\n",
       "    </tr>\n",
       "    <tr>\n",
       "      <th>2</th>\n",
       "      <td>{'cast_id': 16, 'character': 'Mr. Potato Head ...</td>\n",
       "      <td>862</td>\n",
       "      <td>16</td>\n",
       "      <td>Mr. Potato Head (voice)</td>\n",
       "      <td>2</td>\n",
       "      <td>7167</td>\n",
       "      <td>Don Rickles</td>\n",
       "      <td>2</td>\n",
       "      <td>/h5BcaDMPRVLHLDzbQavec4xfSdt.jpg</td>\n",
       "    </tr>\n",
       "  </tbody>\n",
       "</table>\n",
       "</div>"
      ],
      "text/plain": [
       "                                                dict  movie_id  cast_id  \\\n",
       "0  {'cast_id': 14, 'character': 'Woody (voice)', ...       862       14   \n",
       "1  {'cast_id': 15, 'character': 'Buzz Lightyear (...       862       15   \n",
       "2  {'cast_id': 16, 'character': 'Mr. Potato Head ...       862       16   \n",
       "\n",
       "                 character  gender     id         name  order  \\\n",
       "0            Woody (voice)       2     31    Tom Hanks      0   \n",
       "1   Buzz Lightyear (voice)       2  12898    Tim Allen      1   \n",
       "2  Mr. Potato Head (voice)       2   7167  Don Rickles      2   \n",
       "\n",
       "                       profile_path  \n",
       "0  /pQFoyx7rp09CJTAb932F2g8Nlho.jpg  \n",
       "1  /uX2xVf6pMmPepxnvFWyBtjexzgY.jpg  \n",
       "2  /h5BcaDMPRVLHLDzbQavec4xfSdt.jpg  "
      ]
     },
     "execution_count": 39,
     "metadata": {},
     "output_type": "execute_result"
    }
   ],
   "source": [
    "cast.head(3)"
   ]
  },
  {
   "cell_type": "code",
   "execution_count": 40,
   "metadata": {},
   "outputs": [
    {
     "data": {
      "text/html": [
       "<div>\n",
       "<style scoped>\n",
       "    .dataframe tbody tr th:only-of-type {\n",
       "        vertical-align: middle;\n",
       "    }\n",
       "\n",
       "    .dataframe tbody tr th {\n",
       "        vertical-align: top;\n",
       "    }\n",
       "\n",
       "    .dataframe thead th {\n",
       "        text-align: right;\n",
       "    }\n",
       "</style>\n",
       "<table border=\"1\" class=\"dataframe\">\n",
       "  <thead>\n",
       "    <tr style=\"text-align: right;\">\n",
       "      <th></th>\n",
       "      <th>dict</th>\n",
       "      <th>movie_id</th>\n",
       "      <th>credit_id</th>\n",
       "      <th>department</th>\n",
       "      <th>gender</th>\n",
       "      <th>id</th>\n",
       "      <th>job</th>\n",
       "      <th>name</th>\n",
       "      <th>profile_path</th>\n",
       "    </tr>\n",
       "  </thead>\n",
       "  <tbody>\n",
       "    <tr>\n",
       "      <th>0</th>\n",
       "      <td>{'credit_id': '52fe4284c3a36847f8024f49', 'dep...</td>\n",
       "      <td>862</td>\n",
       "      <td>52fe4284c3a36847f8024f49</td>\n",
       "      <td>Directing</td>\n",
       "      <td>2</td>\n",
       "      <td>7879</td>\n",
       "      <td>Director</td>\n",
       "      <td>John Lasseter</td>\n",
       "      <td>/7EdqiNbr4FRjIhKHyPPdFfEEEFG.jpg</td>\n",
       "    </tr>\n",
       "    <tr>\n",
       "      <th>1</th>\n",
       "      <td>{'credit_id': '52fe4284c3a36847f8024f4f', 'dep...</td>\n",
       "      <td>862</td>\n",
       "      <td>52fe4284c3a36847f8024f4f</td>\n",
       "      <td>Writing</td>\n",
       "      <td>2</td>\n",
       "      <td>12891</td>\n",
       "      <td>Screenplay</td>\n",
       "      <td>Joss Whedon</td>\n",
       "      <td>/dTiVsuaTVTeGmvkhcyJvKp2A5kr.jpg</td>\n",
       "    </tr>\n",
       "    <tr>\n",
       "      <th>2</th>\n",
       "      <td>{'credit_id': '52fe4284c3a36847f8024f55', 'dep...</td>\n",
       "      <td>862</td>\n",
       "      <td>52fe4284c3a36847f8024f55</td>\n",
       "      <td>Writing</td>\n",
       "      <td>2</td>\n",
       "      <td>7</td>\n",
       "      <td>Screenplay</td>\n",
       "      <td>Andrew Stanton</td>\n",
       "      <td>/pvQWsu0qc8JFQhMVJkTHuexUAa1.jpg</td>\n",
       "    </tr>\n",
       "  </tbody>\n",
       "</table>\n",
       "</div>"
      ],
      "text/plain": [
       "                                                dict  movie_id  \\\n",
       "0  {'credit_id': '52fe4284c3a36847f8024f49', 'dep...       862   \n",
       "1  {'credit_id': '52fe4284c3a36847f8024f4f', 'dep...       862   \n",
       "2  {'credit_id': '52fe4284c3a36847f8024f55', 'dep...       862   \n",
       "\n",
       "                  credit_id department  gender     id         job  \\\n",
       "0  52fe4284c3a36847f8024f49  Directing       2   7879    Director   \n",
       "1  52fe4284c3a36847f8024f4f    Writing       2  12891  Screenplay   \n",
       "2  52fe4284c3a36847f8024f55    Writing       2      7  Screenplay   \n",
       "\n",
       "             name                      profile_path  \n",
       "0   John Lasseter  /7EdqiNbr4FRjIhKHyPPdFfEEEFG.jpg  \n",
       "1     Joss Whedon  /dTiVsuaTVTeGmvkhcyJvKp2A5kr.jpg  \n",
       "2  Andrew Stanton  /pvQWsu0qc8JFQhMVJkTHuexUAa1.jpg  "
      ]
     },
     "execution_count": 40,
     "metadata": {},
     "output_type": "execute_result"
    }
   ],
   "source": [
    "crew.head(3)"
   ]
  },
  {
   "attachments": {},
   "cell_type": "markdown",
   "metadata": {},
   "source": [
    "Como habia dicho antes, gracias a que la información este comprimida en diccionarios, es muy facil despues organizarla por columnas como lo que acabo de hacer"
   ]
  },
  {
   "cell_type": "code",
   "execution_count": 41,
   "metadata": {},
   "outputs": [
    {
     "name": "stdout",
     "output_type": "stream",
     "text": [
      "Columnas que dieron error en cast ['credit_id']\n",
      "Columnas que dieron error en crew []\n"
     ]
    }
   ],
   "source": [
    "print('Columnas que dieron error en cast',column_fails_cast)\n",
    "print('Columnas que dieron error en crew',column_fails_crew)"
   ]
  },
  {
   "cell_type": "code",
   "execution_count": 43,
   "metadata": {},
   "outputs": [],
   "source": [
    "# Creo la columan de credit_id vacia\n",
    "cast['credit_id'] = np.nan\n",
    "\n",
    "# Reliazo un procedimiento parecido pero para la columna 'credit_id'\n",
    "indexes_fail = [] # Una lista para alojar los indices que no se pudieron agregar a la columna 'credit_id'\n",
    "\n",
    "# Itero la columna 'dict', obteniendo el index de la fila y el valor\n",
    "for index, dicc in enumerate(cast.dict):\n",
    "    try: # Intento acceder a cada valor de la clave 'credit_id' del diccionario en 'dict'\n",
    "        # y una vez extraido ese valor lo inserto en la nueva columna 'credit_id'\n",
    "        cast.at[index, 'credit_id'] = dicc['credit_id']\n",
    "    except KeyError: # Si algun valor falla, que lo inserte en la lista creada arriba\n",
    "        indexes_fail.append(index)"
   ]
  },
  {
   "cell_type": "code",
   "execution_count": 44,
   "metadata": {},
   "outputs": [
    {
     "data": {
      "text/plain": [
       "[135724, 498466, 537045]"
      ]
     },
     "execution_count": 44,
     "metadata": {},
     "output_type": "execute_result"
    }
   ],
   "source": [
    "indexes_fail # Indices de los valores que fallaron"
   ]
  },
  {
   "attachments": {},
   "cell_type": "markdown",
   "metadata": {},
   "source": [
    "Actualizo manualmente estos valores ya que son solo tres filas"
   ]
  },
  {
   "cell_type": "code",
   "execution_count": 45,
   "metadata": {},
   "outputs": [
    {
     "name": "stdout",
     "output_type": "stream",
     "text": [
      "{'cast_id': 5, 'character': 'Clips from For Me and My Gal', 'Easter Parade, & Girl Crazyetc (archive footage), credit_id': '567807ecc3a3681689008d0e', 'gender': 1, 'id': 9066, 'name': 'Judy Garland', 'order': 2, 'profile_path': '/r2p0SpwpkDc5hhg7hqbar9bKMox.jpg'}\n",
      "{'cast_id': 1, 'character': 'Private detective Kogorô Akechi (2x); A man; Masaki (story Imomushi', 'Kagami jigoku, Kasei no unga, and Mushi), credit_id': '52fe4731c3a36847f81285ab', 'gender': 2, 'id': 13275, 'name': 'Tadanobu Asano', 'order': 0, 'profile_path': '/zlZsST8s1Apm6D6bCyYeWrCKZCy.jpg'}\n",
      "{'cast_id': 5, 'character': 'Erkki Uolevi Lahti, Dynamiitti-Lahti', 'Tyny, credit_id': '58aac76092514141a0001ddf', 'gender': 2, 'id': 110772, 'name': 'Harri Hyttinen', 'order': 6, 'profile_path': 'None'}\n"
     ]
    }
   ],
   "source": [
    "for i in cast.iloc[indexes_fail].dict:\n",
    "    print(i)"
   ]
  },
  {
   "attachments": {},
   "cell_type": "markdown",
   "metadata": {},
   "source": [
    "Como se puede ver arriba, hubo un mal interpretamiento en las claves ya que cada fila tiene comas en los valores de 'character', corrompiendo asi la clave de 'credit_id'."
   ]
  },
  {
   "cell_type": "code",
   "execution_count": 46,
   "metadata": {},
   "outputs": [],
   "source": [
    "# Estos son los valores reales de la clave 'credit_id'\n",
    "credits_id_fixed = ['567807ecc3a3681689008d0e','52fe4731c3a36847f81285ab','58aac76092514141a0001ddf']"
   ]
  },
  {
   "attachments": {},
   "cell_type": "markdown",
   "metadata": {},
   "source": [
    "Actualizo estos mismos de una manera rapida. "
   ]
  },
  {
   "cell_type": "code",
   "execution_count": 51,
   "metadata": {},
   "outputs": [],
   "source": [
    "cast.at[135733, 'credit_id'] = '567807ecc3a3681689008d0e'\n",
    "cast.at[498861, 'credit_id'] = '52fe4731c3a36847f81285ab'\n",
    "cast.at[537459, 'credit_id'] = '58aac76092514141a0001ddf'"
   ]
  },
  {
   "cell_type": "code",
   "execution_count": 56,
   "metadata": {},
   "outputs": [
    {
     "data": {
      "text/html": [
       "<div>\n",
       "<style scoped>\n",
       "    .dataframe tbody tr th:only-of-type {\n",
       "        vertical-align: middle;\n",
       "    }\n",
       "\n",
       "    .dataframe tbody tr th {\n",
       "        vertical-align: top;\n",
       "    }\n",
       "\n",
       "    .dataframe thead th {\n",
       "        text-align: right;\n",
       "    }\n",
       "</style>\n",
       "<table border=\"1\" class=\"dataframe\">\n",
       "  <thead>\n",
       "    <tr style=\"text-align: right;\">\n",
       "      <th></th>\n",
       "      <th>dict</th>\n",
       "      <th>movie_id</th>\n",
       "      <th>cast_id</th>\n",
       "      <th>character</th>\n",
       "      <th>gender</th>\n",
       "      <th>id</th>\n",
       "      <th>name</th>\n",
       "      <th>order</th>\n",
       "      <th>profile_path</th>\n",
       "      <th>credit_id</th>\n",
       "    </tr>\n",
       "  </thead>\n",
       "  <tbody>\n",
       "    <tr>\n",
       "      <th>0</th>\n",
       "      <td>{'cast_id': 14, 'character': 'Woody (voice)', ...</td>\n",
       "      <td>862.0</td>\n",
       "      <td>14.0</td>\n",
       "      <td>Woody (voice)</td>\n",
       "      <td>2.0</td>\n",
       "      <td>31.0</td>\n",
       "      <td>Tom Hanks</td>\n",
       "      <td>0.0</td>\n",
       "      <td>/pQFoyx7rp09CJTAb932F2g8Nlho.jpg</td>\n",
       "      <td>52fe4284c3a36847f8024f95</td>\n",
       "    </tr>\n",
       "    <tr>\n",
       "      <th>1</th>\n",
       "      <td>{'cast_id': 15, 'character': 'Buzz Lightyear (...</td>\n",
       "      <td>862.0</td>\n",
       "      <td>15.0</td>\n",
       "      <td>Buzz Lightyear (voice)</td>\n",
       "      <td>2.0</td>\n",
       "      <td>12898.0</td>\n",
       "      <td>Tim Allen</td>\n",
       "      <td>1.0</td>\n",
       "      <td>/uX2xVf6pMmPepxnvFWyBtjexzgY.jpg</td>\n",
       "      <td>52fe4284c3a36847f8024f99</td>\n",
       "    </tr>\n",
       "    <tr>\n",
       "      <th>2</th>\n",
       "      <td>{'cast_id': 16, 'character': 'Mr. Potato Head ...</td>\n",
       "      <td>862.0</td>\n",
       "      <td>16.0</td>\n",
       "      <td>Mr. Potato Head (voice)</td>\n",
       "      <td>2.0</td>\n",
       "      <td>7167.0</td>\n",
       "      <td>Don Rickles</td>\n",
       "      <td>2.0</td>\n",
       "      <td>/h5BcaDMPRVLHLDzbQavec4xfSdt.jpg</td>\n",
       "      <td>52fe4284c3a36847f8024f9d</td>\n",
       "    </tr>\n",
       "  </tbody>\n",
       "</table>\n",
       "</div>"
      ],
      "text/plain": [
       "                                                dict  movie_id  cast_id  \\\n",
       "0  {'cast_id': 14, 'character': 'Woody (voice)', ...     862.0     14.0   \n",
       "1  {'cast_id': 15, 'character': 'Buzz Lightyear (...     862.0     15.0   \n",
       "2  {'cast_id': 16, 'character': 'Mr. Potato Head ...     862.0     16.0   \n",
       "\n",
       "                 character  gender       id         name  order  \\\n",
       "0            Woody (voice)     2.0     31.0    Tom Hanks    0.0   \n",
       "1   Buzz Lightyear (voice)     2.0  12898.0    Tim Allen    1.0   \n",
       "2  Mr. Potato Head (voice)     2.0   7167.0  Don Rickles    2.0   \n",
       "\n",
       "                       profile_path                 credit_id  \n",
       "0  /pQFoyx7rp09CJTAb932F2g8Nlho.jpg  52fe4284c3a36847f8024f95  \n",
       "1  /uX2xVf6pMmPepxnvFWyBtjexzgY.jpg  52fe4284c3a36847f8024f99  \n",
       "2  /h5BcaDMPRVLHLDzbQavec4xfSdt.jpg  52fe4284c3a36847f8024f9d  "
      ]
     },
     "execution_count": 56,
     "metadata": {},
     "output_type": "execute_result"
    }
   ],
   "source": [
    "cast.head(3)"
   ]
  },
  {
   "attachments": {},
   "cell_type": "markdown",
   "metadata": {},
   "source": [
    "Ahora con todas las nuevas columnas creadas, elimino 'profile_path' y 'dict' ya que no las necesito"
   ]
  },
  {
   "cell_type": "code",
   "execution_count": 57,
   "metadata": {},
   "outputs": [],
   "source": [
    "cast = cast.drop(columns={'dict','profile_path'})\n",
    "crew = crew.drop(columns={'dict','profile_path'})"
   ]
  },
  {
   "attachments": {},
   "cell_type": "markdown",
   "metadata": {},
   "source": [
    "#### Con estos cambios y transformaciones, se puede ver que la información esta mucho mas organizada y limpia, obteniendo en cada campo un valor en especifico en vez de tener un diccionario entero"
   ]
  },
  {
   "cell_type": "code",
   "execution_count": 58,
   "metadata": {},
   "outputs": [
    {
     "data": {
      "text/html": [
       "<div>\n",
       "<style scoped>\n",
       "    .dataframe tbody tr th:only-of-type {\n",
       "        vertical-align: middle;\n",
       "    }\n",
       "\n",
       "    .dataframe tbody tr th {\n",
       "        vertical-align: top;\n",
       "    }\n",
       "\n",
       "    .dataframe thead th {\n",
       "        text-align: right;\n",
       "    }\n",
       "</style>\n",
       "<table border=\"1\" class=\"dataframe\">\n",
       "  <thead>\n",
       "    <tr style=\"text-align: right;\">\n",
       "      <th></th>\n",
       "      <th>movie_id</th>\n",
       "      <th>cast_id</th>\n",
       "      <th>character</th>\n",
       "      <th>gender</th>\n",
       "      <th>id</th>\n",
       "      <th>name</th>\n",
       "      <th>order</th>\n",
       "      <th>credit_id</th>\n",
       "    </tr>\n",
       "  </thead>\n",
       "  <tbody>\n",
       "    <tr>\n",
       "      <th>0</th>\n",
       "      <td>862.0</td>\n",
       "      <td>14.0</td>\n",
       "      <td>Woody (voice)</td>\n",
       "      <td>2.0</td>\n",
       "      <td>31.0</td>\n",
       "      <td>Tom Hanks</td>\n",
       "      <td>0.0</td>\n",
       "      <td>52fe4284c3a36847f8024f95</td>\n",
       "    </tr>\n",
       "    <tr>\n",
       "      <th>1</th>\n",
       "      <td>862.0</td>\n",
       "      <td>15.0</td>\n",
       "      <td>Buzz Lightyear (voice)</td>\n",
       "      <td>2.0</td>\n",
       "      <td>12898.0</td>\n",
       "      <td>Tim Allen</td>\n",
       "      <td>1.0</td>\n",
       "      <td>52fe4284c3a36847f8024f99</td>\n",
       "    </tr>\n",
       "    <tr>\n",
       "      <th>2</th>\n",
       "      <td>862.0</td>\n",
       "      <td>16.0</td>\n",
       "      <td>Mr. Potato Head (voice)</td>\n",
       "      <td>2.0</td>\n",
       "      <td>7167.0</td>\n",
       "      <td>Don Rickles</td>\n",
       "      <td>2.0</td>\n",
       "      <td>52fe4284c3a36847f8024f9d</td>\n",
       "    </tr>\n",
       "    <tr>\n",
       "      <th>3</th>\n",
       "      <td>862.0</td>\n",
       "      <td>17.0</td>\n",
       "      <td>Slinky Dog (voice)</td>\n",
       "      <td>2.0</td>\n",
       "      <td>12899.0</td>\n",
       "      <td>Jim Varney</td>\n",
       "      <td>3.0</td>\n",
       "      <td>52fe4284c3a36847f8024fa1</td>\n",
       "    </tr>\n",
       "    <tr>\n",
       "      <th>4</th>\n",
       "      <td>862.0</td>\n",
       "      <td>18.0</td>\n",
       "      <td>Rex (voice)</td>\n",
       "      <td>2.0</td>\n",
       "      <td>12900.0</td>\n",
       "      <td>Wallace Shawn</td>\n",
       "      <td>4.0</td>\n",
       "      <td>52fe4284c3a36847f8024fa5</td>\n",
       "    </tr>\n",
       "  </tbody>\n",
       "</table>\n",
       "</div>"
      ],
      "text/plain": [
       "   movie_id  cast_id                character  gender       id           name  \\\n",
       "0     862.0     14.0            Woody (voice)     2.0     31.0      Tom Hanks   \n",
       "1     862.0     15.0   Buzz Lightyear (voice)     2.0  12898.0      Tim Allen   \n",
       "2     862.0     16.0  Mr. Potato Head (voice)     2.0   7167.0    Don Rickles   \n",
       "3     862.0     17.0       Slinky Dog (voice)     2.0  12899.0     Jim Varney   \n",
       "4     862.0     18.0              Rex (voice)     2.0  12900.0  Wallace Shawn   \n",
       "\n",
       "   order                 credit_id  \n",
       "0    0.0  52fe4284c3a36847f8024f95  \n",
       "1    1.0  52fe4284c3a36847f8024f99  \n",
       "2    2.0  52fe4284c3a36847f8024f9d  \n",
       "3    3.0  52fe4284c3a36847f8024fa1  \n",
       "4    4.0  52fe4284c3a36847f8024fa5  "
      ]
     },
     "execution_count": 58,
     "metadata": {},
     "output_type": "execute_result"
    }
   ],
   "source": [
    "cast.head()"
   ]
  },
  {
   "cell_type": "code",
   "execution_count": 59,
   "metadata": {},
   "outputs": [
    {
     "data": {
      "text/html": [
       "<div>\n",
       "<style scoped>\n",
       "    .dataframe tbody tr th:only-of-type {\n",
       "        vertical-align: middle;\n",
       "    }\n",
       "\n",
       "    .dataframe tbody tr th {\n",
       "        vertical-align: top;\n",
       "    }\n",
       "\n",
       "    .dataframe thead th {\n",
       "        text-align: right;\n",
       "    }\n",
       "</style>\n",
       "<table border=\"1\" class=\"dataframe\">\n",
       "  <thead>\n",
       "    <tr style=\"text-align: right;\">\n",
       "      <th></th>\n",
       "      <th>movie_id</th>\n",
       "      <th>credit_id</th>\n",
       "      <th>department</th>\n",
       "      <th>gender</th>\n",
       "      <th>id</th>\n",
       "      <th>job</th>\n",
       "      <th>name</th>\n",
       "    </tr>\n",
       "  </thead>\n",
       "  <tbody>\n",
       "    <tr>\n",
       "      <th>0</th>\n",
       "      <td>862</td>\n",
       "      <td>52fe4284c3a36847f8024f49</td>\n",
       "      <td>Directing</td>\n",
       "      <td>2</td>\n",
       "      <td>7879</td>\n",
       "      <td>Director</td>\n",
       "      <td>John Lasseter</td>\n",
       "    </tr>\n",
       "    <tr>\n",
       "      <th>1</th>\n",
       "      <td>862</td>\n",
       "      <td>52fe4284c3a36847f8024f4f</td>\n",
       "      <td>Writing</td>\n",
       "      <td>2</td>\n",
       "      <td>12891</td>\n",
       "      <td>Screenplay</td>\n",
       "      <td>Joss Whedon</td>\n",
       "    </tr>\n",
       "    <tr>\n",
       "      <th>2</th>\n",
       "      <td>862</td>\n",
       "      <td>52fe4284c3a36847f8024f55</td>\n",
       "      <td>Writing</td>\n",
       "      <td>2</td>\n",
       "      <td>7</td>\n",
       "      <td>Screenplay</td>\n",
       "      <td>Andrew Stanton</td>\n",
       "    </tr>\n",
       "    <tr>\n",
       "      <th>3</th>\n",
       "      <td>862</td>\n",
       "      <td>52fe4284c3a36847f8024f5b</td>\n",
       "      <td>Writing</td>\n",
       "      <td>2</td>\n",
       "      <td>12892</td>\n",
       "      <td>Screenplay</td>\n",
       "      <td>Joel Cohen</td>\n",
       "    </tr>\n",
       "    <tr>\n",
       "      <th>4</th>\n",
       "      <td>862</td>\n",
       "      <td>52fe4284c3a36847f8024f61</td>\n",
       "      <td>Writing</td>\n",
       "      <td>0</td>\n",
       "      <td>12893</td>\n",
       "      <td>Screenplay</td>\n",
       "      <td>Alec Sokolow</td>\n",
       "    </tr>\n",
       "  </tbody>\n",
       "</table>\n",
       "</div>"
      ],
      "text/plain": [
       "   movie_id                 credit_id department  gender     id         job  \\\n",
       "0       862  52fe4284c3a36847f8024f49  Directing       2   7879    Director   \n",
       "1       862  52fe4284c3a36847f8024f4f    Writing       2  12891  Screenplay   \n",
       "2       862  52fe4284c3a36847f8024f55    Writing       2      7  Screenplay   \n",
       "3       862  52fe4284c3a36847f8024f5b    Writing       2  12892  Screenplay   \n",
       "4       862  52fe4284c3a36847f8024f61    Writing       0  12893  Screenplay   \n",
       "\n",
       "             name  \n",
       "0   John Lasseter  \n",
       "1     Joss Whedon  \n",
       "2  Andrew Stanton  \n",
       "3      Joel Cohen  \n",
       "4    Alec Sokolow  "
      ]
     },
     "execution_count": 59,
     "metadata": {},
     "output_type": "execute_result"
    }
   ],
   "source": [
    "crew.head()"
   ]
  },
  {
   "attachments": {},
   "cell_type": "markdown",
   "metadata": {},
   "source": [
    "Finalmente, con toda la data limpia y organizada como corresponde, procedo a exportar los dataframe como archivos 'csv' para su posterior tratamiento"
   ]
  },
  {
   "cell_type": "code",
   "execution_count": 60,
   "metadata": {},
   "outputs": [],
   "source": [
    "cast.to_csv('../clean_data/final_cast.csv',sep=',',index=False)\n",
    "crew.to_csv('../clean_data/final_crew.csv',sep=',',index=False)"
   ]
  }
 ],
 "metadata": {
  "kernelspec": {
   "display_name": "Python 3",
   "language": "python",
   "name": "python3"
  },
  "language_info": {
   "codemirror_mode": {
    "name": "ipython",
    "version": 3
   },
   "file_extension": ".py",
   "mimetype": "text/x-python",
   "name": "python",
   "nbconvert_exporter": "python",
   "pygments_lexer": "ipython3",
   "version": "3.10.11"
  },
  "orig_nbformat": 4
 },
 "nbformat": 4,
 "nbformat_minor": 2
}
